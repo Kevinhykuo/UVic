{
 "cells": [
  {
   "cell_type": "markdown",
   "metadata": {
    "inputHidden": false,
    "outputHidden": false
   },
   "source": [
    "## Tilted Frame"
   ]
  },
  {
   "cell_type": "code",
   "execution_count": null,
   "metadata": {
    "inputHidden": false,
    "outputHidden": false
   },
   "outputs": [],
   "source": [
    "import math as m\n",
    "import matplotlib.pyplot as plt\n",
    "import sympy as sym\n",
    "from sympy import Symbol, Matrix, cos, sin, init_printing, simplify, diff\n",
    "from sympy import *\n",
    "from math import pi\n",
    "from fractions import Fraction\n",
    "from sympy.physics.vector import dynamicsymbols\n",
    "from sympy.physics.mechanics import *\n",
    "from sympy.functions import transpose\n",
    "sym.init_printing(use_latex='mathjax')\n",
    "init_vprinting() # Use dots for time derivatives\n",
    "\n",
    "# Symbols\n",
    "M = Symbol('M')\n",
    "m = Symbol('m')\n",
    "R = Symbol('R')\n",
    "g = Symbol('g')\n",
    "t = Symbol('t')\n",
    "theta, phi, psi, x, y, z = dynamicsymbols('theta phi psi x y z')\n",
    "\n",
    "# Time derivatives of symbols\n",
    "thetad, phid, psid, xd, yd, zd = dynamicsymbols('theta phi psi x y z', 1)"
   ]
  },
  {
   "cell_type": "markdown",
   "metadata": {},
   "source": [
    "#### Angular velocity in tilted frame"
   ]
  },
  {
   "cell_type": "code",
   "execution_count": null,
   "metadata": {
    "inputHidden": false,
    "outputHidden": false
   },
   "outputs": [],
   "source": [
    "omegaT = Matrix([thetad, phid*sin(theta), phid*cos(theta)+psid])\n",
    "omegaT"
   ]
  },
  {
   "cell_type": "code",
   "execution_count": null,
   "metadata": {
    "inputHidden": false,
    "outputHidden": false
   },
   "outputs": [],
   "source": [
    "omegaT_T = transpose(omegaT)\n",
    "omegaT_T"
   ]
  },
  {
   "cell_type": "code",
   "execution_count": null,
   "metadata": {
    "inputHidden": false,
    "outputHidden": false
   },
   "outputs": [],
   "source": [
    "# Question 2\n",
    "# ==========\n",
    "I2 = Matrix([ [1, 0, 0], [0, 1, 0], [0, 0, 2] ]) # Remember to multiply by 1/4 MR^2 !!!\n",
    "I2"
   ]
  },
  {
   "cell_type": "code",
   "execution_count": null,
   "metadata": {
    "inputHidden": false,
    "outputHidden": false
   },
   "outputs": [],
   "source": [
    "T2R = (omegaT_T*I2*omegaT).simplify()\n",
    "T2r = T2R[0].simplify() # Remember to multiply by (1/2)(1/4)(MR^2 omega^2) !!!\n",
    "T2 = (1/8)*M*(R**2)*T2r + 0.5*M*zd**2\n",
    "T2"
   ]
  },
  {
   "cell_type": "code",
   "execution_count": null,
   "metadata": {
    "inputHidden": false,
    "outputHidden": false
   },
   "outputs": [],
   "source": [
    "V2 = M*g*R*cos(theta)\n",
    "V2"
   ]
  },
  {
   "cell_type": "code",
   "execution_count": null,
   "metadata": {
    "inputHidden": false,
    "outputHidden": false
   },
   "outputs": [],
   "source": [
    "L2 = (T2 - V2).simplify()\n",
    "L2"
   ]
  },
  {
   "cell_type": "code",
   "execution_count": null,
   "metadata": {
    "inputHidden": false,
    "outputHidden": false
   },
   "outputs": [],
   "source": [
    "LM2 = LagrangesMethod(L2, [psi, theta, phi, z], nonhol_coneqs=[zd + thetad*R*sin(theta)])\n",
    "EoM2 = LM2.form_lagranges_equations()\n",
    "\n",
    "# Simplfy the equations of motion\n",
    "EOM2 = Matrix([EoM2[0].simplify(), EoM2[1].simplify(), EoM2[2].simplify(), EoM2[3].simplify()])\n",
    "EOM2"
   ]
  },
  {
   "cell_type": "code",
   "execution_count": null,
   "metadata": {
    "inputHidden": false,
    "outputHidden": false
   },
   "outputs": [],
   "source": [
    "# Question 3\n",
    "# ==========\n",
    "# Matrix to shift the ring\n",
    "A = Matrix([ [1, 0, 0, -R*sin(theta)*cos(phi)], [0, 1, 0, -R*sin(theta)*sin(phi)], [0, 0, 1, R*cos(theta)], [0, 0, 0, 1] ])\n",
    "A"
   ]
  },
  {
   "cell_type": "code",
   "execution_count": null,
   "metadata": {
    "inputHidden": false,
    "outputHidden": false
   },
   "outputs": [],
   "source": [
    "I3 = I2 # Remember to multiply by 1/2 MR^2 !!!\n",
    "I31 = I3.row_insert(3, Matrix([[0, 0, 0]]))\n",
    "I32 = I31.col_insert(3, Matrix([0, 0, 0, 1]))\n",
    "I32\n",
    "\n",
    "I3_new = (A*I32*(A**-1))\n",
    "I3_new"
   ]
  },
  {
   "cell_type": "code",
   "execution_count": null,
   "metadata": {
    "inputHidden": false,
    "outputHidden": false
   },
   "outputs": [],
   "source": [
    "omega3 = omegaT.row_insert(3, Matrix([1]))\n",
    "omega3T = transpose(omega3)\n",
    "omega3"
   ]
  },
  {
   "cell_type": "code",
   "execution_count": null,
   "metadata": {
    "inputHidden": false,
    "outputHidden": false
   },
   "outputs": [],
   "source": [
    "T3r = (omega3T*I3_new*omega3).simplify()\n",
    "T3R = T3r[0] # This is just the kinetic energy from rotation\n",
    "T3 = ((1/4)*m*R**2 * T3R + (m/2)*(xd**2 + yd**2 + zd**2)).simplify()\n",
    "T3"
   ]
  },
  {
   "cell_type": "code",
   "execution_count": null,
   "metadata": {
    "inputHidden": false,
    "outputHidden": false
   },
   "outputs": [],
   "source": [
    "V3 = m*g*z\n",
    "V3"
   ]
  },
  {
   "cell_type": "code",
   "execution_count": null,
   "metadata": {
    "inputHidden": false,
    "outputHidden": false
   },
   "outputs": [],
   "source": [
    "L3 = (T3 - V3).simplify()\n",
    "L3"
   ]
  },
  {
   "cell_type": "code",
   "execution_count": null,
   "metadata": {
    "inputHidden": false,
    "outputHidden": false
   },
   "outputs": [],
   "source": [
    "LM3 = LagrangesMethod(L3, [psi, theta, phi, x, y, z], nonhol_coneqs=[zd + thetad*R*sin(theta)]) #, nonhol_coneqs=[zd - thetad*R*cos(theta)])\n",
    "EoM3 = LM3.form_lagranges_equations()\n",
    "\n",
    "# Simplfy the monstrosity\n",
    "EOM3 = Matrix([EoM3[0].simplify(), EoM3[1].simplify(), EoM3[2].simplify(), EoM3[3].simplify(), EoM3[4].simplify(), EoM3[5].simplify()])\n",
    "EOM3"
   ]
  }
 ],
 "metadata": {
  "kernelspec": {
   "display_name": "Python 3",
   "language": "python",
   "name": "python3"
  },
  "language_info": {
   "codemirror_mode": {
    "name": "ipython",
    "version": 3
   },
   "file_extension": ".py",
   "mimetype": "text/x-python",
   "name": "python",
   "nbconvert_exporter": "python",
   "pygments_lexer": "ipython3",
   "version": "3.6.4"
  },
  "latex_envs": {
   "LaTeX_envs_menu_present": true,
   "autoclose": false,
   "autocomplete": true,
   "bibliofile": "biblio.bib",
   "cite_by": "apalike",
   "current_citInitial": 1,
   "eqLabelWithNumbers": true,
   "eqNumInitial": 1,
   "hotkeys": {
    "equation": "Ctrl-E",
    "itemize": "Ctrl-I"
   },
   "labels_anchors": false,
   "latex_user_defs": false,
   "report_style_numbering": false,
   "user_envs_cfg": false
  },
  "toc": {
   "base_numbering": 1,
   "nav_menu": {},
   "number_sections": false,
   "sideBar": true,
   "skip_h1_title": false,
   "title_cell": "Table of Contents",
   "title_sidebar": "Contents",
   "toc_cell": false,
   "toc_position": {},
   "toc_section_display": true,
   "toc_window_display": false
  }
 },
 "nbformat": 4,
 "nbformat_minor": 4
}

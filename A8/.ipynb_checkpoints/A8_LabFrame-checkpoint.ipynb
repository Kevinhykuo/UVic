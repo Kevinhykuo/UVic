{
 "cells": [
  {
   "cell_type": "markdown",
   "metadata": {
    "inputHidden": false,
    "outputHidden": false
   },
   "source": [
    "PHYS 321B \n",
    "\n",
    "# Assignment #8"
   ]
  },
  {
   "cell_type": "markdown",
   "metadata": {},
   "source": [
    "## Setting things up"
   ]
  },
  {
   "cell_type": "code",
   "execution_count": 64,
   "metadata": {
    "ExecuteTime": {
     "end_time": "2018-04-12T00:34:01.430107Z",
     "start_time": "2018-04-12T00:34:01.115913Z"
    },
    "inputHidden": false,
    "outputHidden": false,
    "scrolled": false
   },
   "outputs": [],
   "source": [
    "import math as m\n",
    "import matplotlib.pyplot as plt\n",
    "import sympy as sym\n",
    "from sympy import Symbol, Matrix, cos, sin, init_printing, simplify, diff\n",
    "from sympy import *\n",
    "from math import pi\n",
    "from fractions import Fraction\n",
    "from sympy.physics.vector import dynamicsymbols\n",
    "from sympy.physics.mechanics import *\n",
    "from sympy.functions import transpose\n",
    "sym.init_printing(use_latex='mathjax')\n",
    "init_vprinting() # Use dots for time derivatives\n",
    "\n",
    "# Symbols\n",
    "M = Symbol('M')\n",
    "m = Symbol('m')\n",
    "R = Symbol('R')\n",
    "g = Symbol('g')\n",
    "t = Symbol('t')\n",
    "theta, phi, psi, x, y, z = dynamicsymbols('theta phi psi x y z')\n",
    "\n",
    "# Time derivatives of symbols\n",
    "thetad, phid, psid, xd, yd, zd = dynamicsymbols('theta phi psi x y z', 1)\n",
    "\n",
    "# Rotation matricies\n",
    "Rx = Matrix([[1, 0, 0], [0, cos(theta), -sin(theta)], [0, sin(theta), cos(theta)]]) # Around x-axis\n",
    "Rz = Matrix([[cos(phi), -sin(phi), 0], [sin(phi), cos(phi), 0], [0, 0, 1]]) # Around z-axis\n",
    "\n",
    "# Rotation matrix transposes\n",
    "RxT = transpose(Rx)\n",
    "RzT = transpose(Rz)"
   ]
  },
  {
   "cell_type": "markdown",
   "metadata": {},
   "source": [
    "#### Rotation matrix"
   ]
  },
  {
   "cell_type": "code",
   "execution_count": 65,
   "metadata": {
    "ExecuteTime": {
     "end_time": "2018-04-12T00:34:02.512109Z",
     "start_time": "2018-04-12T00:34:01.439467Z"
    },
    "inputHidden": false,
    "outputHidden": false,
    "scrolled": false
   },
   "outputs": [
    {
     "data": {
      "image/png": "[encoded data removed]",
      "text/latex": [
       "$$\\left[\\begin{matrix}\\operatorname{cos}\\left(\\phi\\right) & - \\operatorname{sin}\\left(\\phi\\right) \\operatorname{cos}\\left(\\theta\\right) & \\operatorname{sin}\\left(\\phi\\right) \\operatorname{sin}\\left(\\theta\\right)\\\\\\operatorname{sin}\\left(\\phi\\right) & \\operatorname{cos}\\left(\\phi\\right) \\operatorname{cos}\\left(\\theta\\right) & - \\operatorname{sin}\\left(\\theta\\right) \\operatorname{cos}\\left(\\phi\\right)\\\\0 & \\operatorname{sin}\\left(\\theta\\right) & \\operatorname{cos}\\left(\\theta\\right)\\end{matrix}\\right]$$"
      ],
      "text/plain": [
       "⎡cos(φ)  -sin(φ)⋅cos(θ)  sin(φ)⋅sin(θ) ⎤\n",
       "⎢                                      ⎥\n",
       "⎢sin(φ)  cos(φ)⋅cos(θ)   -sin(θ)⋅cos(φ)⎥\n",
       "⎢                                      ⎥\n",
       "⎣  0         sin(θ)          cos(θ)    ⎦"
      ]
     },
     "execution_count": 65,
     "metadata": {},
     "output_type": "execute_result"
    }
   ],
   "source": [
    "Rot = simplify(Rz*Rx)\n",
    "Rot"
   ]
  },
  {
   "cell_type": "markdown",
   "metadata": {},
   "source": [
    "Transpose of the rotation matrix"
   ]
  },
  {
   "cell_type": "code",
   "execution_count": 66,
   "metadata": {
    "ExecuteTime": {
     "end_time": "2018-04-12T00:34:03.514027Z",
     "start_time": "2018-04-12T00:34:02.519021Z"
    },
    "inputHidden": false,
    "outputHidden": false,
    "scrolled": false
   },
   "outputs": [
    {
     "data": {
      "image/png": "[encoded data removed]",
      "text/latex": [
       "$$\\left[\\begin{matrix}\\operatorname{cos}\\left(\\phi\\right) & \\operatorname{sin}\\left(\\phi\\right) & 0\\\\- \\operatorname{sin}\\left(\\phi\\right) \\operatorname{cos}\\left(\\theta\\right) & \\operatorname{cos}\\left(\\phi\\right) \\operatorname{cos}\\left(\\theta\\right) & \\operatorname{sin}\\left(\\theta\\right)\\\\\\operatorname{sin}\\left(\\phi\\right) \\operatorname{sin}\\left(\\theta\\right) & - \\operatorname{sin}\\left(\\theta\\right) \\operatorname{cos}\\left(\\phi\\right) & \\operatorname{cos}\\left(\\theta\\right)\\end{matrix}\\right]$$"
      ],
      "text/plain": [
       "⎡    cos(φ)          sin(φ)        0   ⎤\n",
       "⎢                                      ⎥\n",
       "⎢-sin(φ)⋅cos(θ)  cos(φ)⋅cos(θ)   sin(θ)⎥\n",
       "⎢                                      ⎥\n",
       "⎣sin(φ)⋅sin(θ)   -sin(θ)⋅cos(φ)  cos(θ)⎦"
      ]
     },
     "execution_count": 66,
     "metadata": {},
     "output_type": "execute_result"
    }
   ],
   "source": [
    "RotT = simplify(RxT*RzT)\n",
    "RotT"
   ]
  },
  {
   "cell_type": "markdown",
   "metadata": {},
   "source": [
    "#### Total angular velocity vector "
   ]
  },
  {
   "cell_type": "code",
   "execution_count": 67,
   "metadata": {
    "ExecuteTime": {
     "end_time": "2018-04-12T00:34:04.010481Z",
     "start_time": "2018-04-12T00:34:03.521334Z"
    },
    "inputHidden": false,
    "outputHidden": false,
    "scrolled": false
   },
   "outputs": [
    {
     "data": {
      "image/png": "[encoded data removed]",
      "text/latex": [
       "$$\\left[\\begin{matrix}\\operatorname{cos}\\left(\\phi\\right) \\operatorname{cos}\\left(\\theta\\right) \\dot{\\psi} + \\operatorname{cos}\\left(\\phi\\right) \\dot{\\theta}\\\\\\operatorname{sin}\\left(\\phi\\right) \\operatorname{cos}\\left(\\theta\\right) \\dot{\\psi} + \\operatorname{sin}\\left(\\phi\\right) \\dot{\\theta}\\\\\\operatorname{sin}\\left(\\theta\\right) \\dot{\\psi} + \\dot{\\phi}\\end{matrix}\\right]$$"
      ],
      "text/plain": [
       "⎡cos(φ)⋅cos(θ)⋅ψ̇ + cos(φ)⋅θ̇⎤\n",
       "⎢                            ⎥\n",
       "⎢sin(φ)⋅cos(θ)⋅ψ̇ + sin(φ)⋅θ̇⎥\n",
       "⎢                            ⎥\n",
       "⎣       sin(θ)⋅ψ̇ + φ̇       ⎦"
      ]
     },
     "execution_count": 67,
     "metadata": {},
     "output_type": "execute_result"
    }
   ],
   "source": [
    "omega = Matrix([psid*cos(theta)*cos(phi)+thetad*cos(phi), psid*cos(theta)*sin(phi)+thetad*sin(phi), psid*sin(theta)+phid])\n",
    "omega"
   ]
  },
  {
   "cell_type": "markdown",
   "metadata": {},
   "source": [
    "Transpose of the angular velocity vector"
   ]
  },
  {
   "cell_type": "code",
   "execution_count": 68,
   "metadata": {
    "ExecuteTime": {
     "end_time": "2018-04-12T00:34:04.520226Z",
     "start_time": "2018-04-12T00:34:04.016736Z"
    },
    "inputHidden": false,
    "outputHidden": false,
    "scrolled": false
   },
   "outputs": [
    {
     "data": {
      "image/png": "[encoded data removed]",
      "text/latex": [
       "$$\\left[\\begin{matrix}\\operatorname{cos}\\left(\\phi\\right) \\operatorname{cos}\\left(\\theta\\right) \\dot{\\psi} + \\operatorname{cos}\\left(\\phi\\right) \\dot{\\theta} & \\operatorname{sin}\\left(\\phi\\right) \\operatorname{cos}\\left(\\theta\\right) \\dot{\\psi} + \\operatorname{sin}\\left(\\phi\\right) \\dot{\\theta} & \\operatorname{sin}\\left(\\theta\\right) \\dot{\\psi} + \\dot{\\phi}\\end{matrix}\\right]$$"
      ],
      "text/plain": [
       "[cos(φ)⋅cos(θ)⋅ψ̇ + cos(φ)⋅θ̇  sin(φ)⋅cos(θ)⋅ψ̇ + sin(φ)⋅θ̇  sin(θ)⋅ψ̇ + φ̇]"
      ]
     },
     "execution_count": 68,
     "metadata": {},
     "output_type": "execute_result"
    }
   ],
   "source": [
    "omegaT = transpose(omega)\n",
    "omegaT"
   ]
  },
  {
   "cell_type": "markdown",
   "metadata": {},
   "source": [
    "## Question 1\n"
   ]
  },
  {
   "cell_type": "code",
   "execution_count": 69,
   "metadata": {
    "ExecuteTime": {
     "end_time": "2018-04-12T00:34:05.050626Z",
     "start_time": "2018-04-12T00:34:04.525693Z"
    },
    "scrolled": false
   },
   "outputs": [
    {
     "data": {
      "image/png": "[encoded data removed]",
      "text/latex": [
       "$$\\left ( \\left[\\begin{matrix}\\frac{7933436421429817}{9444732965739290427392} & 0 & 0\\\\0 & \\frac{3432936120638297}{4722366482869645213696} & 0\\\\0 & 0 & \\frac{5967333563561757}{37778931862957161709568}\\end{matrix}\\right], \\quad \\left[\\begin{matrix}8.39985254237288 \\cdot 10^{-7} & 0 & 0\\\\0 & 7.269525 \\cdot 10^{-7} & 0\\\\0 & 0 & 1.57954004237288 \\cdot 10^{-7}\\end{matrix}\\right], \\quad 0.002669491525423729\\right )$$"
      ],
      "text/plain": [
       "⎛⎡   7933436421429817                                                    ⎤    \n",
       "⎜⎢──────────────────────            0                        0           ⎥    \n",
       "⎜⎢9444732965739290427392                                                 ⎥    \n",
       "⎜⎢                                                                       ⎥  ⎡8\n",
       "⎜⎢                           3432936120638297                            ⎥  ⎢ \n",
       "⎜⎢          0             ──────────────────────             0           ⎥, ⎢ \n",
       "⎜⎢                        4722366482869645213696                         ⎥  ⎢ \n",
       "⎜⎢                                                                       ⎥  ⎣ \n",
       "⎜⎢                                                    5967333563561757   ⎥    \n",
       "⎜⎢          0                       0             ───────────────────────⎥    \n",
       "⎝⎣                                                37778931862957161709568⎦    \n",
       "\n",
       "                                                                           ⎞\n",
       "                                                                           ⎟\n",
       "                                                                           ⎟\n",
       ".39985254237288e-7       0                0         ⎤                      ⎟\n",
       "                                                    ⎥                      ⎟\n",
       "        0           7.269525e-7           0         ⎥, 0.002669491525423729⎟\n",
       "                                                    ⎥                      ⎟\n",
       "        0                0       1.57954004237288e-7⎦                      ⎟\n",
       "                                                                           ⎟\n",
       "                                                                           ⎟\n",
       "                                                                           ⎠"
      ]
     },
     "execution_count": 69,
     "metadata": {},
     "output_type": "execute_result"
    }
   ],
   "source": [
    "# The moment of inertias functions (but without pi, need to multiply later)\n",
    "def Inertias(R1=5e-3, l1=50e-3, p1=2700, R2=3e-3, l2=25e-3, p2=2700):\n",
    "    R12 = R1**2\n",
    "    R22 = R2**2\n",
    "    M1 = R12*l1*p1\n",
    "    M2 = R22*l2*p2\n",
    "    dcm = (R22*l2*p2*(R1+l2/2)) / (R12*l1*p1 + R22*l2*p2)\n",
    "    I1h = (1/12)*M1*(l1**2 + 3*R12)\n",
    "    I2h = (1/12)*M2*(l2**2 + 3*R22)\n",
    "    I1v = (1/2)*M1*R12\n",
    "    I2v = (1/2)*M2*R22\n",
    "    Ixx = I1h + M1*dcm**2 + I2h + M2*(l2/2 - dcm)**2\n",
    "    Iyy = I1h + I2v\n",
    "    Izz = I1v + M1*dcm**2 + I2h + M2*(l2/2 - dcm)**2\n",
    "    IT1 = Matrix([[Fraction(Ixx), 0, 0],[0, Fraction(Iyy), 0], [0, 0, Fraction(Izz)]])\n",
    "    IT2 = Matrix([[Ixx, 0, 0],[0, Iyy, 0], [0, 0, Izz]])\n",
    "    return(IT1, IT2, dcm)\n",
    "\n",
    "Inertias() # First in fractions, then in decimals. Along with distance to center of mass. Must multiply by pi"
   ]
  },
  {
   "cell_type": "code",
   "execution_count": 70,
   "metadata": {
    "ExecuteTime": {
     "end_time": "2018-04-12T00:34:05.258976Z",
     "start_time": "2018-04-12T00:34:05.057041Z"
    }
   },
   "outputs": [
    {
     "name": "stdout",
     "output_type": "stream",
     "text": [
      "omega_fzy = -11.9795035012115\n",
      "omega_fzx = 2.37975369921164\n",
      "omega_fxy = -12.6553171330273\n",
      "omega_fxz = -12.6553171330273\n",
      "omega_fyx = -1.81512877222807\n",
      "omega_fyz = -12.6553171330273\n"
     ]
    }
   ],
   "source": [
    "# The components for the moments of inertias\n",
    "Ixx = Inertias()[0][0,0]*pi\n",
    "Iyy = Inertias()[0][1,1]*pi\n",
    "Izz = Inertias()[0][2,2]*pi\n",
    "\n",
    "# The rate of rotation\n",
    "omega_sq = 6*pi\n",
    "\n",
    "# Flipping components\n",
    "omega_fzy = omega_sq*(Iyy-Izz)*(Izz-Ixx)/(Iyy*Ixx)\n",
    "omega_fzy # Rotation around z, flip around y\n",
    "omega_fzx = omega_sq*(Izz-Ixx)*(Iyy-Ixx)/(Iyy*Ixx)\n",
    "omega_fzx # Rotation around z, flip around x\n",
    "omega_fxy = omega_sq*(Ixx-Iyy)*(Izz-Ixx)/(Iyy*Izz)\n",
    "omega_fxy # Rotation around x, flip around y\n",
    "omega_fxz = omega_sq*(Izz-Ixx)*(Ixx-Iyy)/(Iyy*Izz)\n",
    "omega_fxz # Rotation around x, flip around z\n",
    "omega_fyx = omega_sq*(Ixx-Iyy)*(Iyy-Ixx)/(Ixx*Izz)\n",
    "omega_fyx # Rotation around y, flip around x\n",
    "omega_fyz = omega_sq*(Iyy-Izz)*(Ixx-Iyy)/(Ixx*Izz)\n",
    "omega_fyz # Rotation around y, flip around z\n",
    "print('omega_fzy =', omega_fzy)\n",
    "print('omega_fzx =', omega_fzx)\n",
    "print('omega_fxy =', omega_fxy)\n",
    "print('omega_fxz =', omega_fxz)\n",
    "print('omega_fyx =', omega_fyx)\n",
    "print('omega_fyz =', omega_fxz)"
   ]
  },
  {
   "cell_type": "markdown",
   "metadata": {
    "inputHidden": false,
    "outputHidden": false
   },
   "source": [
    "## Question 2\n",
    "### Lab frame\n",
    "\n",
    "#### Moment of Intertia tensor"
   ]
  },
  {
   "cell_type": "code",
   "execution_count": 71,
   "metadata": {
    "ExecuteTime": {
     "end_time": "2018-04-12T00:34:08.359524Z",
     "start_time": "2018-04-12T00:34:05.264657Z"
    },
    "inputHidden": false,
    "outputHidden": false,
    "scrolled": false
   },
   "outputs": [
    {
     "data": {
      "image/png": "[encoded data removed]",
      "text/latex": [
       "$$\\left[\\begin{matrix}\\operatorname{sin}^{2}\\left(\\phi\\right) \\operatorname{sin}^{2}\\left(\\theta\\right) + 1 & - \\operatorname{sin}\\left(\\phi\\right) \\operatorname{sin}^{2}\\left(\\theta\\right) \\operatorname{cos}\\left(\\phi\\right) & \\frac{1}{4} \\operatorname{cos}\\left(\\phi - 2 \\theta\\right) - \\frac{1}{4} \\operatorname{cos}\\left(\\phi + 2 \\theta\\right)\\\\- \\operatorname{sin}\\left(\\phi\\right) \\operatorname{sin}^{2}\\left(\\theta\\right) \\operatorname{cos}\\left(\\phi\\right) & - \\operatorname{sin}^{2}\\left(\\phi\\right) \\operatorname{sin}^{2}\\left(\\theta\\right) + \\operatorname{sin}^{2}\\left(\\theta\\right) + 1 & \\frac{1}{4} \\operatorname{sin}\\left(\\phi - 2 \\theta\\right) - \\frac{1}{4} \\operatorname{sin}\\left(\\phi + 2 \\theta\\right)\\\\\\frac{1}{4} \\operatorname{cos}\\left(\\phi - 2 \\theta\\right) - \\frac{1}{4} \\operatorname{cos}\\left(\\phi + 2 \\theta\\right) & \\frac{1}{4} \\operatorname{sin}\\left(\\phi - 2 \\theta\\right) - \\frac{1}{4} \\operatorname{sin}\\left(\\phi + 2 \\theta\\right) & \\operatorname{cos}^{2}\\left(\\theta\\right) + 1\\end{matrix}\\right]$$"
      ],
      "text/plain": [
       "⎡       2       2                            2                 cos(φ - 2⋅θ)   \n",
       "⎢    sin (φ)⋅sin (θ) + 1          -sin(φ)⋅sin (θ)⋅cos(φ)       ──────────── - \n",
       "⎢                                                                   4         \n",
       "⎢                                                                             \n",
       "⎢             2                    2       2         2         sin(φ - 2⋅θ)   \n",
       "⎢  -sin(φ)⋅sin (θ)⋅cos(φ)     - sin (φ)⋅sin (θ) + sin (θ) + 1  ──────────── - \n",
       "⎢                                                                   4         \n",
       "⎢                                                                             \n",
       "⎢cos(φ - 2⋅θ)   cos(φ + 2⋅θ)    sin(φ - 2⋅θ)   sin(φ + 2⋅θ)               2   \n",
       "⎢──────────── - ────────────    ──────────── - ────────────            cos (θ)\n",
       "⎣     4              4               4              4                         \n",
       "\n",
       "cos(φ + 2⋅θ)⎤\n",
       "────────────⎥\n",
       "     4      ⎥\n",
       "            ⎥\n",
       "sin(φ + 2⋅θ)⎥\n",
       "────────────⎥\n",
       "     4      ⎥\n",
       "            ⎥\n",
       "            ⎥\n",
       " + 1        ⎥\n",
       "            ⎦"
      ]
     },
     "execution_count": 71,
     "metadata": {},
     "output_type": "execute_result"
    }
   ],
   "source": [
    "I2 = Matrix([ [1, 0, 0], [0, 1, 0], [0, 0, 2] ])\n",
    "I2_new = (Rot*I2*RotT).simplify() # Remember to multiply by 1/4 MR^2 !!!\n",
    "I2_new # Remember to multiply by 1/2 MR^2"
   ]
  },
  {
   "cell_type": "markdown",
   "metadata": {},
   "source": []
  },
  {
   "cell_type": "markdown",
   "metadata": {},
   "source": [
    "#### Kinetic energy"
   ]
  },
  {
   "cell_type": "code",
   "execution_count": 72,
   "metadata": {
    "ExecuteTime": {
     "end_time": "2018-04-12T00:34:20.762671Z",
     "start_time": "2018-04-12T00:34:08.367723Z"
    },
    "inputHidden": false,
    "outputHidden": false,
    "scrolled": false
   },
   "outputs": [
    {
     "data": {
      "image/png": "[encoded data removed]",
      "text/latex": [
       "$$0.125 M R^{2} \\left(- \\operatorname{sin}^{4}\\left(\\theta\\right) \\dot{\\psi}^{2} - 2 \\operatorname{sin}^{3}\\left(\\theta\\right) \\dot{\\phi} \\dot{\\psi} - \\operatorname{sin}^{2}\\left(\\theta\\right) \\dot{\\phi}^{2} + \\operatorname{sin}^{2}\\left(\\theta\\right) \\dot{\\psi}^{2} + 4 \\operatorname{sin}\\left(\\theta\\right) \\dot{\\phi} \\dot{\\psi} + 2 \\operatorname{cos}\\left(\\theta\\right) \\dot{\\psi} \\dot{\\theta} + 2 \\dot{\\phi}^{2} + \\dot{\\psi}^{2} + \\dot{\\theta}^{2}\\right) + 0.5 M \\dot{z}^{2}$$"
      ],
      "text/plain": [
       "         2 ⎛     4      2        3               2      2      2      2       \n",
       "0.125⋅M⋅R ⋅⎝- sin (θ)⋅ψ̇  - 2⋅sin (θ)⋅φ̇⋅ψ̇ - sin (θ)⋅φ̇  + sin (θ)⋅ψ̇  + 4⋅si\n",
       "\n",
       "                                  2     2     2⎞           2\n",
       "n(θ)⋅φ̇⋅ψ̇ + 2⋅cos(θ)⋅ψ̇⋅θ̇ + 2⋅φ̇  + ψ̇  + θ̇ ⎠ + 0.5⋅M⋅ż "
      ]
     },
     "execution_count": 72,
     "metadata": {},
     "output_type": "execute_result"
    }
   ],
   "source": [
    "T2R = (omegaT*I2_new*omega).simplify()\n",
    "T2r = T2R[0].simplify() # Remember to multiply by (1/2)(1/4)(MR^2 omega^2) !!!\n",
    "T2 = (1/8)*M*(R**2)*T2r + 0.5*M*zd**2\n",
    "T2"
   ]
  },
  {
   "cell_type": "markdown",
   "metadata": {},
   "source": [
    "#### Potential energy"
   ]
  },
  {
   "cell_type": "code",
   "execution_count": 73,
   "metadata": {
    "ExecuteTime": {
     "end_time": "2018-04-12T00:34:21.509906Z",
     "start_time": "2018-04-12T00:34:20.768469Z"
    },
    "inputHidden": false,
    "outputHidden": false,
    "scrolled": false
   },
   "outputs": [
    {
     "data": {
      "image/png": "[encoded data removed]",
      "text/latex": [
       "$$M R g \\operatorname{cos}\\left(\\theta\\right)$$"
      ],
      "text/plain": [
       "M⋅R⋅g⋅cos(θ)"
      ]
     },
     "execution_count": 73,
     "metadata": {},
     "output_type": "execute_result"
    }
   ],
   "source": [
    "V2 = M*g*R*cos(theta)\n",
    "V2"
   ]
  },
  {
   "cell_type": "markdown",
   "metadata": {},
   "source": [
    "#### Lagrangian "
   ]
  },
  {
   "cell_type": "code",
   "execution_count": 74,
   "metadata": {
    "ExecuteTime": {
     "end_time": "2018-04-12T00:34:25.573213Z",
     "start_time": "2018-04-12T00:34:21.515380Z"
    },
    "inputHidden": false,
    "outputHidden": false,
    "scrolled": false
   },
   "outputs": [
    {
     "data": {
      "image/png": "[encoded data removed]",
      "text/latex": [
       "$$M \\left(0.125 R^{2} \\left(- \\operatorname{sin}^{4}\\left(\\theta\\right) \\dot{\\psi}^{2} - 2 \\operatorname{sin}^{3}\\left(\\theta\\right) \\dot{\\phi} \\dot{\\psi} - \\operatorname{sin}^{2}\\left(\\theta\\right) \\dot{\\phi}^{2} + \\operatorname{sin}^{2}\\left(\\theta\\right) \\dot{\\psi}^{2} + 4 \\operatorname{sin}\\left(\\theta\\right) \\dot{\\phi} \\dot{\\psi} + 2 \\operatorname{cos}\\left(\\theta\\right) \\dot{\\psi} \\dot{\\theta} + 2 \\dot{\\phi}^{2} + \\dot{\\psi}^{2} + \\dot{\\theta}^{2}\\right) - R g \\operatorname{cos}\\left(\\theta\\right) + 0.5 \\dot{z}^{2}\\right)$$"
      ],
      "text/plain": [
       "  ⎛       2 ⎛     4      2        3               2      2      2      2      \n",
       "M⋅⎝0.125⋅R ⋅⎝- sin (θ)⋅ψ̇  - 2⋅sin (θ)⋅φ̇⋅ψ̇ - sin (θ)⋅φ̇  + sin (θ)⋅ψ̇  + 4⋅s\n",
       "\n",
       "                                   2     2     2⎞                      2⎞\n",
       "in(θ)⋅φ̇⋅ψ̇ + 2⋅cos(θ)⋅ψ̇⋅θ̇ + 2⋅φ̇  + ψ̇  + θ̇ ⎠ - R⋅g⋅cos(θ) + 0.5⋅ż ⎠"
      ]
     },
     "execution_count": 74,
     "metadata": {},
     "output_type": "execute_result"
    }
   ],
   "source": [
    "L2 = (T2 - V2).simplify()\n",
    "L2"
   ]
  },
  {
   "cell_type": "markdown",
   "metadata": {},
   "source": [
    "####  Equations of motion "
   ]
  },
  {
   "cell_type": "code",
   "execution_count": 75,
   "metadata": {
    "ExecuteTime": {
     "end_time": "2018-04-12T00:34:33.629741Z",
     "start_time": "2018-04-12T00:34:25.580084Z"
    },
    "inputHidden": false,
    "outputHidden": false,
    "scrolled": false
   },
   "outputs": [
    {
     "data": {
      "image/png": "[encoded data removed]",
      "text/latex": [
       "$$\\left[\\begin{matrix}0.25 M R^{2} \\left(- \\operatorname{sin}^{4}\\left(\\theta\\right) \\ddot{\\psi} - 4 \\operatorname{sin}^{3}\\left(\\theta\\right) \\operatorname{cos}\\left(\\theta\\right) \\dot{\\psi} \\dot{\\theta} - \\operatorname{sin}^{3}\\left(\\theta\\right) \\ddot{\\phi} + \\operatorname{sin}^{2}\\left(\\theta\\right) \\ddot{\\psi} + 2 \\operatorname{sin}\\left(\\theta\\right) \\operatorname{cos}\\left(\\theta\\right) \\dot{\\psi} \\dot{\\theta} - \\operatorname{sin}\\left(\\theta\\right) \\dot{\\theta}^{2} + 2 \\operatorname{sin}\\left(\\theta\\right) \\ddot{\\phi} + 3 \\operatorname{cos}^{3}\\left(\\theta\\right) \\dot{\\phi} \\dot{\\theta} - \\operatorname{cos}\\left(\\theta\\right) \\dot{\\phi} \\dot{\\theta} + \\operatorname{cos}\\left(\\theta\\right) \\ddot{\\theta} + \\ddot{\\psi}\\right)\\\\R \\left(0.125 M R \\operatorname{sin}\\left(2 \\theta\\right) \\dot{\\phi}^{2} - 0.0625 M R \\operatorname{sin}\\left(4 \\theta\\right) \\dot{\\psi}^{2} - 0.3125 M R \\operatorname{cos}\\left(\\theta\\right) \\dot{\\phi} \\dot{\\psi} + 0.25 M R \\operatorname{cos}\\left(\\theta\\right) \\ddot{\\psi} - 0.1875 M R \\operatorname{cos}\\left(3 \\theta\\right) \\dot{\\phi} \\dot{\\psi} + 0.25 M R \\ddot{\\theta} - 1.0 M g \\operatorname{sin}\\left(\\theta\\right) + 1.0 lam_{1} \\operatorname{sin}\\left(\\theta\\right)\\right)\\\\0.25 M R^{2} \\left(- \\operatorname{sin}^{3}\\left(\\theta\\right) \\ddot{\\psi} - 2 \\operatorname{sin}\\left(\\theta\\right) \\operatorname{cos}\\left(\\theta\\right) \\dot{\\phi} \\dot{\\theta} + 2 \\operatorname{sin}\\left(\\theta\\right) \\ddot{\\psi} + 3 \\operatorname{cos}^{3}\\left(\\theta\\right) \\dot{\\psi} \\dot{\\theta} + \\operatorname{cos}^{2}\\left(\\theta\\right) \\ddot{\\phi} - \\operatorname{cos}\\left(\\theta\\right) \\dot{\\psi} \\dot{\\theta} + \\ddot{\\phi}\\right)\\\\1.0 M \\ddot{z} + lam_{1}\\end{matrix}\\right]$$"
      ],
      "text/plain": [
       "⎡        2 ⎛     4              3                      3            2         \n",
       "⎢0.25⋅M⋅R ⋅⎝- sin (θ)⋅ψ̈ - 4⋅sin (θ)⋅cos(θ)⋅ψ̇⋅θ̇ - sin (θ)⋅φ̈ + sin (θ)⋅ψ̈ + \n",
       "⎢                                                                             \n",
       "⎢  ⎛                     2                         2                          \n",
       "⎢R⋅⎝0.125⋅M⋅R⋅sin(2⋅θ)⋅φ̇  - 0.0625⋅M⋅R⋅sin(4⋅θ)⋅ψ̇  - 0.3125⋅M⋅R⋅cos(θ)⋅φ̇⋅ψ̇\n",
       "⎢                                                                             \n",
       "⎢                                       2 ⎛     3                             \n",
       "⎢                               0.25⋅M⋅R ⋅⎝- sin (θ)⋅ψ̈ - 2⋅sin(θ)⋅cos(θ)⋅φ̇⋅θ\n",
       "⎢                                                                             \n",
       "⎣                                                                             \n",
       "\n",
       "                                 2                      3                     \n",
       "2⋅sin(θ)⋅cos(θ)⋅ψ̇⋅θ̇ - sin(θ)⋅θ̇  + 2⋅sin(θ)⋅φ̈ + 3⋅cos (θ)⋅φ̇⋅θ̇ - cos(θ)⋅φ̇\n",
       "                                                                              \n",
       "                                                                              \n",
       " + 0.25⋅M⋅R⋅cos(θ)⋅ψ̈ - 0.1875⋅M⋅R⋅cos(3⋅θ)⋅φ̇⋅ψ̇ + 0.25⋅M⋅R⋅θ̈ - 1.0⋅M⋅g⋅sin(\n",
       "                                                                              \n",
       "                       3               2                          ⎞           \n",
       "̇ + 2⋅sin(θ)⋅ψ̈ + 3⋅cos (θ)⋅ψ̇⋅θ̇ + cos (θ)⋅φ̈ - cos(θ)⋅ψ̇⋅θ̇ + φ̈⎠           \n",
       "                                                                              \n",
       "   1.0⋅M⋅z̈ + lam₁                                                            \n",
       "\n",
       "                    ⎞⎤\n",
       "⋅θ̇ + cos(θ)⋅θ̈ + ψ̈⎠⎥\n",
       "                     ⎥\n",
       "                    ⎞⎥\n",
       "θ) + 1.0⋅lam₁⋅sin(θ)⎠⎥\n",
       "                     ⎥\n",
       "                     ⎥\n",
       "                     ⎥\n",
       "                     ⎥\n",
       "                     ⎦"
      ]
     },
     "execution_count": 75,
     "metadata": {},
     "output_type": "execute_result"
    }
   ],
   "source": [
    "LM2 = LagrangesMethod(L2, [psi, theta, phi, z], nonhol_coneqs=[zd + thetad*R*sin(theta)])\n",
    "EoM2 = LM2.form_lagranges_equations()\n",
    "\n",
    "# Simplfy the equations of motion\n",
    "EOM2 = Matrix([EoM2[0].simplify(), EoM2[1].simplify(), EoM2[2].simplify(), EoM2[3].simplify()])\n",
    "EOM2"
   ]
  },
  {
   "cell_type": "markdown",
   "metadata": {},
   "source": [
    "### Tilted frame"
   ]
  },
  {
   "cell_type": "markdown",
   "metadata": {},
   "source": [
    "#### Moment of inertia tensor"
   ]
  },
  {
   "cell_type": "code",
   "execution_count": 76,
   "metadata": {
    "ExecuteTime": {
     "end_time": "2018-04-12T00:34:34.123047Z",
     "start_time": "2018-04-12T00:34:33.638498Z"
    }
   },
   "outputs": [
    {
     "data": {
      "image/png": "[encoded data removed]",
      "text/latex": [
       "$$\\left[\\begin{matrix}1 & 0 & 0\\\\0 & 1 & 0\\\\0 & 0 & 2\\end{matrix}\\right]$$"
      ],
      "text/plain": [
       "⎡1  0  0⎤\n",
       "⎢       ⎥\n",
       "⎢0  1  0⎥\n",
       "⎢       ⎥\n",
       "⎣0  0  2⎦"
      ]
     },
     "execution_count": 76,
     "metadata": {},
     "output_type": "execute_result"
    }
   ],
   "source": [
    "I2 = Matrix([ [1, 0, 0], [0, 1, 0], [0, 0, 2] ]) # Remember to multiply by 1/4 MR^2 !!!\n",
    "I2"
   ]
  },
  {
   "cell_type": "markdown",
   "metadata": {},
   "source": [
    "#### Kinetic energy"
   ]
  },
  {
   "cell_type": "code",
   "execution_count": 79,
   "metadata": {
    "ExecuteTime": {
     "end_time": "2018-04-12T00:41:21.479138Z",
     "start_time": "2018-04-12T00:41:14.732316Z"
    }
   },
   "outputs": [
    {
     "data": {
      "image/png": "[encoded data removed]",
      "text/latex": [
       "$$0.125 M R^{2} \\left(- \\operatorname{sin}^{4}\\left(\\theta\\right) \\dot{\\psi}^{2} - 2 \\operatorname{sin}^{3}\\left(\\theta\\right) \\dot{\\phi} \\dot{\\psi} - \\operatorname{sin}^{2}\\left(\\theta\\right) \\dot{\\phi}^{2} + \\operatorname{sin}^{2}\\left(\\theta\\right) \\dot{\\psi}^{2} + 4 \\operatorname{sin}\\left(\\theta\\right) \\dot{\\phi} \\dot{\\psi} + 2 \\operatorname{cos}\\left(\\theta\\right) \\dot{\\psi} \\dot{\\theta} + 2 \\dot{\\phi}^{2} + \\dot{\\psi}^{2} + \\dot{\\theta}^{2}\\right) + 0.5 M \\dot{z}^{2}$$"
      ],
      "text/plain": [
       "         2 ⎛     4      2        3               2      2      2      2       \n",
       "0.125⋅M⋅R ⋅⎝- sin (θ)⋅ψ̇  - 2⋅sin (θ)⋅φ̇⋅ψ̇ - sin (θ)⋅φ̇  + sin (θ)⋅ψ̇  + 4⋅si\n",
       "\n",
       "                                  2     2     2⎞           2\n",
       "n(θ)⋅φ̇⋅ψ̇ + 2⋅cos(θ)⋅ψ̇⋅θ̇ + 2⋅φ̇  + ψ̇  + θ̇ ⎠ + 0.5⋅M⋅ż "
      ]
     },
     "execution_count": 79,
     "metadata": {},
     "output_type": "execute_result"
    }
   ],
   "source": [
    "T2R = (omegaT*I2_new*omega).simplify()\n",
    "T2r = T2R[0].simplify() # Remember to multiply by (1/2)(1/4)(MR^2 omega^2) !!!\n",
    "T2 = (1/8)*M*(R**2)*T2r + 0.5*M*zd**2\n",
    "T2"
   ]
  },
  {
   "cell_type": "markdown",
   "metadata": {},
   "source": [
    "#### Potential energy"
   ]
  },
  {
   "cell_type": "markdown",
   "metadata": {},
   "source": [
    "## Question 3\n",
    "### Lab frame\n",
    "#### Transformation matrix to translate the ring\n",
    "What this does is shift the placement of the ring so the axis of rotation do not go through the center of mass, but through the point the ring makes contact with the surface. "
   ]
  },
  {
   "cell_type": "code",
   "execution_count": null,
   "metadata": {
    "ExecuteTime": {
     "end_time": "2018-04-12T00:34:34.197592Z",
     "start_time": "2018-04-12T00:34:04.908Z"
    },
    "inputHidden": false,
    "outputHidden": false,
    "scrolled": false
   },
   "outputs": [],
   "source": [
    "A = Matrix([ [1, 0, 0, -R*sin(theta)*cos(phi)], [0, 1, 0, -R*sin(theta)*sin(phi)], [0, 0, 1, R*cos(theta)], [0, 0, 0, 1] ])\n",
    "A"
   ]
  },
  {
   "cell_type": "markdown",
   "metadata": {},
   "source": [
    "#### Moment of inertial for the ring "
   ]
  },
  {
   "cell_type": "code",
   "execution_count": null,
   "metadata": {
    "ExecuteTime": {
     "end_time": "2018-04-12T00:34:34.204435Z",
     "start_time": "2018-04-12T00:34:05.124Z"
    },
    "inputHidden": false,
    "outputHidden": false,
    "scrolled": false
   },
   "outputs": [],
   "source": [
    "I3 = I2_new # Remember to multiply by 1/2 MR^2 !!!\n",
    "I31 = I3.row_insert(3, Matrix([[0, 0, 0]]))\n",
    "I32 = I31.col_insert(3, Matrix([0, 0, 0, 1]))\n",
    "I32\n",
    "\n",
    "I3_new = (A*I32*(A**-1)).simplify()\n",
    "I3_new"
   ]
  },
  {
   "cell_type": "markdown",
   "metadata": {},
   "source": [
    "#### The total angular velocity vector"
   ]
  },
  {
   "cell_type": "code",
   "execution_count": null,
   "metadata": {
    "ExecuteTime": {
     "end_time": "2018-04-12T00:34:34.209555Z",
     "start_time": "2018-04-12T00:34:05.390Z"
    },
    "inputHidden": false,
    "outputHidden": false,
    "scrolled": false
   },
   "outputs": [],
   "source": [
    "omega3 = omega.row_insert(3, Matrix([1]))\n",
    "omega3T = transpose(omega3)\n",
    "omega3"
   ]
  },
  {
   "cell_type": "markdown",
   "metadata": {},
   "source": [
    "#### Kinetic energy"
   ]
  },
  {
   "cell_type": "code",
   "execution_count": null,
   "metadata": {
    "ExecuteTime": {
     "end_time": "2018-04-12T00:34:34.213937Z",
     "start_time": "2018-04-12T00:34:05.638Z"
    },
    "inputHidden": false,
    "outputHidden": false,
    "scrolled": false
   },
   "outputs": [],
   "source": [
    "T3r = (omega3T*I3_new*omega3).simplify()\n",
    "T3l = T3r[0] # This is just the kinetic energy from rotation\n",
    "T3 = ((1/4)*m*R**2 * T3l + (m/2)*(xd**2 + yd**2 + zd**2)).simplify()\n",
    "T3"
   ]
  },
  {
   "cell_type": "markdown",
   "metadata": {},
   "source": [
    "#### Potential Energy"
   ]
  },
  {
   "cell_type": "code",
   "execution_count": null,
   "metadata": {
    "ExecuteTime": {
     "end_time": "2018-04-12T00:34:34.238610Z",
     "start_time": "2018-04-12T00:34:05.960Z"
    },
    "inputHidden": false,
    "outputHidden": false,
    "scrolled": false
   },
   "outputs": [],
   "source": [
    "V3 = m*g*z\n",
    "V3"
   ]
  },
  {
   "cell_type": "markdown",
   "metadata": {},
   "source": [
    "#### Lagrangian "
   ]
  },
  {
   "cell_type": "code",
   "execution_count": null,
   "metadata": {
    "ExecuteTime": {
     "end_time": "2018-04-12T00:34:34.256116Z",
     "start_time": "2018-04-12T00:34:06.210Z"
    },
    "inputHidden": false,
    "outputHidden": false,
    "scrolled": false
   },
   "outputs": [],
   "source": [
    "L3 = (T3 - V3).simplify()\n",
    "L3"
   ]
  },
  {
   "cell_type": "markdown",
   "metadata": {},
   "source": [
    "#### Equations of motion \n",
    "The equations of motion here does not include the constraints. Will add later by hand."
   ]
  },
  {
   "cell_type": "code",
   "execution_count": null,
   "metadata": {
    "ExecuteTime": {
     "end_time": "2018-04-12T00:34:34.263051Z",
     "start_time": "2018-04-12T00:34:06.424Z"
    },
    "inputHidden": false,
    "outputHidden": false,
    "scrolled": false
   },
   "outputs": [],
   "source": [
    "LM3 = LagrangesMethod(L3, [psi, theta, phi, x, y, z]) \n",
    "EoM3 = LM3.form_lagranges_equations()\n",
    "\n",
    "# Simplfy the monstrosity\n",
    "EOM3 = Matrix([EoM3[0].simplify(), EoM3[1].simplify(), EoM3[2].simplify(), EoM3[3].simplify(), EoM3[4].simplify(), EoM3[5].simplify()])\n",
    "EOM3"
   ]
  },
  {
   "cell_type": "code",
   "execution_count": null,
   "metadata": {
    "scrolled": false
   },
   "outputs": [],
   "source": []
  }
 ],
 "metadata": {
  "kernel_info": {
   "name": "python3"
  },
  "kernelspec": {
   "display_name": "Python 3",
   "language": "python",
   "name": "python3"
  },
  "language_info": {
   "codemirror_mode": {
    "name": "ipython",
    "version": 3
   },
   "file_extension": ".py",
   "mimetype": "text/x-python",
   "name": "python",
   "nbconvert_exporter": "python",
   "pygments_lexer": "ipython3",
   "version": "3.6.4"
  },
  "latex_envs": {
   "LaTeX_envs_menu_present": true,
   "autoclose": false,
   "autocomplete": true,
   "bibliofile": "biblio.bib",
   "cite_by": "apalike",
   "current_citInitial": 1,
   "eqLabelWithNumbers": true,
   "eqNumInitial": 1,
   "hotkeys": {
    "equation": "Ctrl-E",
    "itemize": "Ctrl-I"
   },
   "labels_anchors": false,
   "latex_user_defs": false,
   "report_style_numbering": false,
   "user_envs_cfg": false
  },
  "notify_time": "5",
  "nteract": {
   "version": "0.8.4"
  },
  "toc": {
   "base_numbering": 1,
   "nav_menu": {},
   "number_sections": false,
   "sideBar": true,
   "skip_h1_title": false,
   "title_cell": "Table of Contents",
   "title_sidebar": "Contents",
   "toc_cell": false,
   "toc_position": {},
   "toc_section_display": true,
   "toc_window_display": false
  }
 },
 "nbformat": 4,
 "nbformat_minor": 4
}

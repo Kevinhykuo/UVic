{
 "cells": [
  {
   "cell_type": "markdown",
   "metadata": {},
   "source": [
    "# Lab 6"
   ]
  },
  {
   "cell_type": "code",
   "execution_count": 1,
   "metadata": {},
   "outputs": [],
   "source": [
    "import numpy as np\n",
    "import pandas as pd \n",
    "import seaborn as sns \n",
    "import matplotlib as mp\n",
    "import matplotlib.pyplot as plt \n",
    "\n",
    "from scipy import stats\n",
    "from textwrap import wrap\n",
    "\n",
    "%matplotlib inline\n",
    "%config InlineBackend.figure_format = 'pdf'"
   ]
  },
  {
   "cell_type": "markdown",
   "metadata": {},
   "source": [
    "## Import data"
   ]
  },
  {
   "cell_type": "code",
   "execution_count": 2,
   "metadata": {},
   "outputs": [],
   "source": [
    "KS = pd.read_excel('/Users/kev/Downloads/BCMB 301A Lab Techniques/Lab 6 - Study of reversible inhibition using beta-galactosidase/Data/kevin.xlsx',\n",
    "                  header=1)\n",
    "\n",
    "DI = pd.read_excel('/Users/kev/Downloads/BCMB 301A Lab Techniques/Lab 6 - Study of reversible inhibition using beta-galactosidase/Data/Daniel.xlsx',\n",
    "                  header=13, index_col=1)\n",
    "\n",
    "TC = pd.read_excel('/Users/kev/Downloads/BCMB 301A Lab Techniques/Lab 6 - Study of reversible inhibition using beta-galactosidase/Data/Tyler H.xlsx',\n",
    "                  header=1)"
   ]
  },
  {
   "cell_type": "markdown",
   "metadata": {},
   "source": [
    "## Clean up data"
   ]
  },
  {
   "cell_type": "code",
   "execution_count": 3,
   "metadata": {},
   "outputs": [],
   "source": [
    "def abs_ave(D, x0=1, xf=9, dx=10, y0=0, yf=4, n=9, Nanx=[], Nany=[]):\n",
    "    # 2D data size\n",
    "    x = xf-x0\n",
    "    y = yf-y0\n",
    "    \n",
    "    # Turn into 3d array\n",
    "    # Axis 1 = Substrate\n",
    "    # Axis 2 = Inhibitor\n",
    "    # Axis 3 = Time\n",
    "    A = np.zeros((x, y, n))\n",
    "    for i in range(0,n):\n",
    "        a = np.array(D.iloc[x0+dx*i:xf+dx*i, y0:yf])\n",
    "        A[:,:,i] = a \n",
    "    \n",
    "    # Find change in absorbance with time\n",
    "    Diff = np.diff(A, axis=2)\n",
    "    Ave = np.nanmean(Diff, axis=2)\n",
    "    Ave = pd.DataFrame(Ave)\n",
    "    \n",
    "    # Get rid of errors\n",
    "    if len(Nanx)<1:\n",
    "        for i in range(0, len(Nanx)):\n",
    "            Ave.iloc[Nanx[i], Nany[i]] = np.nan\n",
    "\n",
    "    else: \n",
    "        Ave += 0\n",
    "        \n",
    "    # Get averages of change with respect to time\n",
    "    Abs = np.zeros((int(x/2), y))\n",
    "    for i in range(0, int(x/2)):\n",
    "        Ave_abs = np.nanmean(Ave.iloc[2*i:2*i+1,:], axis=0)\n",
    "        Abs[i,:] = Ave_abs\n",
    "\n",
    "    # Label columns\n",
    "    Abs = pd.DataFrame(Abs)\n",
    "    Abs.columns = [r'0 $\\mu$l', r'10 $\\mu$l', r'20 $\\mu$l', r'40 $\\mu$l']\n",
    "    ABS = Abs.T\n",
    "    ABS.columns = [r'10 $\\mu$l ONPG', r'20 $\\mu$l ONPG', r'40 $\\mu$l ONPG', r'80 $\\mu$l ONPG']\n",
    "    return ABS"
   ]
  },
  {
   "cell_type": "code",
   "execution_count": 4,
   "metadata": {},
   "outputs": [],
   "source": [
    "KS_abs = abs_ave(D=KS, Nanx = [0, 7], Nany = [0, 0])\n",
    "TC_abs = abs_ave(D=TC)\n",
    "DI_abs = abs_ave(D=DI, x0=1, xf=9, y0=1, yf=5, dx=12)"
   ]
  },
  {
   "cell_type": "code",
   "execution_count": 5,
   "metadata": {},
   "outputs": [
    {
     "data": {
      "text/html": [
       "<div>\n",
       "<style scoped>\n",
       "    .dataframe tbody tr th:only-of-type {\n",
       "        vertical-align: middle;\n",
       "    }\n",
       "\n",
       "    .dataframe tbody tr th {\n",
       "        vertical-align: top;\n",
       "    }\n",
       "\n",
       "    .dataframe thead th {\n",
       "        text-align: right;\n",
       "    }\n",
       "</style>\n",
       "<table border=\"1\" class=\"dataframe\">\n",
       "  <thead>\n",
       "    <tr style=\"text-align: right;\">\n",
       "      <th></th>\n",
       "      <th>10 $\\mu$l ONPG</th>\n",
       "      <th>20 $\\mu$l ONPG</th>\n",
       "      <th>40 $\\mu$l ONPG</th>\n",
       "      <th>80 $\\mu$l ONPG</th>\n",
       "    </tr>\n",
       "  </thead>\n",
       "  <tbody>\n",
       "    <tr>\n",
       "      <th>0 $\\mu$l</th>\n",
       "      <td>0.044625</td>\n",
       "      <td>0.039000</td>\n",
       "      <td>0.04275</td>\n",
       "      <td>0.046250</td>\n",
       "    </tr>\n",
       "    <tr>\n",
       "      <th>10 $\\mu$l</th>\n",
       "      <td>0.029625</td>\n",
       "      <td>0.035125</td>\n",
       "      <td>0.03150</td>\n",
       "      <td>0.041125</td>\n",
       "    </tr>\n",
       "    <tr>\n",
       "      <th>20 $\\mu$l</th>\n",
       "      <td>0.026125</td>\n",
       "      <td>0.031125</td>\n",
       "      <td>0.03250</td>\n",
       "      <td>0.034125</td>\n",
       "    </tr>\n",
       "    <tr>\n",
       "      <th>40 $\\mu$l</th>\n",
       "      <td>0.024750</td>\n",
       "      <td>0.026250</td>\n",
       "      <td>0.02775</td>\n",
       "      <td>0.026875</td>\n",
       "    </tr>\n",
       "  </tbody>\n",
       "</table>\n",
       "</div>"
      ],
      "text/plain": [
       "           10 $\\mu$l ONPG  20 $\\mu$l ONPG  40 $\\mu$l ONPG  80 $\\mu$l ONPG\n",
       "0 $\\mu$l         0.044625        0.039000         0.04275        0.046250\n",
       "10 $\\mu$l        0.029625        0.035125         0.03150        0.041125\n",
       "20 $\\mu$l        0.026125        0.031125         0.03250        0.034125\n",
       "40 $\\mu$l        0.024750        0.026250         0.02775        0.026875"
      ]
     },
     "execution_count": 5,
     "metadata": {},
     "output_type": "execute_result"
    }
   ],
   "source": [
    "KS_abs"
   ]
  },
  {
   "cell_type": "markdown",
   "metadata": {},
   "source": [
    "## Function to generate graph"
   ]
  },
  {
   "cell_type": "markdown",
   "metadata": {},
   "source": [
    "### Get average absorbances (405 nm)"
   ]
  },
  {
   "cell_type": "code",
   "execution_count": null,
   "metadata": {},
   "outputs": [],
   "source": []
  },
  {
   "cell_type": "markdown",
   "metadata": {},
   "source": [
    "### Get graph"
   ]
  },
  {
   "cell_type": "code",
   "execution_count": null,
   "metadata": {},
   "outputs": [],
   "source": []
  },
  {
   "cell_type": "code",
   "execution_count": null,
   "metadata": {},
   "outputs": [],
   "source": []
  }
 ],
 "metadata": {
  "kernelspec": {
   "display_name": "Python 3",
   "language": "python",
   "name": "python3"
  },
  "language_info": {
   "codemirror_mode": {
    "name": "ipython",
    "version": 3
   },
   "file_extension": ".py",
   "mimetype": "text/x-python",
   "name": "python",
   "nbconvert_exporter": "python",
   "pygments_lexer": "ipython3",
   "version": "3.7.3"
  }
 },
 "nbformat": 4,
 "nbformat_minor": 2
}

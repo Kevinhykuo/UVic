{
 "cells": [
  {
   "cell_type": "markdown",
   "metadata": {
    "inputHidden": false,
    "outputHidden": false
   },
   "source": [
    "## Tilted Frame"
   ]
  },
  {
   "cell_type": "code",
   "execution_count": 2,
   "metadata": {
    "ExecuteTime": {
     "end_time": "2018-04-07T00:26:12.488792Z",
     "start_time": "2018-04-07T00:26:10.486370Z"
    },
    "inputHidden": false,
    "outputHidden": false
   },
   "outputs": [],
   "source": [
    "import math as m\n",
    "import matplotlib.pyplot as plt\n",
    "import sympy as sym\n",
    "from sympy import Symbol, Matrix, cos, sin, init_printing, simplify, diff\n",
    "from sympy import *\n",
    "from math import pi\n",
    "from fractions import Fraction\n",
    "from sympy.physics.vector import dynamicsymbols\n",
    "from sympy.physics.mechanics import *\n",
    "from sympy.functions import transpose\n",
    "sym.init_printing(use_latex='mathjax')\n",
    "init_vprinting() # Use dots for time derivatives\n",
    "\n",
    "# Symbols\n",
    "M = Symbol('M')\n",
    "m = Symbol('m')\n",
    "R = Symbol('R')\n",
    "g = Symbol('g')\n",
    "t = Symbol('t')\n",
    "theta, phi, psi, x, y, z = dynamicsymbols('theta phi psi x y z')\n",
    "\n",
    "# Time derivatives of symbols\n",
    "thetad, phid, psid, xd, yd, zd = dynamicsymbols('theta phi psi x y z', 1)"
   ]
  },
  {
   "cell_type": "markdown",
   "metadata": {},
   "source": [
    "#### Angular velocity in tilted frame"
   ]
  },
  {
   "cell_type": "code",
   "execution_count": 3,
   "metadata": {
    "ExecuteTime": {
     "end_time": "2018-04-07T00:26:13.010671Z",
     "start_time": "2018-04-07T00:26:12.494283Z"
    },
    "inputHidden": false,
    "outputHidden": false
   },
   "outputs": [
    {
     "data": {
      "image/png": "[encoded data removed]",
      "text/latex": [
       "$$\\left[\\begin{matrix}\\dot{\\theta}\\\\\\operatorname{sin}\\left(\\theta\\right) \\dot{\\phi}\\\\\\operatorname{cos}\\left(\\theta\\right) \\dot{\\phi} + \\dot{\\psi}\\end{matrix}\\right]$$"
      ],
      "text/plain": [
       "⎡      θ̇      ⎤\n",
       "⎢              ⎥\n",
       "⎢  sin(θ)⋅φ̇   ⎥\n",
       "⎢              ⎥\n",
       "⎣cos(θ)⋅φ̇ + ψ̇⎦"
      ]
     },
     "execution_count": 3,
     "metadata": {},
     "output_type": "execute_result"
    }
   ],
   "source": [
    "omegaT = Matrix([thetad, phid*sin(theta), phid*cos(theta)+psid])\n",
    "omegaT"
   ]
  },
  {
   "cell_type": "markdown",
   "metadata": {},
   "source": [
    "Transpose of the angular velocity"
   ]
  },
  {
   "cell_type": "code",
   "execution_count": 4,
   "metadata": {
    "ExecuteTime": {
     "end_time": "2018-04-07T00:26:13.458214Z",
     "start_time": "2018-04-07T00:26:13.015837Z"
    },
    "inputHidden": false,
    "outputHidden": false
   },
   "outputs": [
    {
     "data": {
      "image/png": "[encoded data removed]",
      "text/latex": [
       "$$\\left[\\begin{matrix}\\dot{\\theta} & \\operatorname{sin}\\left(\\theta\\right) \\dot{\\phi} & \\operatorname{cos}\\left(\\theta\\right) \\dot{\\phi} + \\dot{\\psi}\\end{matrix}\\right]$$"
      ],
      "text/plain": [
       "[θ̇  sin(θ)⋅φ̇  cos(θ)⋅φ̇ + ψ̇]"
      ]
     },
     "execution_count": 4,
     "metadata": {},
     "output_type": "execute_result"
    }
   ],
   "source": [
    "omegaT_T = transpose(omegaT)\n",
    "omegaT_T"
   ]
  },
  {
   "cell_type": "markdown",
   "metadata": {},
   "source": [
    "## Question 2\n",
    "#### Moment of inertia tensor"
   ]
  },
  {
   "cell_type": "code",
   "execution_count": 5,
   "metadata": {
    "ExecuteTime": {
     "end_time": "2018-04-07T00:26:13.964287Z",
     "start_time": "2018-04-07T00:26:13.464286Z"
    },
    "inputHidden": false,
    "outputHidden": false
   },
   "outputs": [
    {
     "data": {
      "image/png": "[encoded data removed]",
      "text/latex": [
       "$$\\left[\\begin{matrix}1 & 0 & 0\\\\0 & 1 & 0\\\\0 & 0 & 2\\end{matrix}\\right]$$"
      ],
      "text/plain": [
       "⎡1  0  0⎤\n",
       "⎢       ⎥\n",
       "⎢0  1  0⎥\n",
       "⎢       ⎥\n",
       "⎣0  0  2⎦"
      ]
     },
     "execution_count": 5,
     "metadata": {},
     "output_type": "execute_result"
    }
   ],
   "source": [
    "I2 = Matrix([ [1, 0, 0], [0, 1, 0], [0, 0, 2] ]) # Remember to multiply by 1/4 MR^2 !!!\n",
    "I2"
   ]
  },
  {
   "cell_type": "markdown",
   "metadata": {},
   "source": [
    "#### Kinetic energy"
   ]
  },
  {
   "cell_type": "code",
   "execution_count": 6,
   "metadata": {
    "ExecuteTime": {
     "end_time": "2018-04-07T00:26:15.559622Z",
     "start_time": "2018-04-07T00:26:13.970553Z"
    },
    "inputHidden": false,
    "outputHidden": false
   },
   "outputs": [
    {
     "data": {
      "image/png": "[encoded data removed]",
      "text/latex": [
       "$$0.125 M R^{2} \\left(2 \\left(\\operatorname{cos}\\left(\\theta\\right) \\dot{\\phi} + \\dot{\\psi}\\right)^{2} + \\operatorname{sin}^{2}\\left(\\theta\\right) \\dot{\\phi}^{2} + \\dot{\\theta}^{2}\\right) + 0.5 M \\dot{z}^{2}$$"
      ],
      "text/plain": [
       "         2 ⎛                  2      2      2     2⎞           2\n",
       "0.125⋅M⋅R ⋅⎝2⋅(cos(θ)⋅φ̇ + ψ̇)  + sin (θ)⋅φ̇  + θ̇ ⎠ + 0.5⋅M⋅ż "
      ]
     },
     "execution_count": 6,
     "metadata": {},
     "output_type": "execute_result"
    }
   ],
   "source": [
    "T2R = (omegaT_T*I2*omegaT).simplify()\n",
    "T2r = T2R[0].simplify() # Remember to multiply by (1/2)(1/4)(MR^2 omega^2) !!!\n",
    "T2 = (1/8)*M*(R**2)*T2r + 0.5*M*zd**2\n",
    "T2"
   ]
  },
  {
   "cell_type": "markdown",
   "metadata": {},
   "source": [
    "#### Potential energy"
   ]
  },
  {
   "cell_type": "code",
   "execution_count": 7,
   "metadata": {
    "ExecuteTime": {
     "end_time": "2018-04-07T00:26:16.058892Z",
     "start_time": "2018-04-07T00:26:15.565622Z"
    },
    "inputHidden": false,
    "outputHidden": false
   },
   "outputs": [
    {
     "data": {
      "image/png": "[encoded data removed]",
      "text/latex": [
       "$$M R g \\operatorname{cos}\\left(\\theta\\right)$$"
      ],
      "text/plain": [
       "M⋅R⋅g⋅cos(θ)"
      ]
     },
     "execution_count": 7,
     "metadata": {},
     "output_type": "execute_result"
    }
   ],
   "source": [
    "V2 = M*g*R*cos(theta)\n",
    "V2"
   ]
  },
  {
   "cell_type": "markdown",
   "metadata": {},
   "source": [
    "#### Lagrangian"
   ]
  },
  {
   "cell_type": "code",
   "execution_count": 8,
   "metadata": {
    "ExecuteTime": {
     "end_time": "2018-04-07T00:26:18.603918Z",
     "start_time": "2018-04-07T00:26:16.065828Z"
    },
    "inputHidden": false,
    "outputHidden": false
   },
   "outputs": [
    {
     "data": {
      "image/png": "[encoded data removed]",
      "text/latex": [
       "$$M \\left(0.125 R^{2} \\left(2 \\left(\\operatorname{cos}\\left(\\theta\\right) \\dot{\\phi} + \\dot{\\psi}\\right)^{2} + \\operatorname{sin}^{2}\\left(\\theta\\right) \\dot{\\phi}^{2} + \\dot{\\theta}^{2}\\right) - R g \\operatorname{cos}\\left(\\theta\\right) + 0.5 \\dot{z}^{2}\\right)$$"
      ],
      "text/plain": [
       "  ⎛       2 ⎛                  2      2      2     2⎞                      2⎞\n",
       "M⋅⎝0.125⋅R ⋅⎝2⋅(cos(θ)⋅φ̇ + ψ̇)  + sin (θ)⋅φ̇  + θ̇ ⎠ - R⋅g⋅cos(θ) + 0.5⋅ż ⎠"
      ]
     },
     "execution_count": 8,
     "metadata": {},
     "output_type": "execute_result"
    }
   ],
   "source": [
    "L2 = (T2 - V2).simplify()\n",
    "L2"
   ]
  },
  {
   "cell_type": "markdown",
   "metadata": {},
   "source": [
    "#### Equations of motion"
   ]
  },
  {
   "cell_type": "code",
   "execution_count": 9,
   "metadata": {
    "ExecuteTime": {
     "end_time": "2018-04-07T00:26:22.957998Z",
     "start_time": "2018-04-07T00:26:18.610912Z"
    },
    "inputHidden": false,
    "outputHidden": false
   },
   "outputs": [
    {
     "data": {
      "image/png": "[encoded data removed]",
      "text/latex": [
       "$$\\left[\\begin{matrix}0.5 M R^{2} \\left(- \\operatorname{sin}\\left(\\theta\\right) \\dot{\\phi} \\dot{\\theta} + \\operatorname{cos}\\left(\\theta\\right) \\ddot{\\phi} + \\ddot{\\psi}\\right)\\\\R \\left(0.25 M R \\ddot{\\theta} + M \\left(R \\left(0.25 \\operatorname{cos}\\left(\\theta\\right) \\dot{\\phi} + 0.5 \\dot{\\psi}\\right) \\dot{\\phi} - g\\right) \\operatorname{sin}\\left(\\theta\\right) + lam_{1} \\operatorname{sin}\\left(\\theta\\right)\\right)\\\\M R^{2} \\left(- 0.5 \\operatorname{sin}\\left(\\theta\\right) \\dot{\\psi} \\dot{\\theta} - 0.25 \\operatorname{sin}\\left(2 \\theta\\right) \\dot{\\phi} \\dot{\\theta} + 0.5 \\operatorname{cos}\\left(\\theta\\right) \\ddot{\\psi} + 0.125 \\operatorname{cos}\\left(2 \\theta\\right) \\ddot{\\phi} + 0.375 \\ddot{\\phi}\\right)\\\\1.0 M \\ddot{z} + lam_{1}\\end{matrix}\\right]$$"
      ],
      "text/plain": [
       "⎡                                 2                                           \n",
       "⎢                          0.5⋅M⋅R ⋅(-sin(θ)⋅φ̇⋅θ̇ + cos(θ)⋅φ̈ + ψ̈)          \n",
       "⎢                                                                             \n",
       "⎢        R⋅(0.25⋅M⋅R⋅θ̈ + M⋅(R⋅(0.25⋅cos(θ)⋅φ̇ + 0.5⋅ψ̇)⋅φ̇ - g)⋅sin(θ) + lam₁\n",
       "⎢                                                                             \n",
       "⎢   2                                                                         \n",
       "⎢M⋅R ⋅(-0.5⋅sin(θ)⋅ψ̇⋅θ̇ - 0.25⋅sin(2⋅θ)⋅φ̇⋅θ̇ + 0.5⋅cos(θ)⋅ψ̈ + 0.125⋅cos(2⋅θ\n",
       "⎢                                                                             \n",
       "⎣                                       1.0⋅M⋅z̈ + lam₁                       \n",
       "\n",
       "                ⎤\n",
       "                ⎥\n",
       "                ⎥\n",
       "⋅sin(θ))        ⎥\n",
       "                ⎥\n",
       "                ⎥\n",
       ")⋅φ̈ + 0.375⋅φ̈)⎥\n",
       "                ⎥\n",
       "                ⎦"
      ]
     },
     "execution_count": 9,
     "metadata": {},
     "output_type": "execute_result"
    }
   ],
   "source": [
    "LM2 = LagrangesMethod(L2, [psi, theta, phi, z], nonhol_coneqs=[zd + thetad*R*sin(theta)])\n",
    "EoM2 = LM2.form_lagranges_equations()\n",
    "\n",
    "# Simplfy the equations of motion\n",
    "EOM2 = Matrix([EoM2[0].simplify(), EoM2[1].simplify(), EoM2[2].simplify(), EoM2[3].simplify()])\n",
    "EOM2"
   ]
  },
  {
   "cell_type": "markdown",
   "metadata": {
    "ExecuteTime": {
     "end_time": "2018-04-07T00:22:12.801564Z",
     "start_time": "2018-04-07T00:22:12.785001Z"
    }
   },
   "source": [
    "## Question 3\n",
    "#### Matrix to translate the ring"
   ]
  },
  {
   "cell_type": "code",
   "execution_count": 10,
   "metadata": {
    "ExecuteTime": {
     "end_time": "2018-04-07T00:26:23.509016Z",
     "start_time": "2018-04-07T00:26:22.963463Z"
    },
    "inputHidden": false,
    "outputHidden": false
   },
   "outputs": [
    {
     "data": {
      "image/png": "[encoded data removed]",
      "text/latex": [
       "$$\\left[\\begin{matrix}1 & 0 & 0 & - R \\operatorname{sin}\\left(\\theta\\right) \\operatorname{cos}\\left(\\phi\\right)\\\\0 & 1 & 0 & - R \\operatorname{sin}\\left(\\phi\\right) \\operatorname{sin}\\left(\\theta\\right)\\\\0 & 0 & 1 & R \\operatorname{cos}\\left(\\theta\\right)\\\\0 & 0 & 0 & 1\\end{matrix}\\right]$$"
      ],
      "text/plain": [
       "⎡1  0  0  -R⋅sin(θ)⋅cos(φ)⎤\n",
       "⎢                         ⎥\n",
       "⎢0  1  0  -R⋅sin(φ)⋅sin(θ)⎥\n",
       "⎢                         ⎥\n",
       "⎢0  0  1      R⋅cos(θ)    ⎥\n",
       "⎢                         ⎥\n",
       "⎣0  0  0         1        ⎦"
      ]
     },
     "execution_count": 10,
     "metadata": {},
     "output_type": "execute_result"
    }
   ],
   "source": [
    "A = Matrix([ [1, 0, 0, -R*sin(theta)*cos(phi)], [0, 1, 0, -R*sin(theta)*sin(phi)], [0, 0, 1, R*cos(theta)], [0, 0, 0, 1] ])\n",
    "A"
   ]
  },
  {
   "cell_type": "markdown",
   "metadata": {},
   "source": [
    "#### Moment of inertia tensor"
   ]
  },
  {
   "cell_type": "code",
   "execution_count": 11,
   "metadata": {
    "ExecuteTime": {
     "end_time": "2018-04-07T00:26:24.026332Z",
     "start_time": "2018-04-07T00:26:23.514944Z"
    },
    "inputHidden": false,
    "outputHidden": false
   },
   "outputs": [
    {
     "data": {
      "image/png": "[encoded data removed]",
      "text/latex": [
       "$$\\left[\\begin{matrix}1 & 0 & 0 & 0\\\\0 & 1 & 0 & 0\\\\0 & 0 & 2 & 0\\\\0 & 0 & 0 & 1\\end{matrix}\\right]$$"
      ],
      "text/plain": [
       "⎡1  0  0  0⎤\n",
       "⎢          ⎥\n",
       "⎢0  1  0  0⎥\n",
       "⎢          ⎥\n",
       "⎢0  0  2  0⎥\n",
       "⎢          ⎥\n",
       "⎣0  0  0  1⎦"
      ]
     },
     "execution_count": 11,
     "metadata": {},
     "output_type": "execute_result"
    }
   ],
   "source": [
    "I3 = I2 # Remember to multiply by 1/2 MR^2 !!!\n",
    "I31 = I3.row_insert(3, Matrix([[0, 0, 0]]))\n",
    "I32 = I31.col_insert(3, Matrix([0, 0, 0, 1]))\n",
    "I32"
   ]
  },
  {
   "cell_type": "markdown",
   "metadata": {},
   "source": [
    "#### Shifted moment of inertia tensor "
   ]
  },
  {
   "cell_type": "code",
   "execution_count": 12,
   "metadata": {
    "ExecuteTime": {
     "end_time": "2018-04-07T00:26:24.544713Z",
     "start_time": "2018-04-07T00:26:24.032002Z"
    }
   },
   "outputs": [
    {
     "data": {
      "image/png": "[encoded data removed]",
      "text/latex": [
       "$$\\left[\\begin{matrix}1 & 0 & 0 & 0\\\\0 & 1 & 0 & 0\\\\0 & 0 & 2 & - R \\operatorname{cos}\\left(\\theta\\right)\\\\0 & 0 & 0 & 1\\end{matrix}\\right]$$"
      ],
      "text/plain": [
       "⎡1  0  0      0    ⎤\n",
       "⎢                  ⎥\n",
       "⎢0  1  0      0    ⎥\n",
       "⎢                  ⎥\n",
       "⎢0  0  2  -R⋅cos(θ)⎥\n",
       "⎢                  ⎥\n",
       "⎣0  0  0      1    ⎦"
      ]
     },
     "execution_count": 12,
     "metadata": {},
     "output_type": "execute_result"
    }
   ],
   "source": [
    "I3_new = (A*I32*(A**-1))\n",
    "I3_new"
   ]
  },
  {
   "cell_type": "markdown",
   "metadata": {},
   "source": [
    "#### Angular velocity in tilted frame"
   ]
  },
  {
   "cell_type": "code",
   "execution_count": 13,
   "metadata": {
    "ExecuteTime": {
     "end_time": "2018-04-07T00:26:25.054039Z",
     "start_time": "2018-04-07T00:26:24.549998Z"
    },
    "inputHidden": false,
    "outputHidden": false
   },
   "outputs": [
    {
     "data": {
      "image/png": "[encoded data removed]",
      "text/latex": [
       "$$\\left[\\begin{matrix}\\dot{\\theta}\\\\\\operatorname{sin}\\left(\\theta\\right) \\dot{\\phi}\\\\\\operatorname{cos}\\left(\\theta\\right) \\dot{\\phi} + \\dot{\\psi}\\\\1\\end{matrix}\\right]$$"
      ],
      "text/plain": [
       "⎡      θ̇      ⎤\n",
       "⎢              ⎥\n",
       "⎢  sin(θ)⋅φ̇   ⎥\n",
       "⎢              ⎥\n",
       "⎢cos(θ)⋅φ̇ + ψ̇⎥\n",
       "⎢              ⎥\n",
       "⎣      1       ⎦"
      ]
     },
     "execution_count": 13,
     "metadata": {},
     "output_type": "execute_result"
    }
   ],
   "source": [
    "omega3 = omegaT.row_insert(3, Matrix([1]))\n",
    "omega3T = transpose(omega3)\n",
    "omega3"
   ]
  },
  {
   "cell_type": "markdown",
   "metadata": {},
   "source": [
    "#### Kinetic energy"
   ]
  },
  {
   "cell_type": "code",
   "execution_count": 14,
   "metadata": {
    "ExecuteTime": {
     "end_time": "2018-04-07T00:26:29.001488Z",
     "start_time": "2018-04-07T00:26:25.060059Z"
    },
    "inputHidden": false,
    "outputHidden": false
   },
   "outputs": [
    {
     "data": {
      "image/png": "[encoded data removed]",
      "text/latex": [
       "$$\\frac{m}{2} \\left(0.5 R^{2} \\left(- R \\left(\\operatorname{cos}\\left(\\theta\\right) \\dot{\\phi} + \\dot{\\psi}\\right) \\operatorname{cos}\\left(\\theta\\right) + 2 \\left(\\operatorname{cos}\\left(\\theta\\right) \\dot{\\phi} + \\dot{\\psi}\\right)^{2} + \\operatorname{sin}^{2}\\left(\\theta\\right) \\dot{\\phi}^{2} + \\dot{\\theta}^{2} + 1\\right) + \\dot{x}^{2} + \\dot{y}^{2} + \\dot{z}^{2}\\right)$$"
      ],
      "text/plain": [
       "  ⎛     2 ⎛                                               2      2      2     \n",
       "m⋅⎝0.5⋅R ⋅⎝-R⋅(cos(θ)⋅φ̇ + ψ̇)⋅cos(θ) + 2⋅(cos(θ)⋅φ̇ + ψ̇)  + sin (θ)⋅φ̇  + θ̇\n",
       "──────────────────────────────────────────────────────────────────────────────\n",
       "                                                   2                          \n",
       "\n",
       "2    ⎞     2     2     2⎞\n",
       "  + 1⎠ + ẋ  + ẏ  + ż ⎠\n",
       "─────────────────────────\n",
       "                         "
      ]
     },
     "execution_count": 14,
     "metadata": {},
     "output_type": "execute_result"
    }
   ],
   "source": [
    "T3r = (omega3T*I3_new*omega3).simplify()\n",
    "T3R = T3r[0] # This is just the kinetic energy from rotation\n",
    "T3 = ((1/4)*m*R**2 * T3R + (m/2)*(xd**2 + yd**2 + zd**2)).simplify()\n",
    "T3"
   ]
  },
  {
   "cell_type": "markdown",
   "metadata": {},
   "source": [
    "#### Potential energy"
   ]
  },
  {
   "cell_type": "code",
   "execution_count": 15,
   "metadata": {
    "ExecuteTime": {
     "end_time": "2018-04-07T00:26:29.541797Z",
     "start_time": "2018-04-07T00:26:29.005677Z"
    },
    "inputHidden": false,
    "outputHidden": false
   },
   "outputs": [
    {
     "data": {
      "image/png": "[encoded data removed]",
      "text/latex": [
       "$$g m z$$"
      ],
      "text/plain": [
       "g⋅m⋅z"
      ]
     },
     "execution_count": 15,
     "metadata": {},
     "output_type": "execute_result"
    }
   ],
   "source": [
    "V3 = m*g*z\n",
    "V3"
   ]
  },
  {
   "cell_type": "markdown",
   "metadata": {},
   "source": [
    "#### Lagrangian"
   ]
  },
  {
   "cell_type": "code",
   "execution_count": 16,
   "metadata": {
    "ExecuteTime": {
     "end_time": "2018-04-07T00:26:34.308551Z",
     "start_time": "2018-04-07T00:26:29.547415Z"
    },
    "inputHidden": false,
    "outputHidden": false
   },
   "outputs": [
    {
     "data": {
      "image/png": "[encoded data removed]",
      "text/latex": [
       "$$\\frac{m}{2} \\left(R^{2} \\left(- 0.5 R \\left(\\operatorname{cos}\\left(\\theta\\right) \\dot{\\phi} + \\dot{\\psi}\\right) \\operatorname{cos}\\left(\\theta\\right) + 1.0 \\left(\\operatorname{cos}\\left(\\theta\\right) \\dot{\\phi} + \\dot{\\psi}\\right)^{2} + 0.5 \\operatorname{sin}^{2}\\left(\\theta\\right) \\dot{\\phi}^{2} + 0.5 \\dot{\\theta}^{2} + 0.5\\right) - 2 g z + \\dot{x}^{2} + \\dot{y}^{2} + \\dot{z}^{2}\\right)$$"
      ],
      "text/plain": [
       "  ⎛ 2 ⎛                                                     2          2      \n",
       "m⋅⎝R ⋅⎝-0.5⋅R⋅(cos(θ)⋅φ̇ + ψ̇)⋅cos(θ) + 1.0⋅(cos(θ)⋅φ̇ + ψ̇)  + 0.5⋅sin (θ)⋅φ̇\n",
       "──────────────────────────────────────────────────────────────────────────────\n",
       "                                                             2                \n",
       "\n",
       "2         2      ⎞             2     2     2⎞\n",
       "  + 0.5⋅θ̇  + 0.5⎠ - 2⋅g⋅z + ẋ  + ẏ  + ż ⎠\n",
       "─────────────────────────────────────────────\n",
       "                                             "
      ]
     },
     "execution_count": 16,
     "metadata": {},
     "output_type": "execute_result"
    }
   ],
   "source": [
    "L3 = (T3 - V3).simplify()\n",
    "L3"
   ]
  },
  {
   "cell_type": "markdown",
   "metadata": {},
   "source": [
    "#### Equations of motion (without the holonomic constrants. Will add later by hand) "
   ]
  },
  {
   "cell_type": "code",
   "execution_count": 17,
   "metadata": {
    "ExecuteTime": {
     "end_time": "2018-04-07T00:26:40.822301Z",
     "start_time": "2018-04-07T00:26:34.315498Z"
    },
    "inputHidden": false,
    "outputHidden": false
   },
   "outputs": [
    {
     "data": {
      "image/png": "[encoded data removed]",
      "text/latex": [
       "$$\\left[\\begin{matrix}R^{2} m \\left(0.25 R \\operatorname{sin}\\left(\\theta\\right) \\dot{\\theta} - 1.0 \\operatorname{sin}\\left(\\theta\\right) \\dot{\\phi} \\dot{\\theta} + 1.0 \\operatorname{cos}\\left(\\theta\\right) \\ddot{\\phi} + 1.0 \\ddot{\\psi}\\right)\\\\\\frac{R}{2} \\left(- R m \\left(1.0 R \\operatorname{cos}\\left(\\theta\\right) \\dot{\\phi} + 0.5 R \\dot{\\psi} - 1.0 \\operatorname{cos}\\left(\\theta\\right) \\dot{\\phi}^{2} - 2.0 \\dot{\\phi} \\dot{\\psi}\\right) \\operatorname{sin}\\left(\\theta\\right) + R m \\ddot{\\theta} + 2 lam_{1} \\operatorname{sin}\\left(\\theta\\right)\\right)\\\\R^{2} m \\left(0.25 R \\operatorname{sin}\\left(2 \\theta\\right) \\dot{\\theta} - 1.0 \\operatorname{sin}\\left(\\theta\\right) \\dot{\\psi} \\dot{\\theta} - 0.5 \\operatorname{sin}\\left(2 \\theta\\right) \\dot{\\phi} \\dot{\\theta} + 1.0 \\operatorname{cos}\\left(\\theta\\right) \\ddot{\\psi} + 0.25 \\operatorname{cos}\\left(2 \\theta\\right) \\ddot{\\phi} + 0.75 \\ddot{\\phi}\\right)\\\\m \\ddot{x}\\\\m \\ddot{y}\\\\g m + m \\ddot{z} + lam_{1}\\end{matrix}\\right]$$"
      ],
      "text/plain": [
       "⎡                      2                                                      \n",
       "⎢                     R ⋅m⋅(0.25⋅R⋅sin(θ)⋅θ̇ - 1.0⋅sin(θ)⋅φ̇⋅θ̇ + 1.0⋅cos(θ)⋅φ\n",
       "⎢                                                                             \n",
       "⎢       ⎛      ⎛                                          2            ⎞      \n",
       "⎢     R⋅⎝- R⋅m⋅⎝1.0⋅R⋅cos(θ)⋅φ̇ + 0.5⋅R⋅ψ̇ - 1.0⋅cos(θ)⋅φ̇  - 2.0⋅φ̇⋅ψ̇⎠⋅sin(θ\n",
       "⎢     ────────────────────────────────────────────────────────────────────────\n",
       "⎢                                                      2                      \n",
       "⎢                                                                             \n",
       "⎢ 2                                                                           \n",
       "⎢R ⋅m⋅(0.25⋅R⋅sin(2⋅θ)⋅θ̇ - 1.0⋅sin(θ)⋅ψ̇⋅θ̇ - 0.5⋅sin(2⋅θ)⋅φ̇⋅θ̇ + 1.0⋅cos(θ)\n",
       "⎢                                                                             \n",
       "⎢                                                     m⋅ẍ                    \n",
       "⎢                                                                             \n",
       "⎢                                                     m⋅ÿ                    \n",
       "⎢                                                                             \n",
       "⎣                                              g⋅m + m⋅z̈ + lam₁              \n",
       "\n",
       "                                 ⎤\n",
       "̈ + 1.0⋅ψ̈)                      ⎥\n",
       "                                 ⎥\n",
       "                          ⎞      ⎥\n",
       ") + R⋅m⋅θ̈ + 2⋅lam₁⋅sin(θ)⎠      ⎥\n",
       "───────────────────────────      ⎥\n",
       "                                 ⎥\n",
       "                                 ⎥\n",
       "                                 ⎥\n",
       "⋅ψ̈ + 0.25⋅cos(2⋅θ)⋅φ̈ + 0.75⋅φ̈)⎥\n",
       "                                 ⎥\n",
       "                                 ⎥\n",
       "                                 ⎥\n",
       "                                 ⎥\n",
       "                                 ⎥\n",
       "                                 ⎦"
      ]
     },
     "execution_count": 17,
     "metadata": {},
     "output_type": "execute_result"
    }
   ],
   "source": [
    "LM3 = LagrangesMethod(L3, [psi, theta, phi, x, y, z], nonhol_coneqs=[zd + thetad*R*sin(theta)])\n",
    "EoM3 = LM3.form_lagranges_equations()\n",
    "\n",
    "# Simplfy the equations of motion\n",
    "EOM3 = Matrix([EoM3[0].simplify(), EoM3[1].simplify(), EoM3[2].simplify(), EoM3[3].simplify(), EoM3[4].simplify(), EoM3[5].simplify()])\n",
    "EOM3"
   ]
  }
 ],
 "metadata": {
  "kernelspec": {
   "display_name": "Python 3",
   "language": "python",
   "name": "python3"
  },
  "language_info": {
   "codemirror_mode": {
    "name": "ipython",
    "version": 3
   },
   "file_extension": ".py",
   "mimetype": "text/x-python",
   "name": "python",
   "nbconvert_exporter": "python",
   "pygments_lexer": "ipython3",
   "version": "3.6.4"
  },
  "latex_envs": {
   "LaTeX_envs_menu_present": true,
   "autoclose": false,
   "autocomplete": true,
   "bibliofile": "biblio.bib",
   "cite_by": "apalike",
   "current_citInitial": 1,
   "eqLabelWithNumbers": true,
   "eqNumInitial": 1,
   "hotkeys": {
    "equation": "Ctrl-E",
    "itemize": "Ctrl-I"
   },
   "labels_anchors": false,
   "latex_user_defs": false,
   "report_style_numbering": false,
   "user_envs_cfg": false
  },
  "toc": {
   "base_numbering": 1,
   "nav_menu": {},
   "number_sections": false,
   "sideBar": true,
   "skip_h1_title": false,
   "title_cell": "Table of Contents",
   "title_sidebar": "Contents",
   "toc_cell": false,
   "toc_position": {},
   "toc_section_display": true,
   "toc_window_display": false
  }
 },
 "nbformat": 4,
 "nbformat_minor": 4
}

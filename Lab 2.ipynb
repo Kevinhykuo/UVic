{
 "cells": [
  {
   "cell_type": "markdown",
   "metadata": {},
   "source": [
    "# Lab 2: pH and Properties of Buffers"
   ]
  },
  {
   "cell_type": "code",
   "execution_count": 1,
   "metadata": {},
   "outputs": [],
   "source": [
    "import numpy as np\n",
    "import pandas as pd\n",
    "import matplotlib as mp\n",
    "import matplotlib.pyplot as plt\n",
    "\n",
    "from textwrap import wrap\n",
    "\n",
    "%matplotlib inline\n",
    "%config InlineBackend.figure_format = 'pdf'"
   ]
  },
  {
   "cell_type": "markdown",
   "metadata": {},
   "source": [
    "## Enzyme activity"
   ]
  },
  {
   "cell_type": "code",
   "execution_count": 2,
   "metadata": {},
   "outputs": [],
   "source": [
    "# Read the csv\n",
    "EA = pd.read_csv('/Users/kev/Documents/Python/BCMB-301A--Lab Techniques/Data/Lab 2/pH on Enzyme.csv', \n",
    "                 header=2)\n",
    "\n",
    "EA = EA.set_index('Time (s)')"
   ]
  },
  {
   "cell_type": "code",
   "execution_count": 3,
   "metadata": {},
   "outputs": [],
   "source": [
    "# Fine the derivative \n",
    "EA_d = EA.diff()\n",
    "EA_d = EA_d.rename(index=str, columns={\"3\":\"d3\", \"5\":\"d5\", \"7.5\":\"d7.5\", \"9\":\"d9\", \"10\":\"d10\"})"
   ]
  },
  {
   "cell_type": "code",
   "execution_count": 4,
   "metadata": {},
   "outputs": [],
   "source": [
    "# Concat the data with the derivative (buggy)\n",
    "EA_conc = pd.concat([EA, EA_d], axis=1)"
   ]
  },
  {
   "cell_type": "code",
   "execution_count": 5,
   "metadata": {},
   "outputs": [
    {
     "data": {
      "text/html": [
       "<div>\n",
       "<style scoped>\n",
       "    .dataframe tbody tr th:only-of-type {\n",
       "        vertical-align: middle;\n",
       "    }\n",
       "\n",
       "    .dataframe tbody tr th {\n",
       "        vertical-align: top;\n",
       "    }\n",
       "\n",
       "    .dataframe thead th {\n",
       "        text-align: right;\n",
       "    }\n",
       "</style>\n",
       "<table border=\"1\" class=\"dataframe\">\n",
       "  <thead>\n",
       "    <tr style=\"text-align: right;\">\n",
       "      <th></th>\n",
       "      <th>3</th>\n",
       "      <th>5</th>\n",
       "      <th>7.5</th>\n",
       "      <th>9</th>\n",
       "      <th>10</th>\n",
       "    </tr>\n",
       "    <tr>\n",
       "      <th>Time (s)</th>\n",
       "      <th></th>\n",
       "      <th></th>\n",
       "      <th></th>\n",
       "      <th></th>\n",
       "      <th></th>\n",
       "    </tr>\n",
       "  </thead>\n",
       "  <tbody>\n",
       "    <tr>\n",
       "      <th>0</th>\n",
       "      <td>0.000</td>\n",
       "      <td>0.000</td>\n",
       "      <td>0.000</td>\n",
       "      <td>0.000</td>\n",
       "      <td>0.000</td>\n",
       "    </tr>\n",
       "    <tr>\n",
       "      <th>10</th>\n",
       "      <td>0.001</td>\n",
       "      <td>-0.096</td>\n",
       "      <td>-0.166</td>\n",
       "      <td>0.024</td>\n",
       "      <td>0.010</td>\n",
       "    </tr>\n",
       "    <tr>\n",
       "      <th>20</th>\n",
       "      <td>0.001</td>\n",
       "      <td>-0.155</td>\n",
       "      <td>-0.142</td>\n",
       "      <td>0.036</td>\n",
       "      <td>0.035</td>\n",
       "    </tr>\n",
       "    <tr>\n",
       "      <th>30</th>\n",
       "      <td>0.003</td>\n",
       "      <td>-0.146</td>\n",
       "      <td>-0.115</td>\n",
       "      <td>0.047</td>\n",
       "      <td>0.048</td>\n",
       "    </tr>\n",
       "    <tr>\n",
       "      <th>40</th>\n",
       "      <td>0.001</td>\n",
       "      <td>0.014</td>\n",
       "      <td>-0.090</td>\n",
       "      <td>0.060</td>\n",
       "      <td>0.068</td>\n",
       "    </tr>\n",
       "    <tr>\n",
       "      <th>50</th>\n",
       "      <td>0.000</td>\n",
       "      <td>0.087</td>\n",
       "      <td>-0.063</td>\n",
       "      <td>0.074</td>\n",
       "      <td>0.088</td>\n",
       "    </tr>\n",
       "    <tr>\n",
       "      <th>60</th>\n",
       "      <td>0.002</td>\n",
       "      <td>0.102</td>\n",
       "      <td>-0.037</td>\n",
       "      <td>0.088</td>\n",
       "      <td>0.105</td>\n",
       "    </tr>\n",
       "    <tr>\n",
       "      <th>70</th>\n",
       "      <td>0.001</td>\n",
       "      <td>0.104</td>\n",
       "      <td>-0.012</td>\n",
       "      <td>0.102</td>\n",
       "      <td>0.123</td>\n",
       "    </tr>\n",
       "    <tr>\n",
       "      <th>80</th>\n",
       "      <td>0.000</td>\n",
       "      <td>0.104</td>\n",
       "      <td>0.015</td>\n",
       "      <td>0.115</td>\n",
       "      <td>0.146</td>\n",
       "    </tr>\n",
       "    <tr>\n",
       "      <th>90</th>\n",
       "      <td>0.000</td>\n",
       "      <td>0.016</td>\n",
       "      <td>0.042</td>\n",
       "      <td>0.131</td>\n",
       "      <td>0.160</td>\n",
       "    </tr>\n",
       "    <tr>\n",
       "      <th>100</th>\n",
       "      <td>0.001</td>\n",
       "      <td>0.113</td>\n",
       "      <td>0.069</td>\n",
       "      <td>0.144</td>\n",
       "      <td>0.182</td>\n",
       "    </tr>\n",
       "    <tr>\n",
       "      <th>110</th>\n",
       "      <td>0.001</td>\n",
       "      <td>0.124</td>\n",
       "      <td>0.097</td>\n",
       "      <td>0.159</td>\n",
       "      <td>0.203</td>\n",
       "    </tr>\n",
       "    <tr>\n",
       "      <th>120</th>\n",
       "      <td>0.000</td>\n",
       "      <td>0.133</td>\n",
       "      <td>0.124</td>\n",
       "      <td>0.174</td>\n",
       "      <td>0.216</td>\n",
       "    </tr>\n",
       "  </tbody>\n",
       "</table>\n",
       "</div>"
      ],
      "text/plain": [
       "              3      5    7.5      9     10\n",
       "Time (s)                                   \n",
       "0         0.000  0.000  0.000  0.000  0.000\n",
       "10        0.001 -0.096 -0.166  0.024  0.010\n",
       "20        0.001 -0.155 -0.142  0.036  0.035\n",
       "30        0.003 -0.146 -0.115  0.047  0.048\n",
       "40        0.001  0.014 -0.090  0.060  0.068\n",
       "50        0.000  0.087 -0.063  0.074  0.088\n",
       "60        0.002  0.102 -0.037  0.088  0.105\n",
       "70        0.001  0.104 -0.012  0.102  0.123\n",
       "80        0.000  0.104  0.015  0.115  0.146\n",
       "90        0.000  0.016  0.042  0.131  0.160\n",
       "100       0.001  0.113  0.069  0.144  0.182\n",
       "110       0.001  0.124  0.097  0.159  0.203\n",
       "120       0.000  0.133  0.124  0.174  0.216"
      ]
     },
     "execution_count": 5,
     "metadata": {},
     "output_type": "execute_result"
    }
   ],
   "source": [
    "EA"
   ]
  },
  {
   "cell_type": "code",
   "execution_count": 6,
   "metadata": {},
   "outputs": [
    {
     "data": {
      "text/html": [
       "<div>\n",
       "<style scoped>\n",
       "    .dataframe tbody tr th:only-of-type {\n",
       "        vertical-align: middle;\n",
       "    }\n",
       "\n",
       "    .dataframe tbody tr th {\n",
       "        vertical-align: top;\n",
       "    }\n",
       "\n",
       "    .dataframe thead th {\n",
       "        text-align: right;\n",
       "    }\n",
       "</style>\n",
       "<table border=\"1\" class=\"dataframe\">\n",
       "  <thead>\n",
       "    <tr style=\"text-align: right;\">\n",
       "      <th></th>\n",
       "      <th>d3</th>\n",
       "      <th>d5</th>\n",
       "      <th>d7.5</th>\n",
       "      <th>d9</th>\n",
       "      <th>d10</th>\n",
       "    </tr>\n",
       "    <tr>\n",
       "      <th>Time (s)</th>\n",
       "      <th></th>\n",
       "      <th></th>\n",
       "      <th></th>\n",
       "      <th></th>\n",
       "      <th></th>\n",
       "    </tr>\n",
       "  </thead>\n",
       "  <tbody>\n",
       "    <tr>\n",
       "      <th>0</th>\n",
       "      <td>NaN</td>\n",
       "      <td>NaN</td>\n",
       "      <td>NaN</td>\n",
       "      <td>NaN</td>\n",
       "      <td>NaN</td>\n",
       "    </tr>\n",
       "    <tr>\n",
       "      <th>10</th>\n",
       "      <td>0.001</td>\n",
       "      <td>-0.096</td>\n",
       "      <td>-0.166</td>\n",
       "      <td>0.024</td>\n",
       "      <td>0.010</td>\n",
       "    </tr>\n",
       "    <tr>\n",
       "      <th>20</th>\n",
       "      <td>0.000</td>\n",
       "      <td>-0.059</td>\n",
       "      <td>0.024</td>\n",
       "      <td>0.012</td>\n",
       "      <td>0.025</td>\n",
       "    </tr>\n",
       "    <tr>\n",
       "      <th>30</th>\n",
       "      <td>0.002</td>\n",
       "      <td>0.009</td>\n",
       "      <td>0.027</td>\n",
       "      <td>0.011</td>\n",
       "      <td>0.013</td>\n",
       "    </tr>\n",
       "    <tr>\n",
       "      <th>40</th>\n",
       "      <td>-0.002</td>\n",
       "      <td>0.160</td>\n",
       "      <td>0.025</td>\n",
       "      <td>0.013</td>\n",
       "      <td>0.020</td>\n",
       "    </tr>\n",
       "    <tr>\n",
       "      <th>50</th>\n",
       "      <td>-0.001</td>\n",
       "      <td>0.073</td>\n",
       "      <td>0.027</td>\n",
       "      <td>0.014</td>\n",
       "      <td>0.020</td>\n",
       "    </tr>\n",
       "    <tr>\n",
       "      <th>60</th>\n",
       "      <td>0.002</td>\n",
       "      <td>0.015</td>\n",
       "      <td>0.026</td>\n",
       "      <td>0.014</td>\n",
       "      <td>0.017</td>\n",
       "    </tr>\n",
       "    <tr>\n",
       "      <th>70</th>\n",
       "      <td>-0.001</td>\n",
       "      <td>0.002</td>\n",
       "      <td>0.025</td>\n",
       "      <td>0.014</td>\n",
       "      <td>0.018</td>\n",
       "    </tr>\n",
       "    <tr>\n",
       "      <th>80</th>\n",
       "      <td>-0.001</td>\n",
       "      <td>0.000</td>\n",
       "      <td>0.027</td>\n",
       "      <td>0.013</td>\n",
       "      <td>0.023</td>\n",
       "    </tr>\n",
       "    <tr>\n",
       "      <th>90</th>\n",
       "      <td>0.000</td>\n",
       "      <td>-0.088</td>\n",
       "      <td>0.027</td>\n",
       "      <td>0.016</td>\n",
       "      <td>0.014</td>\n",
       "    </tr>\n",
       "    <tr>\n",
       "      <th>100</th>\n",
       "      <td>0.001</td>\n",
       "      <td>0.097</td>\n",
       "      <td>0.027</td>\n",
       "      <td>0.013</td>\n",
       "      <td>0.022</td>\n",
       "    </tr>\n",
       "    <tr>\n",
       "      <th>110</th>\n",
       "      <td>0.000</td>\n",
       "      <td>0.011</td>\n",
       "      <td>0.028</td>\n",
       "      <td>0.015</td>\n",
       "      <td>0.021</td>\n",
       "    </tr>\n",
       "    <tr>\n",
       "      <th>120</th>\n",
       "      <td>-0.001</td>\n",
       "      <td>0.009</td>\n",
       "      <td>0.027</td>\n",
       "      <td>0.015</td>\n",
       "      <td>0.013</td>\n",
       "    </tr>\n",
       "  </tbody>\n",
       "</table>\n",
       "</div>"
      ],
      "text/plain": [
       "             d3     d5   d7.5     d9    d10\n",
       "Time (s)                                   \n",
       "0           NaN    NaN    NaN    NaN    NaN\n",
       "10        0.001 -0.096 -0.166  0.024  0.010\n",
       "20        0.000 -0.059  0.024  0.012  0.025\n",
       "30        0.002  0.009  0.027  0.011  0.013\n",
       "40       -0.002  0.160  0.025  0.013  0.020\n",
       "50       -0.001  0.073  0.027  0.014  0.020\n",
       "60        0.002  0.015  0.026  0.014  0.017\n",
       "70       -0.001  0.002  0.025  0.014  0.018\n",
       "80       -0.001  0.000  0.027  0.013  0.023\n",
       "90        0.000 -0.088  0.027  0.016  0.014\n",
       "100       0.001  0.097  0.027  0.013  0.022\n",
       "110       0.000  0.011  0.028  0.015  0.021\n",
       "120      -0.001  0.009  0.027  0.015  0.013"
      ]
     },
     "execution_count": 6,
     "metadata": {},
     "output_type": "execute_result"
    }
   ],
   "source": [
    "EA_d"
   ]
  },
  {
   "cell_type": "code",
   "execution_count": 7,
   "metadata": {},
   "outputs": [
    {
     "data": {
      "text/plain": [
       "d3     -0.000091\n",
       "d5      0.020818\n",
       "d7.5    0.026364\n",
       "d9      0.013636\n",
       "d10     0.018727\n",
       "dtype: float64"
      ]
     },
     "execution_count": 7,
     "metadata": {},
     "output_type": "execute_result"
    }
   ],
   "source": [
    "# Average enzyme activity \n",
    "EA_d_ave = EA_d.iloc[2:,:].mean(axis=0)\n",
    "EA_d_ave"
   ]
  },
  {
   "cell_type": "code",
   "execution_count": 8,
   "metadata": {},
   "outputs": [
    {
     "data": {
      "text/plain": [
       "d3       -0.344828\n",
       "d5       78.965517\n",
       "d7.5    100.000000\n",
       "d9       51.724138\n",
       "d10      71.034483\n",
       "dtype: float64"
      ]
     },
     "execution_count": 8,
     "metadata": {},
     "output_type": "execute_result"
    }
   ],
   "source": [
    "# Relative enzyme activity\n",
    "EA_d_ave_percent = EA_d_ave / np.max(EA_d_ave) * 100\n",
    "EA_d_ave_percent"
   ]
  },
  {
   "cell_type": "code",
   "execution_count": 9,
   "metadata": {},
   "outputs": [
    {
     "data": {
      "text/plain": [
       "Text(0, 0.5, 'Relative enzyme activity (%)')"
      ]
     },
     "execution_count": 9,
     "metadata": {},
     "output_type": "execute_result"
    },
    {
     "data": {
      "application/pdf": "[encoded data removed]",
      "text/plain": [
       "<Figure size 432x288 with 1 Axes>"
      ]
     },
     "metadata": {
      "needs_background": "light"
     },
     "output_type": "display_data"
    }
   ],
   "source": [
    "plt.figure(figsize=(6, 4))\n",
    "# EA_d_ave_percent.plot(kind='line')\n",
    "# EA_d_ave_percent.plot(kind='scatter')\n",
    "plt.plot(list(EA), EA_d_ave_percent)\n",
    "plt.scatter(list(EA), EA_d_ave_percent)\n",
    "plt.title(\"Percent enzyme activity vs pH\")\n",
    "plt.xlabel('pH')\n",
    "plt.ylabel('Relative enzyme activity (%)')"
   ]
  },
  {
   "cell_type": "markdown",
   "metadata": {},
   "source": [
    "## Titration curve: Cubic spline fit"
   ]
  },
  {
   "cell_type": "markdown",
   "metadata": {},
   "source": [
    "We need to have 6 curves: $S_0, S_1, S_2, S_3, S_4, S_5$\n",
    "\n",
    "> $S_0$ connects point $x_0$ to $x_1$\n",
    "\n",
    "> $S_1$ connects point $x_1$ to $x_2$\n",
    "\n",
    "> $S_2$ connects point $x_2$ to $x_3$ \n",
    "\n",
    "> $S_3$ connects point $x_3$ to $x_4$\n",
    "\n",
    "> $S_4$ connects point $x_4$ to $x_5$ \n",
    "\n",
    "> $S_5$ connects point $x_5$ to $x_6$\n",
    "\n",
    "Values for the points (these correspond to the $pK_a$): \n",
    "\n",
    "> $x_0 = (-1.5, -0.29)$ \n",
    "\n",
    "> $x_1 = (-1, 2.35)$\n",
    "\n",
    "> $x_2 = (-0.5, 4.4025)$\n",
    "\n",
    "> $x_3 = (0, 7.63)$ \n",
    "\n",
    "> $x_4 = (0.5, 9.075)$\n",
    "\n",
    "> $x_5 = (1, 10.52)$ \n",
    "\n",
    "> $x_6 = (1.5, 11.995)$\n",
    "\n",
    "Equations for these points:\n",
    "\n",
    "$$\\left\\{ \\begin{array}{ll}\n",
    "    S_0(x_0) = a_0 + b_0 x_0 + c_0 x_0^2 + d_0 x_0^3 \\\\\n",
    "    S_0(x_1) = a_0 + b_0 x_1 + c_0 x_1^2 + d_0 x_1^3 \\\\\n",
    "    S_1(x_1) = a_1 + b_1 x_1 + c_1 x_1^2 + d_1 x_1^3 \\\\\n",
    "    S_1(x_2) = a_1 + b_1 x_2 + c_1 x_2^2 + d_1 x_2^3 \\\\\n",
    "    S_2(x_2) = a_2 + b_2 x_2 + c_2 x_2^2 + d_2 x_2^3 \\\\\n",
    "    S_2(x_3) = a_2 + b_2 x_3 + c_2 x_3^2 + d_2 x_3^3 \\\\\n",
    "    S_3(x_3) = a_3 + b_3 x_3 + c_3 x_3^2 + d_3 x_3^3 \\\\\n",
    "    S_3(x_4) = a_3 + b_3 x_4 + c_3 x_4^2 + d_3 x_4^3 \\\\\n",
    "    S_4(x_4) = a_4 + b_4 x_4 + c_4 x_4^2 + d_4 x_4^3 \\\\\n",
    "    S_4(x_5) = a_4 + b_4 x_5 + c_4 x_5^2 + d_4 x_5^3 \\\\\n",
    "    S_5(x_5) = a_5 + b_5 x_5 + c_5 x_5^2 + d_5 x_5^3 \\\\\n",
    "    S_5(x_6) = a_6 + b_5 x_6 + c_5 x_6^2 + d_5 x_6^3 \n",
    "    \\end{array} \\right.$$    \n",
    "\n",
    "We also want the derivatives at the connecting points to be zero: \n",
    "\n",
    "$$\\left\\{ \\begin{array}{ll}\n",
    "    S'_0(x_1) = b_0 + 2 c_0 x_1 + 3 d_0 x_1^2 = b_1 + 2 c_1 x_1 + 3 d_1 x_1^2 = S'_1(x_1) = 0\\\\\n",
    "    S'_1(x_2) = b_1 + 2 c_1 x_2 + 3 d_1 x_2^2 = b_2 + 2 c_2 x_2 + 3 d_2 x_2^2 = S'_2(x_2) \\\\\n",
    "    S'_2(x_3) = b_2 + 2 c_2 x_3 + 3 d_2 x_3^2 = b_3 + 2 c_3 x_3 + 3 d_3 x_3^2 = S'_3(x_3) = 0\\\\\n",
    "    S'_3(x_4) = b_3 + 2 c_3 x_4 + 3 d_3 x_4^2 = b_4 + 2 c_4 x_4 + 3 d_4 x_4^2 = S'_4(x_4) \\\\\n",
    "    S'_4(x_5) = b_4 + 2 c_4 x_5 + 3 d_4 x_5^2 = b_5 + 2 c_5 x_5 + 3 d_5 x_5^2 = S'_5(x_5) = 0\\\\\n",
    "    \\end{array} \\right.$$   \n",
    "\n",
    "For a natural spline, we want the second order derivatives to be continuous and to be zero at the ends: \n",
    "\n",
    "$$\\left\\{ \\begin{array}{ll}\n",
    "    S''_0(x_1) = 2 c_0 + 6 d_0 x_1 = 2 c_1 + 6 d_1 x_1 = S''_1(x_1)\\\\\n",
    "    S''_1(x_2) = 2 c_1 + 6 d_1 x_2 = 2 c_2 + 6 d_2 x_2 = S''_2(x_2)\\\\\n",
    "    S''_2(x_3) = 2 c_2 + 6 d_2 x_3 = 2 c_3 + 6 d_3 x_3 = S''_3(x_3)\\\\\n",
    "    S''_3(x_4) = 2 c_3 + 6 d_3 x_4 = 2 c_4 + 6 d_4 x_4 = S''_4(x_4)\\\\\n",
    "    S''_4(x_5) = 2 c_4 + 6 d_4 x_5 = 2 c_5 + 6 d_5 x_5 = S''_5(x_5)\\\\\n",
    "    S_0''(x_0) = 2 c_0 + 6 d_0 x_0 = 2 c_5 + 6 d_5 x_6 = S_3''(x_6) = 0\n",
    "    \\end{array} \\right.$$ "
   ]
  },
  {
   "cell_type": "markdown",
   "metadata": {},
   "source": [
    "Putting it all together:\n",
    "\n",
    "$$\\left\\{ \\begin{array}{ll}\n",
    "    S_0(-1.5) = a_0 + b_0 x_0 + c_0 x_0^2 + d_0 x_0^3 \\\\\n",
    "    S_0(-1) = a_0 - b_0 + c_0 - d_0 \\\\\n",
    "    S_1(-1) = a_1 - b_1 + c_1 - d_1 \\\\\n",
    "    S_1(0.5) = a_1 + b_1 x_2 + c_1 x_2^2 + d_1 x_2^3 \\\\\n",
    "    S_2(0.5) = a_2 + b_2 x_2 + c_2 x_2^2 + d_2 x_2^3 \\\\\n",
    "    S_2(0) = a_2 \\\\\n",
    "    S_3(0) = a_3 \\\\\n",
    "    S_3(0.5) = a_3 + b_3 x_4 + c_3 x_4^2 + d_3 x_4^3 \\\\\n",
    "    S_4(0.5) = a_4 + b_4 x_4 + c_4 x_4^2 + d_4 x_4^3 \\\\\n",
    "    S_4(1) = a_4 + b_4 + c_4 + d_4 \\\\\n",
    "    S_5(1) = a_5 + b_5 + c_5 + d_5 \\\\\n",
    "    S_5(1.5) = a_6 + b_5 x_6 + c_5 x_6^2 + d_5 x_6^3 \\\\\n",
    "    S'_0(-1) = b_0 - 2 c_0 + 3 d_0 = b_1 - 2 c_1 + 3 d_1 = S'_1(-1) = 0\\\\\n",
    "    S'_1(-0.5) = b_1 + 2 c_1 x_2 + 3 d_1 x_2^2 = b_2 + 2 c_2 x_2 + 3 d_2 x_2^2 = S'_2(-0.5) \\\\\n",
    "    S'_2(0) = b_2 = b_3 = S'_3(0) = 0\\\\\n",
    "    S'_3(0.5) = b_3 + 2 c_3 x_4 + 3 d_3 x_4^2 = b_4 + 2 c_4 x_4 + 3 d_4 x_4^2 = S'_4(0.5) \\\\\n",
    "    S'_4(1) = b_4 + 2 c_4 + 3 d_4 = b_5 + 2 c_5 + 3 d_5 = S'_5(1) = 0\\\\\n",
    "    S''_0(-1) = 2 c_0 - 6 d_0 = 2 c_1 - 6 d_1 = S''_1(-1)\\\\\n",
    "    S''_1(-0.5) = 2 c_1 + 6 d_1 x_2 = 2 c_2 + 6 d_2 x_2 = S''_2(-0.5)\\\\\n",
    "    S''_2(0) = 2 c_2  = 2 c_3 = S''_3(0)\\\\\n",
    "    S''_3(0.5) = 2 c_3 + 6 d_3 x_4 = 2 c_4 + 6 d_4 x_4 = S''_4(0.5)\\\\\n",
    "    S''_4(1) = 2 c_4 + 6 d_4 = 2 c_5 + 6 d_5 = S''_5(1)\\\\\n",
    "    S_0''(-1.5) = 2 c_0 + 6 d_0 x_0 = 2 c_5 + 6 d_5 x_6 = S_3''(1.5) = 0\n",
    "    \\end{array} \\right.$$ "
   ]
  },
  {
   "cell_type": "markdown",
   "metadata": {},
   "source": [
    "$$\\left\\{ \\begin{array}{ll}\n",
    "    S_0(-1.5) = a_0 + b_0 x_0 + c_0 x_0^2 + d_0 x_0^3 \\\\\n",
    "    S_0(-1) = a_0 - b_0 + c_0 - d_0 \\\\\n",
    "    S_1(-1) = a_1 - b_1 + c_1 - d_1 \\\\\n",
    "    S_1(0.5) = a_1 + b_1 x_2 + c_1 x_2^2 + d_1 x_2^3 \\\\\n",
    "    S_2(0.5) = a_2 + c_2 x_2^2 + d_2 x_2^3 \\\\\n",
    "    S_2(0) = a_2 \\\\\n",
    "    S_3(0) = a_3 \\\\\n",
    "    S_3(0.5) = a_3 + c_2 x_4^2 + d_3 x_4^3 \\\\\n",
    "    S_4(0.5) = a_4 + b_4 x_4 + c_4 x_4^2 + d_4 x_4^3 \\\\\n",
    "    S_4(1) = a_4 + b_4 + c_4 + d_4 \\\\\n",
    "    S_5(1) = a_5 + b_5 + c_5 + d_5 \\\\\n",
    "    S_5(1.5) = a_6 + b_5 x_6 + c_5 x_6^2 + d_5 x_6^3 \\\\\n",
    "    S'_0(-1) = b_0 - 2 c_0 + 3 d_0 = b_1 - 2 c_1 + 3 d_1 = S'_1(-1) = 0\\\\\n",
    "    S'_1(-0.5) = b_1 + 2 c_1 x_2 + 3 d_1 x_2^2 = 2 c_2 x_2 + 3 d_2 x_2^2 = S'_2(-0.5) \\\\\n",
    "    S'_3(0.5) = 2 c_2 x_4 + 3 d_3 x_4^2 = b_4 + 2 c_4 x_4 + 3 d_4 x_4^2 = S'_4(0.5) \\\\\n",
    "    S'_4(1) = b_4 + 2 c_4 + 3 d_4 = b_5 + 2 c_5 + 3 d_5 = S'_5(1) = 0\\\\\n",
    "    S''_0(-1) = 2 c_0 - 6 d_0 = 2 c_1 - 6 d_1 = S''_1(-1)\\\\\n",
    "    S''_1(-0.5) = 2 c_1 + 6 d_1 x_2 = 2 c_2 + 6 d_2 x_2 = S''_2(-0.5)\\\\\n",
    "    S''_3(0.5) = c_2 + 3 d_3 x_4 = c_4 + 3 d_4 x_4 = S''_4(0.5)\\\\\n",
    "    S''_4(1) = c_4 + 3 d_4 = c_5 + 3 d_5 = S''_5(1)\\\\\n",
    "    S_0''(-1.5) = c_0 + 3 d_0 x_0 = c_5 + 3 d_5 x_6 = S_3''(1.5) = 0\n",
    "    \\end{array} \\right.$$ "
   ]
  },
  {
   "cell_type": "code",
   "execution_count": 10,
   "metadata": {},
   "outputs": [],
   "source": [
    "x0 = -1.5\n",
    "x1 = -1\n",
    "x2 = -0.5\n",
    "x3 = 0\n",
    "x4 = 0.5\n",
    "x5 = 1\n",
    "x6 = 1.5\n",
    "\n",
    "[y0, y1, y2, y3, y4, y5, y6] = [-0.29, 2.35, 4.4025, 7.63, 9.075, 10.52, 11.995]\n",
    "\n",
    "C = np.array([\n",
    "    [1, x0,  x0**2,  x0**3,  0,  0,  0,  0,  0,  0,  0,  0,  0,  0,  0,  0,  0,  0,  0,  0,  0,  0,  0,  0],\n",
    "    [1, -1,  1, -1,  0,  0,  0,  0,  0,  0,  0,  0,  0,  0,  0,  0,  0,  0,  0,  0,  0,  0,  0,  0],\n",
    "    [0,  0,  0,  0,  1, -1,  1, -1,  0,  0,  0,  0,  0,  0,  0,  0,  0,  0,  0,  0,  0,  0,  0,  0],\n",
    "    [0,  0,  0,  0,  1, x2, x2**2, x2**3,  0,  0,  0,  0,  0,  0,  0,  0,  0,  0,  0,  0,  0,  0,  0,  0],\n",
    "    [0,  0,  0,  0,  0,  0,  0,  0,  1,  0, x2**2, x2**3,  0,  0,  0,  0,  0,  0,  0,  0,  0,  0,  0,  0],\n",
    "    [0,  0,  0,  0,  0,  0,  0,  0,  1,  0,  0,  0,  0,  0,  0,  0,  0,  0,  0,  0,  0,  0,  0,  0],\n",
    "    [0,  0,  0,  0,  0,  0,  0,  0,  0,  0,  0,  0,  1,  0,  0,  0,  0,  0,  0,  0,  0,  0,  0,  0],\n",
    "    [0,  0,  0,  0,  0,  0,  0,  0,  0,  0, x4**2,  0,  1,  0,  0, x4**3,  0,  0,  0,  0,  0,  0,  0,  0],\n",
    "    [0,  0,  0,  0,  0,  0,  0,  0,  0,  0,  0,  0,  0,  0,  0,  0,  1, x4, x4**2, x4**3,  0,  0,  0,  0],\n",
    "    [0,  0,  0,  0,  0,  0,  0,  0,  0,  0,  0,  0,  1,  1,  1,  1,  0,  0,  0,  0,  0,  0,  0,  0],\n",
    "    [0,  0,  0,  0,  0,  0,  0,  0,  0,  0,  0,  0,  0,  0,  0,  0,  1,  1,  1,  1,  0,  0,  0,  0],\n",
    "    [0,  0,  0,  0,  0,  0,  0,  0,  0,  0,  0,  0,  0,  0,  0,  0,  0,  0,  0,  0,  1,  x6,  x6**2,  x6**3],\n",
    "    [0,  0,  0,  0,  0,  1, -2,  3,  0,  0,  0,  0,  0,  0,  0,  0,  0,  0,  0,  0,  0,  0,  0,  0],\n",
    "    [0,  0,  0,  0,  0,  0,  0,  0,  0,  1, -2,  3,  0,  0,  0,  0,  0,  0,  0,  0,  0,  0,  0,  0],\n",
    "    [0,  0,  0,  0,  0,  1,  2*x2,  3*x2**2,  0,  0, -2*x2, -3*x2**2,  0,  0,  0,  0,  0,  0,  0,  0,  0,  0,  0,  0],\n",
    "    [0,  0,  0,  0,  0,  0,  0,  0,  0,  0, 2*x4, 0,  0,  0,  0, 3*x4**2, -1, 2*x4, 3*x4**2,  0,  0,  0,  0,  0],\n",
    "    [0,  0,  0,  0,  0,  0,  0,  0,  0,  0,  0,  0,  0,  1,  2,  3,  0,  0,  0,  0,  0,  0,  0,  0],\n",
    "    [0,  0,  0,  0,  0,  0,  0,  0,  0,  0,  0,  0,  0,  0,  0,  0,  0, -1, -2, -3,  0,  0,  0,  0],\n",
    "    [0,  0,  1, -3,  0,  0, -1,  3,  0,  0,  0,  0,  0,  0,  0,  0,  0,  0,  0,  0,  0,  0,  0,  0],\n",
    "    [0,  0,  0,  0,  0,  0,  1, 3*x2,  0,  0, -1,-3*x2,  0,  0,  0,  0,  0,  0,  0,  0,  0,  0,  0,  0],\n",
    "    [0,  0,  0,  0,  0,  0,  0,  0,  0,  0,  1,  0,  0,  0,  0, 3*x4,  0,  0, -1, -3*x4,  0,  0,  0,  0],\n",
    "    [0,  0,  0,  0,  0,  0,  0,  0,  0,  0,  0,  0,  0,  0,  0,  0,  0,  0,  1, -3,  0,  0, -1, -3,],\n",
    "    [0,  0,  1, 3*x0,  0,  0,  0,  0,  0,  0,  0,  0,  0,  0,  0,  0,  0,  0,  0,  0,  0,  0,  0,  0],\n",
    "    [0,  0,  0,  0,  0,  0,  0,  0,  0,  0,  0,  0,  0,  0,  0,  0,  0,  0,  0,  0,  0,  0,  1, 3*x6]])\n",
    "\n",
    "# Create an array of vector \"b\"\n",
    "vec_b = np.array([\n",
    "    [y0],\n",
    "    [y1],\n",
    "    [y1],\n",
    "    [y2], \n",
    "    [y2], \n",
    "    [y3],  \n",
    "    [y3], \n",
    "    [y4],  \n",
    "    [y4], \n",
    "    [y5],\n",
    "    [y5], \n",
    "    [y6], \n",
    "    [0], \n",
    "    [0], \n",
    "    [0], \n",
    "    [0],\n",
    "    [0], \n",
    "    [0], \n",
    "    [0], \n",
    "    [0], \n",
    "    [0], \n",
    "    [0], \n",
    "    [0], \n",
    "    [0]])"
   ]
  },
  {
   "cell_type": "markdown",
   "metadata": {},
   "source": [
    "Now, let's put this into a matrix:\n",
    "\n",
    "$$C \\vec{a} = \\vec{b}$$\n",
    "\n",
    "$$\\text{Where:} \\ \n",
    "\\left\\{ \\begin{array}{ll}\n",
    "            C \\ \\text{is the matrix containing the coefficient of \"a's\", \"b's\", \"c's\", and \"d's\"}\\\\\n",
    "            \\vec{a} \\ \\text{is a vector containing the \"a's\", \"b's\", \"c's\", and \"d's\"}\\\\\n",
    "            \\vec{b} \\ \\text{is a vector containing the number on the right side of the equations}\n",
    "            \\end{array} \\right.$$ \n"
   ]
  },
  {
   "cell_type": "markdown",
   "metadata": {},
   "source": [
    "The coefficients can be calculated by: $$\\vec{a} = C^{-1} \\vec{b}$$"
   ]
  },
  {
   "cell_type": "code",
   "execution_count": 11,
   "metadata": {},
   "outputs": [
    {
     "ename": "LinAlgError",
     "evalue": "Singular matrix",
     "output_type": "error",
     "traceback": [
      "\u001b[0;31m---------------------------------------------------------------------------\u001b[0m",
      "\u001b[0;31mLinAlgError\u001b[0m                               Traceback (most recent call last)",
      "\u001b[0;32m<ipython-input-11-b33ac8721bc5>\u001b[0m in \u001b[0;36m<module>\u001b[0;34m\u001b[0m\n\u001b[1;32m      1\u001b[0m \u001b[0;31m# Find the inverse of \"C\"\u001b[0m\u001b[0;34m\u001b[0m\u001b[0;34m\u001b[0m\u001b[0;34m\u001b[0m\u001b[0m\n\u001b[0;32m----> 2\u001b[0;31m \u001b[0mC_inv\u001b[0m \u001b[0;34m=\u001b[0m \u001b[0mnp\u001b[0m\u001b[0;34m.\u001b[0m\u001b[0mlinalg\u001b[0m\u001b[0;34m.\u001b[0m\u001b[0minv\u001b[0m\u001b[0;34m(\u001b[0m\u001b[0mC\u001b[0m\u001b[0;34m)\u001b[0m\u001b[0;34m\u001b[0m\u001b[0;34m\u001b[0m\u001b[0m\n\u001b[0m\u001b[1;32m      3\u001b[0m \u001b[0;34m\u001b[0m\u001b[0m\n\u001b[1;32m      4\u001b[0m \u001b[0;31m# Take the product of \"C\" and \"b\"\u001b[0m\u001b[0;34m\u001b[0m\u001b[0;34m\u001b[0m\u001b[0;34m\u001b[0m\u001b[0m\n\u001b[1;32m      5\u001b[0m \u001b[0mvec_a\u001b[0m \u001b[0;34m=\u001b[0m \u001b[0mC_inv\u001b[0m \u001b[0;34m@\u001b[0m \u001b[0mvec_b\u001b[0m\u001b[0;34m\u001b[0m\u001b[0;34m\u001b[0m\u001b[0m\n",
      "\u001b[0;32m~/anaconda3/lib/python3.7/site-packages/numpy/linalg/linalg.py\u001b[0m in \u001b[0;36minv\u001b[0;34m(a)\u001b[0m\n\u001b[1;32m    549\u001b[0m     \u001b[0msignature\u001b[0m \u001b[0;34m=\u001b[0m \u001b[0;34m'D->D'\u001b[0m \u001b[0;32mif\u001b[0m \u001b[0misComplexType\u001b[0m\u001b[0;34m(\u001b[0m\u001b[0mt\u001b[0m\u001b[0;34m)\u001b[0m \u001b[0;32melse\u001b[0m \u001b[0;34m'd->d'\u001b[0m\u001b[0;34m\u001b[0m\u001b[0;34m\u001b[0m\u001b[0m\n\u001b[1;32m    550\u001b[0m     \u001b[0mextobj\u001b[0m \u001b[0;34m=\u001b[0m \u001b[0mget_linalg_error_extobj\u001b[0m\u001b[0;34m(\u001b[0m\u001b[0m_raise_linalgerror_singular\u001b[0m\u001b[0;34m)\u001b[0m\u001b[0;34m\u001b[0m\u001b[0;34m\u001b[0m\u001b[0m\n\u001b[0;32m--> 551\u001b[0;31m     \u001b[0mainv\u001b[0m \u001b[0;34m=\u001b[0m \u001b[0m_umath_linalg\u001b[0m\u001b[0;34m.\u001b[0m\u001b[0minv\u001b[0m\u001b[0;34m(\u001b[0m\u001b[0ma\u001b[0m\u001b[0;34m,\u001b[0m \u001b[0msignature\u001b[0m\u001b[0;34m=\u001b[0m\u001b[0msignature\u001b[0m\u001b[0;34m,\u001b[0m \u001b[0mextobj\u001b[0m\u001b[0;34m=\u001b[0m\u001b[0mextobj\u001b[0m\u001b[0;34m)\u001b[0m\u001b[0;34m\u001b[0m\u001b[0;34m\u001b[0m\u001b[0m\n\u001b[0m\u001b[1;32m    552\u001b[0m     \u001b[0;32mreturn\u001b[0m \u001b[0mwrap\u001b[0m\u001b[0;34m(\u001b[0m\u001b[0mainv\u001b[0m\u001b[0;34m.\u001b[0m\u001b[0mastype\u001b[0m\u001b[0;34m(\u001b[0m\u001b[0mresult_t\u001b[0m\u001b[0;34m,\u001b[0m \u001b[0mcopy\u001b[0m\u001b[0;34m=\u001b[0m\u001b[0;32mFalse\u001b[0m\u001b[0;34m)\u001b[0m\u001b[0;34m)\u001b[0m\u001b[0;34m\u001b[0m\u001b[0;34m\u001b[0m\u001b[0m\n\u001b[1;32m    553\u001b[0m \u001b[0;34m\u001b[0m\u001b[0m\n",
      "\u001b[0;32m~/anaconda3/lib/python3.7/site-packages/numpy/linalg/linalg.py\u001b[0m in \u001b[0;36m_raise_linalgerror_singular\u001b[0;34m(err, flag)\u001b[0m\n\u001b[1;32m     95\u001b[0m \u001b[0;34m\u001b[0m\u001b[0m\n\u001b[1;32m     96\u001b[0m \u001b[0;32mdef\u001b[0m \u001b[0m_raise_linalgerror_singular\u001b[0m\u001b[0;34m(\u001b[0m\u001b[0merr\u001b[0m\u001b[0;34m,\u001b[0m \u001b[0mflag\u001b[0m\u001b[0;34m)\u001b[0m\u001b[0;34m:\u001b[0m\u001b[0;34m\u001b[0m\u001b[0;34m\u001b[0m\u001b[0m\n\u001b[0;32m---> 97\u001b[0;31m     \u001b[0;32mraise\u001b[0m \u001b[0mLinAlgError\u001b[0m\u001b[0;34m(\u001b[0m\u001b[0;34m\"Singular matrix\"\u001b[0m\u001b[0;34m)\u001b[0m\u001b[0;34m\u001b[0m\u001b[0;34m\u001b[0m\u001b[0m\n\u001b[0m\u001b[1;32m     98\u001b[0m \u001b[0;34m\u001b[0m\u001b[0m\n\u001b[1;32m     99\u001b[0m \u001b[0;32mdef\u001b[0m \u001b[0m_raise_linalgerror_nonposdef\u001b[0m\u001b[0;34m(\u001b[0m\u001b[0merr\u001b[0m\u001b[0;34m,\u001b[0m \u001b[0mflag\u001b[0m\u001b[0;34m)\u001b[0m\u001b[0;34m:\u001b[0m\u001b[0;34m\u001b[0m\u001b[0;34m\u001b[0m\u001b[0m\n",
      "\u001b[0;31mLinAlgError\u001b[0m: Singular matrix"
     ]
    }
   ],
   "source": [
    "# Find the inverse of \"C\"\n",
    "C_inv = np.linalg.inv(C)\n",
    "\n",
    "# Take the product of \"C\" and \"b\"\n",
    "vec_a = C_inv @ vec_b\n",
    "print(r\"a = \", vec_a)"
   ]
  },
  {
   "cell_type": "markdown",
   "metadata": {},
   "source": [
    "This is our coefficients for the cubic spline equations."
   ]
  },
  {
   "cell_type": "code",
   "execution_count": null,
   "metadata": {},
   "outputs": [],
   "source": [
    "x_space0 = np.arange(-2, -1, 0.01)\n",
    "x_space1 = np.arange(-1, 0, 0.01)\n",
    "x_space2 = np.arange(0, 1, 0.01)\n",
    "x_space3 = np.arange(1, 2, 0.01)\n",
    "\n",
    "def S(A=vec_a, x0=x_space0, x1=x_space1, x2=x_space2, x3=x_space3):\n",
    "    s0 = A[0] + A[1]*x0 + A[2]*x0**2 + A[3]*x0**3\n",
    "    s1 = A[4] + A[5]*x1 + A[6]*x1**2 + A[7]*x1**3\n",
    "    s2 = A[8] + A[9]*x2 + A[10]*x2**2 + A[11]*x2**3\n",
    "    s3 = A[12] + A[13]*x3 + A[14]*x3**2 + A[15]*x3**3\n",
    "    return s0, s1, s2, s3"
   ]
  },
  {
   "cell_type": "code",
   "execution_count": null,
   "metadata": {},
   "outputs": [],
   "source": [
    "# Plot it out:\n",
    "# ============\n",
    "S0, S1, S2, S3 = S()\n",
    "\n",
    "fig, ax2 = plt.subplots(1, 1, figsize=(10, 6))\n",
    "\n",
    "ax2.scatter(P[:,0], P[:,1], c='black', label=\"Data points\", zorder=5)\n",
    "ax2.plot(x_space0, S0, label=r\"$S_0(x) = {0:.2f} + {1:.2f} x + {2} x^2 + {3} x^3$\"\n",
    "         .format(vec_a[0,0], vec_a[1,0], vec_a[2,0], vec_a[3,0]), linewidth=2)\n",
    "ax2.plot(x_space1, S1, label=r\"$S_1(x) = {0} + {1} x + {2:.2f} x^2 + {3:.2f} x^3$\"\n",
    "         .format(vec_a[4,0], vec_a[5,0], 0, vec_a[7,0]), linewidth=2)\n",
    "ax2.plot(x_space2, S2, label=r\"$S_2(x) = {0} + {1} x + {2:.2f} x^2 + {3:.2f} x^3$\"\n",
    "         .format(vec_a[8,0], vec_a[9,0], 0, vec_a[11,0]), linewidth=2)\n",
    "ax2.plot(x_space3, S3, label=r\"$S_3(x) = {0:.2f} + {1:.2f} x + {2:.2f} x^2 + {3:.2f} x^3$\"\n",
    "         .format(vec_a[12,0], vec_a[13,0], vec_a[14,0], vec_a[15,0]), linewidth=2)\n",
    "ax2.plot(x_space, sin(pi*x_space / 2), label=r\"$y=\\sin \\left(\\frac{2 x}{\\pi}\\right)$\", linewidth=4, zorder=0)\n",
    "\n",
    "ax2.set_ylabel(r\"$y$\", rotation=0, fontsize=14)\n",
    "ax2.set_xlabel(r\"$x$\", fontsize=14)\n",
    "ax2.set_title(r\"Cubic spline fit\", fontsize=16)\n",
    "\n",
    "plt.ylim(-1.75, 1.25)\n",
    "plt.legend()\n",
    "plt.show()"
   ]
  },
  {
   "cell_type": "code",
   "execution_count": 13,
   "metadata": {},
   "outputs": [],
   "source": [
    "from scipy.interpolate import BPoly"
   ]
  },
  {
   "cell_type": "code",
   "execution_count": 27,
   "metadata": {},
   "outputs": [],
   "source": [
    "Test = BPoly.from_derivatives([0, 1, 2], [[1], [2, 0], [3]])"
   ]
  },
  {
   "cell_type": "code",
   "execution_count": 30,
   "metadata": {},
   "outputs": [],
   "source": [
    "Test_t = np.linspace(0, 2, 100)"
   ]
  },
  {
   "cell_type": "code",
   "execution_count": 31,
   "metadata": {},
   "outputs": [
    {
     "data": {
      "text/plain": [
       "[<matplotlib.lines.Line2D at 0xb198c4da0>]"
      ]
     },
     "execution_count": 31,
     "metadata": {},
     "output_type": "execute_result"
    },
    {
     "data": {
      "application/pdf": "[encoded data removed]",
      "text/plain": [
       "<Figure size 432x288 with 1 Axes>"
      ]
     },
     "metadata": {
      "needs_background": "light"
     },
     "output_type": "display_data"
    }
   ],
   "source": [
    "plt.plot(Test_t, Test(Test_t))"
   ]
  },
  {
   "cell_type": "code",
   "execution_count": null,
   "metadata": {},
   "outputs": [],
   "source": []
  }
 ],
 "metadata": {
  "kernelspec": {
   "display_name": "Python 3",
   "language": "python",
   "name": "python3"
  },
  "language_info": {
   "codemirror_mode": {
    "name": "ipython",
    "version": 3
   },
   "file_extension": ".py",
   "mimetype": "text/x-python",
   "name": "python",
   "nbconvert_exporter": "python",
   "pygments_lexer": "ipython3",
   "version": "3.7.3"
  }
 },
 "nbformat": 4,
 "nbformat_minor": 2
}

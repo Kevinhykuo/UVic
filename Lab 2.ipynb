{
 "cells": [
  {
   "cell_type": "markdown",
   "metadata": {},
   "source": [
    "# Lab 2: pH and Properties of Buffers"
   ]
  },
  {
   "cell_type": "code",
   "execution_count": 1,
   "metadata": {},
   "outputs": [],
   "source": [
    "import numpy as np\n",
    "import pandas as pd\n",
    "import matplotlib as mp\n",
    "import matplotlib.pyplot as plt\n",
    "\n",
    "from scipy.interpolate import BPoly\n",
    "from matplotlib.patches import Rectangle\n",
    "from textwrap import wrap\n",
    "\n",
    "%matplotlib inline\n",
    "%config InlineBackend.figure_format = 'pdf'"
   ]
  },
  {
   "cell_type": "markdown",
   "metadata": {},
   "source": [
    "## Enzyme activity"
   ]
  },
  {
   "cell_type": "code",
   "execution_count": 2,
   "metadata": {},
   "outputs": [],
   "source": [
    "# Read the csv\n",
    "EA = pd.read_csv('/Users/kev/Documents/Python/BCMB-301A--Lab Techniques/Data/Lab 2/pH on Enzyme.csv', \n",
    "                 header=2)\n",
    "\n",
    "EA = EA.set_index('Time (s)')"
   ]
  },
  {
   "cell_type": "code",
   "execution_count": 3,
   "metadata": {},
   "outputs": [],
   "source": [
    "# Fine the derivative \n",
    "EA_d = EA.diff()\n",
    "EA_d = EA_d.rename(index=str, columns={\"3\":\"d3\", \"5\":\"d5\", \"7.5\":\"d7.5\", \"9\":\"d9\", \"10\":\"d10\"})"
   ]
  },
  {
   "cell_type": "code",
   "execution_count": 4,
   "metadata": {},
   "outputs": [],
   "source": [
    "# Concat the data with the derivative (buggy)\n",
    "EA_conc = pd.concat([EA, EA_d], axis=1)"
   ]
  },
  {
   "cell_type": "code",
   "execution_count": 5,
   "metadata": {},
   "outputs": [
    {
     "data": {
      "text/html": [
       "<div>\n",
       "<style scoped>\n",
       "    .dataframe tbody tr th:only-of-type {\n",
       "        vertical-align: middle;\n",
       "    }\n",
       "\n",
       "    .dataframe tbody tr th {\n",
       "        vertical-align: top;\n",
       "    }\n",
       "\n",
       "    .dataframe thead th {\n",
       "        text-align: right;\n",
       "    }\n",
       "</style>\n",
       "<table border=\"1\" class=\"dataframe\">\n",
       "  <thead>\n",
       "    <tr style=\"text-align: right;\">\n",
       "      <th></th>\n",
       "      <th>3</th>\n",
       "      <th>5</th>\n",
       "      <th>7.5</th>\n",
       "      <th>9</th>\n",
       "      <th>10</th>\n",
       "    </tr>\n",
       "    <tr>\n",
       "      <th>Time (s)</th>\n",
       "      <th></th>\n",
       "      <th></th>\n",
       "      <th></th>\n",
       "      <th></th>\n",
       "      <th></th>\n",
       "    </tr>\n",
       "  </thead>\n",
       "  <tbody>\n",
       "    <tr>\n",
       "      <th>0</th>\n",
       "      <td>0.000</td>\n",
       "      <td>0.000</td>\n",
       "      <td>0.000</td>\n",
       "      <td>0.000</td>\n",
       "      <td>0.000</td>\n",
       "    </tr>\n",
       "    <tr>\n",
       "      <th>10</th>\n",
       "      <td>0.001</td>\n",
       "      <td>-0.096</td>\n",
       "      <td>-0.166</td>\n",
       "      <td>0.024</td>\n",
       "      <td>0.010</td>\n",
       "    </tr>\n",
       "    <tr>\n",
       "      <th>20</th>\n",
       "      <td>0.001</td>\n",
       "      <td>-0.155</td>\n",
       "      <td>-0.142</td>\n",
       "      <td>0.036</td>\n",
       "      <td>0.035</td>\n",
       "    </tr>\n",
       "    <tr>\n",
       "      <th>30</th>\n",
       "      <td>0.003</td>\n",
       "      <td>-0.146</td>\n",
       "      <td>-0.115</td>\n",
       "      <td>0.047</td>\n",
       "      <td>0.048</td>\n",
       "    </tr>\n",
       "    <tr>\n",
       "      <th>40</th>\n",
       "      <td>0.001</td>\n",
       "      <td>0.014</td>\n",
       "      <td>-0.090</td>\n",
       "      <td>0.060</td>\n",
       "      <td>0.068</td>\n",
       "    </tr>\n",
       "    <tr>\n",
       "      <th>50</th>\n",
       "      <td>0.000</td>\n",
       "      <td>0.087</td>\n",
       "      <td>-0.063</td>\n",
       "      <td>0.074</td>\n",
       "      <td>0.088</td>\n",
       "    </tr>\n",
       "    <tr>\n",
       "      <th>60</th>\n",
       "      <td>0.002</td>\n",
       "      <td>0.102</td>\n",
       "      <td>-0.037</td>\n",
       "      <td>0.088</td>\n",
       "      <td>0.105</td>\n",
       "    </tr>\n",
       "    <tr>\n",
       "      <th>70</th>\n",
       "      <td>0.001</td>\n",
       "      <td>0.104</td>\n",
       "      <td>-0.012</td>\n",
       "      <td>0.102</td>\n",
       "      <td>0.123</td>\n",
       "    </tr>\n",
       "    <tr>\n",
       "      <th>80</th>\n",
       "      <td>0.000</td>\n",
       "      <td>0.104</td>\n",
       "      <td>0.015</td>\n",
       "      <td>0.115</td>\n",
       "      <td>0.146</td>\n",
       "    </tr>\n",
       "    <tr>\n",
       "      <th>90</th>\n",
       "      <td>0.000</td>\n",
       "      <td>0.016</td>\n",
       "      <td>0.042</td>\n",
       "      <td>0.131</td>\n",
       "      <td>0.160</td>\n",
       "    </tr>\n",
       "    <tr>\n",
       "      <th>100</th>\n",
       "      <td>0.001</td>\n",
       "      <td>0.113</td>\n",
       "      <td>0.069</td>\n",
       "      <td>0.144</td>\n",
       "      <td>0.182</td>\n",
       "    </tr>\n",
       "    <tr>\n",
       "      <th>110</th>\n",
       "      <td>0.001</td>\n",
       "      <td>0.124</td>\n",
       "      <td>0.097</td>\n",
       "      <td>0.159</td>\n",
       "      <td>0.203</td>\n",
       "    </tr>\n",
       "    <tr>\n",
       "      <th>120</th>\n",
       "      <td>0.000</td>\n",
       "      <td>0.133</td>\n",
       "      <td>0.124</td>\n",
       "      <td>0.174</td>\n",
       "      <td>0.216</td>\n",
       "    </tr>\n",
       "  </tbody>\n",
       "</table>\n",
       "</div>"
      ],
      "text/plain": [
       "              3      5    7.5      9     10\n",
       "Time (s)                                   \n",
       "0         0.000  0.000  0.000  0.000  0.000\n",
       "10        0.001 -0.096 -0.166  0.024  0.010\n",
       "20        0.001 -0.155 -0.142  0.036  0.035\n",
       "30        0.003 -0.146 -0.115  0.047  0.048\n",
       "40        0.001  0.014 -0.090  0.060  0.068\n",
       "50        0.000  0.087 -0.063  0.074  0.088\n",
       "60        0.002  0.102 -0.037  0.088  0.105\n",
       "70        0.001  0.104 -0.012  0.102  0.123\n",
       "80        0.000  0.104  0.015  0.115  0.146\n",
       "90        0.000  0.016  0.042  0.131  0.160\n",
       "100       0.001  0.113  0.069  0.144  0.182\n",
       "110       0.001  0.124  0.097  0.159  0.203\n",
       "120       0.000  0.133  0.124  0.174  0.216"
      ]
     },
     "execution_count": 5,
     "metadata": {},
     "output_type": "execute_result"
    }
   ],
   "source": [
    "EA"
   ]
  },
  {
   "cell_type": "code",
   "execution_count": 6,
   "metadata": {},
   "outputs": [
    {
     "data": {
      "text/html": [
       "<div>\n",
       "<style scoped>\n",
       "    .dataframe tbody tr th:only-of-type {\n",
       "        vertical-align: middle;\n",
       "    }\n",
       "\n",
       "    .dataframe tbody tr th {\n",
       "        vertical-align: top;\n",
       "    }\n",
       "\n",
       "    .dataframe thead th {\n",
       "        text-align: right;\n",
       "    }\n",
       "</style>\n",
       "<table border=\"1\" class=\"dataframe\">\n",
       "  <thead>\n",
       "    <tr style=\"text-align: right;\">\n",
       "      <th></th>\n",
       "      <th>d3</th>\n",
       "      <th>d5</th>\n",
       "      <th>d7.5</th>\n",
       "      <th>d9</th>\n",
       "      <th>d10</th>\n",
       "    </tr>\n",
       "    <tr>\n",
       "      <th>Time (s)</th>\n",
       "      <th></th>\n",
       "      <th></th>\n",
       "      <th></th>\n",
       "      <th></th>\n",
       "      <th></th>\n",
       "    </tr>\n",
       "  </thead>\n",
       "  <tbody>\n",
       "    <tr>\n",
       "      <th>0</th>\n",
       "      <td>NaN</td>\n",
       "      <td>NaN</td>\n",
       "      <td>NaN</td>\n",
       "      <td>NaN</td>\n",
       "      <td>NaN</td>\n",
       "    </tr>\n",
       "    <tr>\n",
       "      <th>10</th>\n",
       "      <td>0.001</td>\n",
       "      <td>-0.096</td>\n",
       "      <td>-0.166</td>\n",
       "      <td>0.024</td>\n",
       "      <td>0.010</td>\n",
       "    </tr>\n",
       "    <tr>\n",
       "      <th>20</th>\n",
       "      <td>0.000</td>\n",
       "      <td>-0.059</td>\n",
       "      <td>0.024</td>\n",
       "      <td>0.012</td>\n",
       "      <td>0.025</td>\n",
       "    </tr>\n",
       "    <tr>\n",
       "      <th>30</th>\n",
       "      <td>0.002</td>\n",
       "      <td>0.009</td>\n",
       "      <td>0.027</td>\n",
       "      <td>0.011</td>\n",
       "      <td>0.013</td>\n",
       "    </tr>\n",
       "    <tr>\n",
       "      <th>40</th>\n",
       "      <td>-0.002</td>\n",
       "      <td>0.160</td>\n",
       "      <td>0.025</td>\n",
       "      <td>0.013</td>\n",
       "      <td>0.020</td>\n",
       "    </tr>\n",
       "    <tr>\n",
       "      <th>50</th>\n",
       "      <td>-0.001</td>\n",
       "      <td>0.073</td>\n",
       "      <td>0.027</td>\n",
       "      <td>0.014</td>\n",
       "      <td>0.020</td>\n",
       "    </tr>\n",
       "    <tr>\n",
       "      <th>60</th>\n",
       "      <td>0.002</td>\n",
       "      <td>0.015</td>\n",
       "      <td>0.026</td>\n",
       "      <td>0.014</td>\n",
       "      <td>0.017</td>\n",
       "    </tr>\n",
       "    <tr>\n",
       "      <th>70</th>\n",
       "      <td>-0.001</td>\n",
       "      <td>0.002</td>\n",
       "      <td>0.025</td>\n",
       "      <td>0.014</td>\n",
       "      <td>0.018</td>\n",
       "    </tr>\n",
       "    <tr>\n",
       "      <th>80</th>\n",
       "      <td>-0.001</td>\n",
       "      <td>0.000</td>\n",
       "      <td>0.027</td>\n",
       "      <td>0.013</td>\n",
       "      <td>0.023</td>\n",
       "    </tr>\n",
       "    <tr>\n",
       "      <th>90</th>\n",
       "      <td>0.000</td>\n",
       "      <td>-0.088</td>\n",
       "      <td>0.027</td>\n",
       "      <td>0.016</td>\n",
       "      <td>0.014</td>\n",
       "    </tr>\n",
       "    <tr>\n",
       "      <th>100</th>\n",
       "      <td>0.001</td>\n",
       "      <td>0.097</td>\n",
       "      <td>0.027</td>\n",
       "      <td>0.013</td>\n",
       "      <td>0.022</td>\n",
       "    </tr>\n",
       "    <tr>\n",
       "      <th>110</th>\n",
       "      <td>0.000</td>\n",
       "      <td>0.011</td>\n",
       "      <td>0.028</td>\n",
       "      <td>0.015</td>\n",
       "      <td>0.021</td>\n",
       "    </tr>\n",
       "    <tr>\n",
       "      <th>120</th>\n",
       "      <td>-0.001</td>\n",
       "      <td>0.009</td>\n",
       "      <td>0.027</td>\n",
       "      <td>0.015</td>\n",
       "      <td>0.013</td>\n",
       "    </tr>\n",
       "  </tbody>\n",
       "</table>\n",
       "</div>"
      ],
      "text/plain": [
       "             d3     d5   d7.5     d9    d10\n",
       "Time (s)                                   \n",
       "0           NaN    NaN    NaN    NaN    NaN\n",
       "10        0.001 -0.096 -0.166  0.024  0.010\n",
       "20        0.000 -0.059  0.024  0.012  0.025\n",
       "30        0.002  0.009  0.027  0.011  0.013\n",
       "40       -0.002  0.160  0.025  0.013  0.020\n",
       "50       -0.001  0.073  0.027  0.014  0.020\n",
       "60        0.002  0.015  0.026  0.014  0.017\n",
       "70       -0.001  0.002  0.025  0.014  0.018\n",
       "80       -0.001  0.000  0.027  0.013  0.023\n",
       "90        0.000 -0.088  0.027  0.016  0.014\n",
       "100       0.001  0.097  0.027  0.013  0.022\n",
       "110       0.000  0.011  0.028  0.015  0.021\n",
       "120      -0.001  0.009  0.027  0.015  0.013"
      ]
     },
     "execution_count": 6,
     "metadata": {},
     "output_type": "execute_result"
    }
   ],
   "source": [
    "EA_d"
   ]
  },
  {
   "cell_type": "code",
   "execution_count": 7,
   "metadata": {},
   "outputs": [
    {
     "data": {
      "text/plain": [
       "d3     -0.000091\n",
       "d5      0.020818\n",
       "d7.5    0.026364\n",
       "d9      0.013636\n",
       "d10     0.018727\n",
       "dtype: float64"
      ]
     },
     "execution_count": 7,
     "metadata": {},
     "output_type": "execute_result"
    }
   ],
   "source": [
    "# Average enzyme activity \n",
    "EA_d_ave = EA_d.iloc[2:,:].mean(axis=0)\n",
    "EA_d_ave"
   ]
  },
  {
   "cell_type": "code",
   "execution_count": 8,
   "metadata": {},
   "outputs": [
    {
     "data": {
      "text/plain": [
       "d3     -0.000545\n",
       "d5      0.124909\n",
       "d7.5    0.158182\n",
       "d9      0.081818\n",
       "d10     0.112364\n",
       "dtype: float64"
      ]
     },
     "execution_count": 8,
     "metadata": {},
     "output_type": "execute_result"
    }
   ],
   "source": [
    "# Rate per min \n",
    "EA_d_min = EA_d_ave * 6\n",
    "EA_d_min"
   ]
  },
  {
   "cell_type": "code",
   "execution_count": 9,
   "metadata": {},
   "outputs": [
    {
     "data": {
      "text/plain": [
       "d3       -0.344828\n",
       "d5       78.965517\n",
       "d7.5    100.000000\n",
       "d9       51.724138\n",
       "d10      71.034483\n",
       "dtype: float64"
      ]
     },
     "execution_count": 9,
     "metadata": {},
     "output_type": "execute_result"
    }
   ],
   "source": [
    "# Relative enzyme activity\n",
    "EA_d_ave_percent = EA_d_ave / np.max(EA_d_ave) * 100\n",
    "EA_d_ave_percent"
   ]
  },
  {
   "cell_type": "code",
   "execution_count": 10,
   "metadata": {},
   "outputs": [
    {
     "data": {
      "application/pdf": "[encoded data removed]",
      "text/plain": [
       "<Figure size 432x288 with 1 Axes>"
      ]
     },
     "metadata": {
      "needs_background": "light"
     },
     "output_type": "display_data"
    }
   ],
   "source": [
    "plt.figure(figsize=(6, 4))\n",
    "# EA_d_ave_percent.plot(kind='line')\n",
    "# EA_d_ave_percent.plot(kind='scatter')\n",
    "plt.plot(list(EA), EA_d_ave_percent)\n",
    "plt.scatter(list(EA), EA_d_ave_percent, s=5, color='orange', zorder=5)\n",
    "plt.title(\"Percent enzyme activity vs pH\")\n",
    "plt.xlabel('pH')\n",
    "plt.ylabel('Relative enzyme activity (%)')\n",
    "plt.grid()"
   ]
  },
  {
   "cell_type": "markdown",
   "metadata": {},
   "source": [
    "## Titration curve: Cubic spline fit"
   ]
  },
  {
   "cell_type": "code",
   "execution_count": 11,
   "metadata": {},
   "outputs": [],
   "source": [
    "x = [-0.5, 0.5, 1.5]\n",
    "x1 = [0.5, 1.5, 2.5]\n",
    "y = [2.35, 7.63, 10.52]"
   ]
  },
  {
   "cell_type": "code",
   "execution_count": 12,
   "metadata": {},
   "outputs": [],
   "source": [
    "def tit_graph(x, y):    \n",
    "    Tit = BPoly.from_derivatives([x[0]-0.5, x[0], x[1], x[2], x[2]+0.5], \n",
    "                                  [[y[0]-0.5*(y[1]-y[0])], [y[0], 0, 0, 0, 1], \n",
    "                                   [y[1], 0, 0, 0, 1], [y[2], 0, 0, 0, 1], [y[2]+0.5*(y[2]-y[1])]])\n",
    "\n",
    "    Tit_space = np.linspace(x[0]-0.5, x[2]+0.5, 300)\n",
    "\n",
    "    pKa = [r'$\\mathrm{{pK_{{a(COOH)}}^1}} =$ {0}'.format(y[0]), \n",
    "           r'$\\mathrm{{pK_{{a(NH_3^+)}}^2}} =$ {0}'.format(y[1]), \n",
    "           r'$\\mathrm{{pK_{{a(NH_3^+)}}^3}} =$ {0}'.format(y[2])]\n",
    "    \n",
    "    reg = ['Buffer region 1', 'Buffer region 2', 'Buffer region 3']\n",
    "\n",
    "    fig, ax = plt.subplots()\n",
    "    ax.plot(Tit_space, Tit(Tit_space))\n",
    "    ax.scatter(x, y, s=5, color='orange', zorder=5)\n",
    "\n",
    "    # Draw boxes \n",
    "    w0, w1, w2 = 0.5, 0.5, 0.6\n",
    "    h = 0.5\n",
    "    r1 = Rectangle((x[0]-0.5*w0, y[0]-0.5*h), w0, h, angle=0)\n",
    "    r2 = Rectangle((x[1]-0.5*w1, y[1]-0.5*h), w1, h, angle=0)\n",
    "    r3 = Rectangle((x[2]-0.5*w2, y[2]-0.5*h), w2, h, angle=0)\n",
    "    bx = [r1, r2, r3]\n",
    "    pc = mp.collections.PatchCollection(bx, color='g', alpha=0.25)\n",
    "    ax.add_collection(pc)\n",
    "\n",
    "    # Label regions\n",
    "    for i, txt in enumerate(pKa):\n",
    "        ax.annotate(txt, (x[i]-0.3, y[i]-1), fontsize=8)\n",
    "\n",
    "    for i, txt in enumerate(reg):\n",
    "        ax.annotate(txt, (x[i]-0.3, y[i]+0.5), fontsize=8)\n",
    "\n",
    "\n",
    "    # Arrows in xlabel\n",
    "    if np.min(x)<0 and np.max(x)>0: \n",
    "        ax.annotate('', xy=(np.max(x)+0.5, -2.5), xytext=(0.05, -2.5), #draws an arrow from one set of coordinates to the other\n",
    "                    arrowprops=dict(arrowstyle='->'),     #sets style of arrow and colour\n",
    "                    annotation_clip=False)                #This enables the arrow to be outside of the plot\n",
    "\n",
    "        ax.annotate('', xy=(np.min(x)-0.5, -2.5), xytext=(-0.05, -2.5),\n",
    "                    arrowprops=dict(arrowstyle='->'),     \n",
    "                    annotation_clip=False)  \n",
    "\n",
    "    #     Label x-axis\n",
    "        ax.annotate(r'Equvalent $[\\mathrm{OH^-}]$ added',\n",
    "                    xy=(0, 0), xytext=(0.15, -3.5),\n",
    "                    annotation_clip=False)\n",
    "\n",
    "        ax.annotate(r'Equvalent $[\\mathrm{H^+}]$ added', \n",
    "                    xy=(0, 0), xytext=(-1.25, -3.5),\n",
    "                    annotation_clip=False)\n",
    "        \n",
    "        ab = r'acid $[\\mathrm{{H^+}}]$ or base $[\\mathrm{{OH^-}}]$'\n",
    "\n",
    "    elif np.min(x) > 0: \n",
    "        plt.xlabel(r'Equvalent $[\\mathrm{OH^-}]$ added')\n",
    "        ab = r'base $[\\mathrm{{OH^-}}]$'\n",
    "\n",
    "    elif np.min(x)<0 and np.max(x)<0:\n",
    "        plt.xlabel(r'Equvalent $[\\mathrm{H^+}]$ added')\n",
    "        ab = r'acid $[\\mathrm{{H^+}}]$'\n",
    "\n",
    "    # plt.xlabel('Charge?')\n",
    "    tit_title = r'Changes in solution pH with Buffer X with introduction of molar equivalents of {0}'.format(ab)\n",
    "    plt.title(\"\\n\".join(wrap(tit_title, 70)))\n",
    "    plt.ylabel('pH')\n",
    "    plt.grid()\n",
    "    plt.show()"
   ]
  },
  {
   "cell_type": "code",
   "execution_count": 13,
   "metadata": {},
   "outputs": [
    {
     "data": {
      "application/pdf": "[encoded data removed]",
      "text/plain": [
       "<Figure size 432x288 with 1 Axes>"
      ]
     },
     "metadata": {
      "needs_background": "light"
     },
     "output_type": "display_data"
    }
   ],
   "source": [
    "tit_graph(x, y)"
   ]
  },
  {
   "cell_type": "code",
   "execution_count": 14,
   "metadata": {},
   "outputs": [
    {
     "data": {
      "application/pdf": "[encoded data removed]",
      "text/plain": [
       "<Figure size 432x288 with 1 Axes>"
      ]
     },
     "metadata": {
      "needs_background": "light"
     },
     "output_type": "display_data"
    }
   ],
   "source": [
    "tit_graph(x1, y)"
   ]
  },
  {
   "cell_type": "code",
   "execution_count": null,
   "metadata": {},
   "outputs": [],
   "source": []
  }
 ],
 "metadata": {
  "kernelspec": {
   "display_name": "Python 3",
   "language": "python",
   "name": "python3"
  },
  "language_info": {
   "codemirror_mode": {
    "name": "ipython",
    "version": 3
   },
   "file_extension": ".py",
   "mimetype": "text/x-python",
   "name": "python",
   "nbconvert_exporter": "python",
   "pygments_lexer": "ipython3",
   "version": "3.7.3"
  }
 },
 "nbformat": 4,
 "nbformat_minor": 2
}

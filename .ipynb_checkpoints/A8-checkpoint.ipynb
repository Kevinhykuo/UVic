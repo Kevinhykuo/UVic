{
 "cells": [
  {
   "cell_type": "markdown",
   "metadata": {
    "inputHidden": false,
    "outputHidden": false
   },
   "source": [
    "PHYS 321B \n",
    "\n",
    "# Assignment #8"
   ]
  },
  {
   "cell_type": "code",
   "execution_count": 15,
   "metadata": {
    "inputHidden": false,
    "outputHidden": false
   },
   "outputs": [],
   "source": [
    "import math as m\n",
    "import matplotlib.pyplot as plt\n",
    "import sympy as sym\n",
    "from sympy import Symbol, Matrix, cos, sin, init_printing, simplify, diff\n",
    "from sympy import *\n",
    "from sympy.physics.vector import dynamicsymbols\n",
    "from sympy.physics.mechanics import *\n",
    "from sympy.functions import transpose\n",
    "sym.init_printing(use_latex='mathjax')\n",
    "# from IPython.display import Math\n",
    "# from sympy.interactive import printing\n",
    "# printing.init_printing(use_latex=True)\n",
    "\n",
    "# Symbols\n",
    "M = Symbol('M')\n",
    "m = Symbol('m')\n",
    "R = Symbol('R')\n",
    "g = Symbol('g')\n",
    "t = Symbol('t')\n",
    "theta, phi, psi, x, y, z = dynamicsymbols('theta phi psi x y z')\n",
    "\n",
    "# Time derivatives of symbols\n",
    "thetad, phid, psid, xd, yd, zd = dynamicsymbols('theta phi psi x y z', 1)\n",
    "\n",
    "# Rotation matricies\n",
    "Rx = Matrix([[1, 0, 0], [0, cos(theta), -sin(theta)], [0, sin(theta), cos(theta)]]) # Around x-axis\n",
    "Rz = Matrix([[cos(phi), -sin(phi), 0], [sin(phi), cos(phi), 0], [0, 0, 1]]) # Around z-axis\n",
    "\n",
    "# Rotation matrix transposes\n",
    "RxT = transpose(Rx)\n",
    "RzT = transpose(Rz)"
   ]
  },
  {
   "cell_type": "markdown",
   "metadata": {},
   "source": [
    "#### Rotation matrix"
   ]
  },
  {
   "cell_type": "code",
   "execution_count": 16,
   "metadata": {
    "inputHidden": false,
    "outputHidden": false
   },
   "outputs": [
    {
     "data": {
      "text/latex": [
       "$$\\left[\\begin{matrix}\\cos{\\left (\\phi{\\left (t \\right )} \\right )} & - \\sin{\\left (\\phi{\\left (t \\right )} \\right )} \\cos{\\left (\\theta{\\left (t \\right )} \\right )} & \\sin{\\left (\\phi{\\left (t \\right )} \\right )} \\sin{\\left (\\theta{\\left (t \\right )} \\right )}\\\\\\sin{\\left (\\phi{\\left (t \\right )} \\right )} & \\cos{\\left (\\phi{\\left (t \\right )} \\right )} \\cos{\\left (\\theta{\\left (t \\right )} \\right )} & - \\sin{\\left (\\theta{\\left (t \\right )} \\right )} \\cos{\\left (\\phi{\\left (t \\right )} \\right )}\\\\0 & \\sin{\\left (\\theta{\\left (t \\right )} \\right )} & \\cos{\\left (\\theta{\\left (t \\right )} \\right )}\\end{matrix}\\right]$$"
      ],
      "text/plain": [
       "⎡cos(φ(t))  -sin(φ(t))⋅cos(θ(t))  sin(φ(t))⋅sin(θ(t)) ⎤\n",
       "⎢                                                     ⎥\n",
       "⎢sin(φ(t))  cos(φ(t))⋅cos(θ(t))   -sin(θ(t))⋅cos(φ(t))⎥\n",
       "⎢                                                     ⎥\n",
       "⎣    0           sin(θ(t))             cos(θ(t))      ⎦"
      ]
     },
     "execution_count": 16,
     "metadata": {},
     "output_type": "execute_result"
    }
   ],
   "source": [
    "Rot = simplify(Rz*Rx)\n",
    "Rot"
   ]
  },
  {
   "cell_type": "markdown",
   "metadata": {},
   "source": [
    "Transpose of the rotation matrix"
   ]
  },
  {
   "cell_type": "code",
   "execution_count": 17,
   "metadata": {
    "inputHidden": false,
    "outputHidden": false
   },
   "outputs": [
    {
     "data": {
      "text/latex": [
       "$$\\left[\\begin{matrix}\\cos{\\left (\\phi{\\left (t \\right )} \\right )} & \\sin{\\left (\\phi{\\left (t \\right )} \\right )} & 0\\\\- \\sin{\\left (\\phi{\\left (t \\right )} \\right )} \\cos{\\left (\\theta{\\left (t \\right )} \\right )} & \\cos{\\left (\\phi{\\left (t \\right )} \\right )} \\cos{\\left (\\theta{\\left (t \\right )} \\right )} & \\sin{\\left (\\theta{\\left (t \\right )} \\right )}\\\\\\sin{\\left (\\phi{\\left (t \\right )} \\right )} \\sin{\\left (\\theta{\\left (t \\right )} \\right )} & - \\sin{\\left (\\theta{\\left (t \\right )} \\right )} \\cos{\\left (\\phi{\\left (t \\right )} \\right )} & \\cos{\\left (\\theta{\\left (t \\right )} \\right )}\\end{matrix}\\right]$$"
      ],
      "text/plain": [
       "⎡     cos(φ(t))             sin(φ(t))            0    ⎤\n",
       "⎢                                                     ⎥\n",
       "⎢-sin(φ(t))⋅cos(θ(t))  cos(φ(t))⋅cos(θ(t))   sin(θ(t))⎥\n",
       "⎢                                                     ⎥\n",
       "⎣sin(φ(t))⋅sin(θ(t))   -sin(θ(t))⋅cos(φ(t))  cos(θ(t))⎦"
      ]
     },
     "execution_count": 17,
     "metadata": {},
     "output_type": "execute_result"
    }
   ],
   "source": [
    "RotT = simplify(RxT*RzT)\n",
    "RotT"
   ]
  },
  {
   "cell_type": "markdown",
   "metadata": {},
   "source": [
    "#### Total angular velocity vector "
   ]
  },
  {
   "cell_type": "code",
   "execution_count": 18,
   "metadata": {
    "inputHidden": false,
    "outputHidden": false
   },
   "outputs": [
    {
     "data": {
      "text/latex": [
       "$$\\left[\\begin{matrix}\\sin{\\left (\\theta{\\left (t \\right )} \\right )} \\cos{\\left (\\phi{\\left (t \\right )} \\right )} \\frac{d}{d t} \\psi{\\left (t \\right )} + \\cos{\\left (\\phi{\\left (t \\right )} \\right )} \\frac{d}{d t} \\theta{\\left (t \\right )}\\\\\\sin{\\left (\\phi{\\left (t \\right )} \\right )} \\sin{\\left (\\theta{\\left (t \\right )} \\right )} \\frac{d}{d t} \\psi{\\left (t \\right )} + \\sin{\\left (\\phi{\\left (t \\right )} \\right )} \\frac{d}{d t} \\theta{\\left (t \\right )}\\\\\\cos{\\left (\\theta{\\left (t \\right )} \\right )} \\frac{d}{d t} \\psi{\\left (t \\right )} + \\frac{d}{d t} \\phi{\\left (t \\right )}\\end{matrix}\\right]$$"
      ],
      "text/plain": [
       "⎡                    d                    d       ⎤\n",
       "⎢sin(θ(t))⋅cos(φ(t))⋅──(ψ(t)) + cos(φ(t))⋅──(θ(t))⎥\n",
       "⎢                    dt                   dt      ⎥\n",
       "⎢                                                 ⎥\n",
       "⎢                    d                    d       ⎥\n",
       "⎢sin(φ(t))⋅sin(θ(t))⋅──(ψ(t)) + sin(φ(t))⋅──(θ(t))⎥\n",
       "⎢                    dt                   dt      ⎥\n",
       "⎢                                                 ⎥\n",
       "⎢                    d          d                 ⎥\n",
       "⎢          cos(θ(t))⋅──(ψ(t)) + ──(φ(t))          ⎥\n",
       "⎣                    dt         dt                ⎦"
      ]
     },
     "execution_count": 18,
     "metadata": {},
     "output_type": "execute_result"
    }
   ],
   "source": [
    "omega = Matrix([psid*sin(theta)*cos(phi)+thetad*cos(phi), psid*sin(theta)*sin(phi)+thetad*sin(phi), psid*cos(theta)+phid])\n",
    "omega"
   ]
  },
  {
   "cell_type": "markdown",
   "metadata": {},
   "source": [
    "Transpose of the angular velocity vector"
   ]
  },
  {
   "cell_type": "code",
   "execution_count": 19,
   "metadata": {
    "inputHidden": false,
    "outputHidden": false
   },
   "outputs": [
    {
     "data": {
      "text/latex": [
       "$$\\left[\\begin{matrix}\\sin{\\left (\\theta{\\left (t \\right )} \\right )} \\cos{\\left (\\phi{\\left (t \\right )} \\right )} \\frac{d}{d t} \\psi{\\left (t \\right )} + \\cos{\\left (\\phi{\\left (t \\right )} \\right )} \\frac{d}{d t} \\theta{\\left (t \\right )} & \\sin{\\left (\\phi{\\left (t \\right )} \\right )} \\sin{\\left (\\theta{\\left (t \\right )} \\right )} \\frac{d}{d t} \\psi{\\left (t \\right )} + \\sin{\\left (\\phi{\\left (t \\right )} \\right )} \\frac{d}{d t} \\theta{\\left (t \\right )} & \\cos{\\left (\\theta{\\left (t \\right )} \\right )} \\frac{d}{d t} \\psi{\\left (t \\right )} + \\frac{d}{d t} \\phi{\\left (t \\right )}\\end{matrix}\\right]$$"
      ],
      "text/plain": [
       "⎡                    d                    d                             d     \n",
       "⎢sin(θ(t))⋅cos(φ(t))⋅──(ψ(t)) + cos(φ(t))⋅──(θ(t))  sin(φ(t))⋅sin(θ(t))⋅──(ψ(t\n",
       "⎣                    dt                   dt                            dt    \n",
       "\n",
       "               d                   d          d       ⎤\n",
       ")) + sin(φ(t))⋅──(θ(t))  cos(θ(t))⋅──(ψ(t)) + ──(φ(t))⎥\n",
       "               dt                  dt         dt      ⎦"
      ]
     },
     "execution_count": 19,
     "metadata": {},
     "output_type": "execute_result"
    }
   ],
   "source": [
    "omegaT = transpose(omega)\n",
    "omegaT"
   ]
  },
  {
   "cell_type": "markdown",
   "metadata": {
    "inputHidden": false,
    "outputHidden": false
   },
   "source": [
    "## Question 2\n",
    "\n",
    "#### Moment of Intertia tensor"
   ]
  },
  {
   "cell_type": "code",
   "execution_count": 20,
   "metadata": {
    "inputHidden": false,
    "outputHidden": false
   },
   "outputs": [
    {
     "data": {
      "text/latex": [
       "$$\\left[\\begin{matrix}\\sin^{2}{\\left (\\phi{\\left (t \\right )} \\right )} \\sin^{2}{\\left (\\theta{\\left (t \\right )} \\right )} + 1 & - \\sin{\\left (\\phi{\\left (t \\right )} \\right )} \\sin^{2}{\\left (\\theta{\\left (t \\right )} \\right )} \\cos{\\left (\\phi{\\left (t \\right )} \\right )} & \\frac{1}{4} \\cos{\\left (\\phi{\\left (t \\right )} - 2 \\theta{\\left (t \\right )} \\right )} - \\frac{1}{4} \\cos{\\left (\\phi{\\left (t \\right )} + 2 \\theta{\\left (t \\right )} \\right )}\\\\- \\sin{\\left (\\phi{\\left (t \\right )} \\right )} \\sin^{2}{\\left (\\theta{\\left (t \\right )} \\right )} \\cos{\\left (\\phi{\\left (t \\right )} \\right )} & - \\sin^{2}{\\left (\\phi{\\left (t \\right )} \\right )} \\sin^{2}{\\left (\\theta{\\left (t \\right )} \\right )} + \\sin^{2}{\\left (\\theta{\\left (t \\right )} \\right )} + 1 & \\frac{1}{4} \\sin{\\left (\\phi{\\left (t \\right )} - 2 \\theta{\\left (t \\right )} \\right )} - \\frac{1}{4} \\sin{\\left (\\phi{\\left (t \\right )} + 2 \\theta{\\left (t \\right )} \\right )}\\\\\\frac{1}{4} \\cos{\\left (\\phi{\\left (t \\right )} - 2 \\theta{\\left (t \\right )} \\right )} - \\frac{1}{4} \\cos{\\left (\\phi{\\left (t \\right )} + 2 \\theta{\\left (t \\right )} \\right )} & \\frac{1}{4} \\sin{\\left (\\phi{\\left (t \\right )} - 2 \\theta{\\left (t \\right )} \\right )} - \\frac{1}{4} \\sin{\\left (\\phi{\\left (t \\right )} + 2 \\theta{\\left (t \\right )} \\right )} & \\cos^{2}{\\left (\\theta{\\left (t \\right )} \\right )} + 1\\end{matrix}\\right]$$"
      ],
      "text/plain": [
       "⎡          2          2                                     2                 \n",
       "⎢       sin (φ(t))⋅sin (θ(t)) + 1             -sin(φ(t))⋅sin (θ(t))⋅cos(φ(t)) \n",
       "⎢                                                                             \n",
       "⎢                                                                             \n",
       "⎢                  2                           2          2            2      \n",
       "⎢    -sin(φ(t))⋅sin (θ(t))⋅cos(φ(t))      - sin (φ(t))⋅sin (θ(t)) + sin (θ(t))\n",
       "⎢                                                                             \n",
       "⎢                                                                             \n",
       "⎢cos(φ(t) - 2⋅θ(t))   cos(φ(t) + 2⋅θ(t))  sin(φ(t) - 2⋅θ(t))   sin(φ(t) + 2⋅θ(\n",
       "⎢────────────────── - ──────────────────  ────────────────── - ───────────────\n",
       "⎣        4                    4                   4                    4      \n",
       "\n",
       "      cos(φ(t) - 2⋅θ(t))   cos(φ(t) + 2⋅θ(t))⎤\n",
       "      ────────────────── - ──────────────────⎥\n",
       "              4                    4         ⎥\n",
       "                                             ⎥\n",
       "      sin(φ(t) - 2⋅θ(t))   sin(φ(t) + 2⋅θ(t))⎥\n",
       " + 1  ────────────────── - ──────────────────⎥\n",
       "              4                    4         ⎥\n",
       "                                             ⎥\n",
       "t))                  2                       ⎥\n",
       "───               cos (θ(t)) + 1             ⎥\n",
       "                                             ⎦"
      ]
     },
     "execution_count": 20,
     "metadata": {},
     "output_type": "execute_result"
    }
   ],
   "source": [
    "I2 = Matrix([ [1, 0, 0], [0, 1, 0], [0, 0, 2] ])\n",
    "I2_new = (Rot*I2*RotT).simplify() # Remember to multiply by 1/4 MR^2 !!!\n",
    "I2_new # Remember to multiply by 1/2 MR^2"
   ]
  },
  {
   "cell_type": "markdown",
   "metadata": {},
   "source": [
    "#### Kinetic energy"
   ]
  },
  {
   "cell_type": "code",
   "execution_count": 21,
   "metadata": {
    "inputHidden": false,
    "outputHidden": false
   },
   "outputs": [
    {
     "data": {
      "text/latex": [
       "$$2 \\sin{\\left (\\theta{\\left (t \\right )} \\right )} \\frac{d}{d t} \\psi{\\left (t \\right )} \\frac{d}{d t} \\theta{\\left (t \\right )} + \\cos^{4}{\\left (\\theta{\\left (t \\right )} \\right )} \\left(\\frac{d}{d t} \\psi{\\left (t \\right )}\\right)^{2} + 2 \\cos^{3}{\\left (\\theta{\\left (t \\right )} \\right )} \\frac{d}{d t} \\phi{\\left (t \\right )} \\frac{d}{d t} \\psi{\\left (t \\right )} + \\cos^{2}{\\left (\\theta{\\left (t \\right )} \\right )} \\left(\\frac{d}{d t} \\phi{\\left (t \\right )}\\right)^{2} + 2 \\cos{\\left (\\theta{\\left (t \\right )} \\right )} \\frac{d}{d t} \\phi{\\left (t \\right )} \\frac{d}{d t} \\psi{\\left (t \\right )} + \\left(\\frac{d}{d t} \\phi{\\left (t \\right )}\\right)^{2} + \\left(\\frac{d}{d t} \\psi{\\left (t \\right )}\\right)^{2} + \\left(\\frac{d}{d t} \\theta{\\left (t \\right )}\\right)^{2}$$"
      ],
      "text/plain": [
       "                                                     2                        \n",
       "            d        d             4       ⎛d       ⎞         3       d       \n",
       "2⋅sin(θ(t))⋅──(ψ(t))⋅──(θ(t)) + cos (θ(t))⋅⎜──(ψ(t))⎟  + 2⋅cos (θ(t))⋅──(φ(t))\n",
       "            dt       dt                    ⎝dt      ⎠                 dt      \n",
       "\n",
       "                                 2                                            \n",
       " d             2       ⎛d       ⎞                d        d          ⎛d       \n",
       "⋅──(ψ(t)) + cos (θ(t))⋅⎜──(φ(t))⎟  + 2⋅cos(θ(t))⋅──(φ(t))⋅──(ψ(t)) + ⎜──(φ(t))\n",
       " dt                    ⎝dt      ⎠                dt       dt         ⎝dt      \n",
       "\n",
       " 2             2             2\n",
       "⎞    ⎛d       ⎞    ⎛d       ⎞ \n",
       "⎟  + ⎜──(ψ(t))⎟  + ⎜──(θ(t))⎟ \n",
       "⎠    ⎝dt      ⎠    ⎝dt      ⎠ "
      ]
     },
     "execution_count": 21,
     "metadata": {},
     "output_type": "execute_result"
    }
   ],
   "source": [
    "T2 = (omegaT*I2_new*omega).simplify()\n",
    "T2l = T2[0].simplify() # Remember to multiply by (1/2)(1/4)(MR^2 omega^2) !!!\n",
    "T2l"
   ]
  },
  {
   "cell_type": "markdown",
   "metadata": {},
   "source": [
    "#### Potential energy"
   ]
  },
  {
   "cell_type": "code",
   "execution_count": 22,
   "metadata": {
    "inputHidden": false,
    "outputHidden": false
   },
   "outputs": [
    {
     "data": {
      "text/latex": [
       "$$M R g \\sin{\\left (\\theta{\\left (t \\right )} \\right )}$$"
      ],
      "text/plain": [
       "M⋅R⋅g⋅sin(θ(t))"
      ]
     },
     "execution_count": 22,
     "metadata": {},
     "output_type": "execute_result"
    }
   ],
   "source": [
    "V2 = M*g*R*sin(theta)\n",
    "V2"
   ]
  },
  {
   "cell_type": "markdown",
   "metadata": {},
   "source": [
    "#### Lagrangian "
   ]
  },
  {
   "cell_type": "code",
   "execution_count": 23,
   "metadata": {
    "inputHidden": false,
    "outputHidden": false
   },
   "outputs": [
    {
     "data": {
      "text/latex": [
       "$$M R \\left(0.125 R \\left(2 \\sin{\\left (\\theta{\\left (t \\right )} \\right )} \\frac{d}{d t} \\psi{\\left (t \\right )} \\frac{d}{d t} \\theta{\\left (t \\right )} + \\cos^{4}{\\left (\\theta{\\left (t \\right )} \\right )} \\left(\\frac{d}{d t} \\psi{\\left (t \\right )}\\right)^{2} + 2 \\cos^{3}{\\left (\\theta{\\left (t \\right )} \\right )} \\frac{d}{d t} \\phi{\\left (t \\right )} \\frac{d}{d t} \\psi{\\left (t \\right )} + \\cos^{2}{\\left (\\theta{\\left (t \\right )} \\right )} \\left(\\frac{d}{d t} \\phi{\\left (t \\right )}\\right)^{2} + 2 \\cos{\\left (\\theta{\\left (t \\right )} \\right )} \\frac{d}{d t} \\phi{\\left (t \\right )} \\frac{d}{d t} \\psi{\\left (t \\right )} + \\left(\\frac{d}{d t} \\phi{\\left (t \\right )}\\right)^{2} + \\left(\\frac{d}{d t} \\psi{\\left (t \\right )}\\right)^{2} + \\left(\\frac{d}{d t} \\theta{\\left (t \\right )}\\right)^{2}\\right) - g \\sin{\\left (\\theta{\\left (t \\right )} \\right )}\\right)$$"
      ],
      "text/plain": [
       "    ⎛        ⎛                                                     2          \n",
       "    ⎜        ⎜            d        d             4       ⎛d       ⎞         3 \n",
       "M⋅R⋅⎜0.125⋅R⋅⎜2⋅sin(θ(t))⋅──(ψ(t))⋅──(θ(t)) + cos (θ(t))⋅⎜──(ψ(t))⎟  + 2⋅cos (\n",
       "    ⎝        ⎝            dt       dt                    ⎝dt      ⎠           \n",
       "\n",
       "                                               2                              \n",
       "      d        d             2       ⎛d       ⎞                d        d     \n",
       "θ(t))⋅──(φ(t))⋅──(ψ(t)) + cos (θ(t))⋅⎜──(φ(t))⎟  + 2⋅cos(θ(t))⋅──(φ(t))⋅──(ψ(t\n",
       "      dt       dt                    ⎝dt      ⎠                dt       dt    \n",
       "\n",
       "               2             2             2⎞              ⎞\n",
       "     ⎛d       ⎞    ⎛d       ⎞    ⎛d       ⎞ ⎟              ⎟\n",
       ")) + ⎜──(φ(t))⎟  + ⎜──(ψ(t))⎟  + ⎜──(θ(t))⎟ ⎟ - g⋅sin(θ(t))⎟\n",
       "     ⎝dt      ⎠    ⎝dt      ⎠    ⎝dt      ⎠ ⎠              ⎠"
      ]
     },
     "execution_count": 23,
     "metadata": {},
     "output_type": "execute_result"
    }
   ],
   "source": [
    "L2 = ((1/8)*M*R**2 * T2l - V2).simplify()\n",
    "L2"
   ]
  },
  {
   "cell_type": "markdown",
   "metadata": {},
   "source": [
    "####  Equations of motion "
   ]
  },
  {
   "cell_type": "code",
   "execution_count": 24,
   "metadata": {
    "inputHidden": false,
    "outputHidden": false
   },
   "outputs": [
    {
     "data": {
      "text/latex": [
       "$$\\left[\\begin{matrix}0.125 M R^{2} \\left(- 8 \\sin{\\left (\\theta{\\left (t \\right )} \\right )} \\cos^{3}{\\left (\\theta{\\left (t \\right )} \\right )} \\frac{d}{d t} \\psi{\\left (t \\right )} \\frac{d}{d t} \\theta{\\left (t \\right )} - 6 \\sin{\\left (\\theta{\\left (t \\right )} \\right )} \\cos^{2}{\\left (\\theta{\\left (t \\right )} \\right )} \\frac{d}{d t} \\phi{\\left (t \\right )} \\frac{d}{d t} \\theta{\\left (t \\right )} - 2 \\sin{\\left (\\theta{\\left (t \\right )} \\right )} \\frac{d}{d t} \\phi{\\left (t \\right )} \\frac{d}{d t} \\theta{\\left (t \\right )} + 2 \\sin{\\left (\\theta{\\left (t \\right )} \\right )} \\frac{d^{2}}{d t^{2}}  \\theta{\\left (t \\right )} + 2 \\cos^{4}{\\left (\\theta{\\left (t \\right )} \\right )} \\frac{d^{2}}{d t^{2}}  \\psi{\\left (t \\right )} + 2 \\cos^{3}{\\left (\\theta{\\left (t \\right )} \\right )} \\frac{d^{2}}{d t^{2}}  \\phi{\\left (t \\right )} + 2 \\cos{\\left (\\theta{\\left (t \\right )} \\right )} \\left(\\frac{d}{d t} \\theta{\\left (t \\right )}\\right)^{2} + 2 \\cos{\\left (\\theta{\\left (t \\right )} \\right )} \\frac{d^{2}}{d t^{2}}  \\phi{\\left (t \\right )} + 2 \\frac{d^{2}}{d t^{2}}  \\psi{\\left (t \\right )}\\right)\\\\0.125 M R^{2} \\left(2 \\sin{\\left (\\theta{\\left (t \\right )} \\right )} \\frac{d^{2}}{d t^{2}}  \\psi{\\left (t \\right )} + 2 \\cos{\\left (\\theta{\\left (t \\right )} \\right )} \\frac{d}{d t} \\psi{\\left (t \\right )} \\frac{d}{d t} \\theta{\\left (t \\right )} + 2 \\frac{d^{2}}{d t^{2}}  \\theta{\\left (t \\right )}\\right) - M R \\left(0.125 R \\left(- 4 \\sin{\\left (\\theta{\\left (t \\right )} \\right )} \\cos^{3}{\\left (\\theta{\\left (t \\right )} \\right )} \\left(\\frac{d}{d t} \\psi{\\left (t \\right )}\\right)^{2} - 6 \\sin{\\left (\\theta{\\left (t \\right )} \\right )} \\cos^{2}{\\left (\\theta{\\left (t \\right )} \\right )} \\frac{d}{d t} \\phi{\\left (t \\right )} \\frac{d}{d t} \\psi{\\left (t \\right )} - 2 \\sin{\\left (\\theta{\\left (t \\right )} \\right )} \\cos{\\left (\\theta{\\left (t \\right )} \\right )} \\left(\\frac{d}{d t} \\phi{\\left (t \\right )}\\right)^{2} - 2 \\sin{\\left (\\theta{\\left (t \\right )} \\right )} \\frac{d}{d t} \\phi{\\left (t \\right )} \\frac{d}{d t} \\psi{\\left (t \\right )} + 2 \\cos{\\left (\\theta{\\left (t \\right )} \\right )} \\frac{d}{d t} \\psi{\\left (t \\right )} \\frac{d}{d t} \\theta{\\left (t \\right )}\\right) - g \\cos{\\left (\\theta{\\left (t \\right )} \\right )}\\right)\\\\0.125 M R^{2} \\left(- 6 \\sin{\\left (\\theta{\\left (t \\right )} \\right )} \\cos^{2}{\\left (\\theta{\\left (t \\right )} \\right )} \\frac{d}{d t} \\psi{\\left (t \\right )} \\frac{d}{d t} \\theta{\\left (t \\right )} - 4 \\sin{\\left (\\theta{\\left (t \\right )} \\right )} \\cos{\\left (\\theta{\\left (t \\right )} \\right )} \\frac{d}{d t} \\phi{\\left (t \\right )} \\frac{d}{d t} \\theta{\\left (t \\right )} - 2 \\sin{\\left (\\theta{\\left (t \\right )} \\right )} \\frac{d}{d t} \\psi{\\left (t \\right )} \\frac{d}{d t} \\theta{\\left (t \\right )} + 2 \\cos^{3}{\\left (\\theta{\\left (t \\right )} \\right )} \\frac{d^{2}}{d t^{2}}  \\psi{\\left (t \\right )} + 2 \\cos^{2}{\\left (\\theta{\\left (t \\right )} \\right )} \\frac{d^{2}}{d t^{2}}  \\phi{\\left (t \\right )} + 2 \\cos{\\left (\\theta{\\left (t \\right )} \\right )} \\frac{d^{2}}{d t^{2}}  \\psi{\\left (t \\right )} + 2 \\frac{d^{2}}{d t^{2}}  \\phi{\\left (t \\right )}\\right)\\end{matrix}\\right]$$"
      ],
      "text/plain": [
       "⎡                       ⎛                                                     \n",
       "⎢                     2 ⎜                 3       d        d                  \n",
       "⎢            0.125⋅M⋅R ⋅⎜- 8⋅sin(θ(t))⋅cos (θ(t))⋅──(ψ(t))⋅──(θ(t)) - 6⋅sin(θ(\n",
       "⎢                       ⎜                         dt       dt                 \n",
       "⎢                       ⎝                                                     \n",
       "⎢                                                                             \n",
       "⎢           ⎛              2                                             2    \n",
       "⎢         2 ⎜             d                      d        d             d     \n",
       "⎢0.125⋅M⋅R ⋅⎜2⋅sin(θ(t))⋅───(ψ(t)) + 2⋅cos(θ(t))⋅──(ψ(t))⋅──(θ(t)) + 2⋅───(θ(t\n",
       "⎢           ⎜              2                     dt       dt             2    \n",
       "⎢           ⎝            dt                                            dt     \n",
       "⎢                                                                             \n",
       "⎢                                                ⎛                            \n",
       "⎢                                              2 ⎜                 2       d  \n",
       "⎢                                     0.125⋅M⋅R ⋅⎜- 6⋅sin(θ(t))⋅cos (θ(t))⋅──(\n",
       "⎢                                                ⎜                         dt \n",
       "⎣                                                ⎝                            \n",
       "\n",
       "                                                                              \n",
       "       2       d        d                      d        d                     \n",
       "t))⋅cos (θ(t))⋅──(φ(t))⋅──(θ(t)) - 2⋅sin(θ(t))⋅──(φ(t))⋅──(θ(t)) + 2⋅sin(θ(t))\n",
       "               dt       dt                     dt       dt                    \n",
       "                                                                              \n",
       "                                                                              \n",
       "  ⎞       ⎛        ⎛                                   2                      \n",
       "  ⎟       ⎜        ⎜                 3       ⎛d       ⎞                   2   \n",
       "))⎟ - M⋅R⋅⎜0.125⋅R⋅⎜- 4⋅sin(θ(t))⋅cos (θ(t))⋅⎜──(ψ(t))⎟  - 6⋅sin(θ(t))⋅cos (θ(\n",
       "  ⎟       ⎝        ⎝                         ⎝dt      ⎠                       \n",
       "  ⎠                                                                           \n",
       "                                                                              \n",
       "                                                                              \n",
       "      d                                d        d                      d      \n",
       "ψ(t))⋅──(θ(t)) - 4⋅sin(θ(t))⋅cos(θ(t))⋅──(φ(t))⋅──(θ(t)) - 2⋅sin(θ(t))⋅──(ψ(t)\n",
       "      dt                               dt       dt                     dt     \n",
       "                                                                              \n",
       "\n",
       "   2                        2                        2                        \n",
       "  d               4        d               3        d                      ⎛d \n",
       "⋅───(θ(t)) + 2⋅cos (θ(t))⋅───(ψ(t)) + 2⋅cos (θ(t))⋅───(φ(t)) + 2⋅cos(θ(t))⋅⎜──\n",
       "   2                        2                        2                     ⎝dt\n",
       " dt                       dt                       dt                         \n",
       "                                                                              \n",
       "                                                        2                     \n",
       "    d        d                                ⎛d       ⎞                d     \n",
       "t))⋅──(φ(t))⋅──(ψ(t)) - 2⋅sin(θ(t))⋅cos(θ(t))⋅⎜──(φ(t))⎟  - 2⋅sin(θ(t))⋅──(φ(t\n",
       "    dt       dt                               ⎝dt      ⎠                dt    \n",
       "                                                                              \n",
       "                                                                              \n",
       "                            2                        2                       2\n",
       "  d               3        d               2        d                       d \n",
       ")⋅──(θ(t)) + 2⋅cos (θ(t))⋅───(ψ(t)) + 2⋅cos (θ(t))⋅───(φ(t)) + 2⋅cos(θ(t))⋅───\n",
       "  dt                        2                        2                       2\n",
       "                          dt                       dt                      dt \n",
       "\n",
       "       2                 2             2      ⎞            ⎤\n",
       "      ⎞                 d             d       ⎟            ⎥\n",
       "(θ(t))⎟  + 2⋅cos(θ(t))⋅───(φ(t)) + 2⋅───(ψ(t))⎟            ⎥\n",
       "      ⎠                  2             2      ⎟            ⎥\n",
       "                       dt            dt       ⎠            ⎥\n",
       "                                                           ⎥\n",
       "                                           ⎞              ⎞⎥\n",
       "   d                      d        d       ⎟              ⎟⎥\n",
       "))⋅──(ψ(t)) + 2⋅cos(θ(t))⋅──(ψ(t))⋅──(θ(t))⎟ - g⋅cos(θ(t))⎟⎥\n",
       "   dt                     dt       dt      ⎠              ⎠⎥\n",
       "                                                           ⎥\n",
       "                                                           ⎥\n",
       "             2      ⎞                                      ⎥\n",
       "            d       ⎟                                      ⎥\n",
       "(ψ(t)) + 2⋅───(φ(t))⎟                                      ⎥\n",
       "             2      ⎟                                      ⎥\n",
       "           dt       ⎠                                      ⎦"
      ]
     },
     "execution_count": 24,
     "metadata": {},
     "output_type": "execute_result"
    }
   ],
   "source": [
    "LM2 = LagrangesMethod(L2, [psi, theta, phi])\n",
    "EOM2 = LM2.form_lagranges_equations()\n",
    "EOM2"
   ]
  },
  {
   "cell_type": "markdown",
   "metadata": {},
   "source": [
    "## Question 3\n",
    "#### Transformation matrix to translate the ring"
   ]
  },
  {
   "cell_type": "code",
   "execution_count": 25,
   "metadata": {
    "inputHidden": false,
    "outputHidden": false
   },
   "outputs": [
    {
     "data": {
      "text/latex": [
       "$$\\left[\\begin{matrix}1 & 0 & 0 & R \\cos{\\left (\\phi{\\left (t \\right )} \\right )} \\cos{\\left (\\theta{\\left (t \\right )} \\right )}\\\\0 & 1 & 0 & R \\sin{\\left (\\phi{\\left (t \\right )} \\right )} \\cos{\\left (\\theta{\\left (t \\right )} \\right )}\\\\0 & 0 & 1 & R \\sin{\\left (\\theta{\\left (t \\right )} \\right )}\\\\0 & 0 & 0 & 1\\end{matrix}\\right]$$"
      ],
      "text/plain": [
       "⎡1  0  0  R⋅cos(φ(t))⋅cos(θ(t))⎤\n",
       "⎢                              ⎥\n",
       "⎢0  1  0  R⋅sin(φ(t))⋅cos(θ(t))⎥\n",
       "⎢                              ⎥\n",
       "⎢0  0  1       R⋅sin(θ(t))     ⎥\n",
       "⎢                              ⎥\n",
       "⎣0  0  0            1          ⎦"
      ]
     },
     "execution_count": 25,
     "metadata": {},
     "output_type": "execute_result"
    }
   ],
   "source": [
    "A = Matrix([ [1, 0, 0, R*cos(theta)*cos(phi)], [0, 1, 0, R*cos(theta)*sin(phi)], [0, 0, 1, R*sin(theta)], [0, 0, 0, 1] ])\n",
    "A"
   ]
  },
  {
   "cell_type": "markdown",
   "metadata": {},
   "source": [
    "#### Moment of inertial for the ring "
   ]
  },
  {
   "cell_type": "code",
   "execution_count": 27,
   "metadata": {
    "inputHidden": false,
    "outputHidden": false
   },
   "outputs": [
    {
     "data": {
      "text/latex": [
       "$$\\left[\\begin{matrix}\\sin^{2}{\\left (\\phi{\\left (t \\right )} \\right )} \\sin^{2}{\\left (\\theta{\\left (t \\right )} \\right )} + 1 & - \\sin{\\left (\\phi{\\left (t \\right )} \\right )} \\sin^{2}{\\left (\\theta{\\left (t \\right )} \\right )} \\cos{\\left (\\phi{\\left (t \\right )} \\right )} & \\frac{1}{4} \\cos{\\left (\\phi{\\left (t \\right )} - 2 \\theta{\\left (t \\right )} \\right )} - \\frac{1}{4} \\cos{\\left (\\phi{\\left (t \\right )} + 2 \\theta{\\left (t \\right )} \\right )} & - R \\sin{\\left (\\phi{\\left (t \\right )} \\right )} \\sin^{2}{\\left (\\theta{\\left (t \\right )} \\right )} \\cos{\\left (\\theta{\\left (t \\right )} \\right )}\\\\- \\sin{\\left (\\phi{\\left (t \\right )} \\right )} \\sin^{2}{\\left (\\theta{\\left (t \\right )} \\right )} \\cos{\\left (\\phi{\\left (t \\right )} \\right )} & - \\sin^{2}{\\left (\\phi{\\left (t \\right )} \\right )} \\sin^{2}{\\left (\\theta{\\left (t \\right )} \\right )} + \\sin^{2}{\\left (\\theta{\\left (t \\right )} \\right )} + 1 & \\frac{1}{4} \\sin{\\left (\\phi{\\left (t \\right )} - 2 \\theta{\\left (t \\right )} \\right )} - \\frac{1}{4} \\sin{\\left (\\phi{\\left (t \\right )} + 2 \\theta{\\left (t \\right )} \\right )} & R \\sin^{2}{\\left (\\theta{\\left (t \\right )} \\right )} \\cos{\\left (\\phi{\\left (t \\right )} \\right )} \\cos{\\left (\\theta{\\left (t \\right )} \\right )}\\\\\\frac{1}{4} \\cos{\\left (\\phi{\\left (t \\right )} - 2 \\theta{\\left (t \\right )} \\right )} - \\frac{1}{4} \\cos{\\left (\\phi{\\left (t \\right )} + 2 \\theta{\\left (t \\right )} \\right )} & \\frac{1}{4} \\sin{\\left (\\phi{\\left (t \\right )} - 2 \\theta{\\left (t \\right )} \\right )} - \\frac{1}{4} \\sin{\\left (\\phi{\\left (t \\right )} + 2 \\theta{\\left (t \\right )} \\right )} & \\cos^{2}{\\left (\\theta{\\left (t \\right )} \\right )} + 1 & - \\frac{R}{2} \\sin{\\left (2 \\theta{\\left (t \\right )} \\right )} \\cos{\\left (\\theta{\\left (t \\right )} \\right )}\\\\0 & 0 & 0 & 1\\end{matrix}\\right]$$"
      ],
      "text/plain": [
       "⎡          2          2                                     2                 \n",
       "⎢       sin (φ(t))⋅sin (θ(t)) + 1             -sin(φ(t))⋅sin (θ(t))⋅cos(φ(t)) \n",
       "⎢                                                                             \n",
       "⎢                                                                             \n",
       "⎢                  2                           2          2            2      \n",
       "⎢    -sin(φ(t))⋅sin (θ(t))⋅cos(φ(t))      - sin (φ(t))⋅sin (θ(t)) + sin (θ(t))\n",
       "⎢                                                                             \n",
       "⎢                                                                             \n",
       "⎢cos(φ(t) - 2⋅θ(t))   cos(φ(t) + 2⋅θ(t))  sin(φ(t) - 2⋅θ(t))   sin(φ(t) + 2⋅θ(\n",
       "⎢────────────────── - ──────────────────  ────────────────── - ───────────────\n",
       "⎢        4                    4                   4                    4      \n",
       "⎢                                                                             \n",
       "⎣                   0                                        0                \n",
       "\n",
       "      cos(φ(t) - 2⋅θ(t))   cos(φ(t) + 2⋅θ(t))                  2              \n",
       "      ────────────────── - ──────────────────  -R⋅sin(φ(t))⋅sin (θ(t))⋅cos(θ(t\n",
       "              4                    4                                          \n",
       "                                                                              \n",
       "      sin(φ(t) - 2⋅θ(t))   sin(φ(t) + 2⋅θ(t))       2                         \n",
       " + 1  ────────────────── - ──────────────────  R⋅sin (θ(t))⋅cos(φ(t))⋅cos(θ(t)\n",
       "              4                    4                                          \n",
       "                                                                              \n",
       "t))                  2                             -R⋅sin(2⋅θ(t))⋅cos(θ(t))   \n",
       "───               cos (θ(t)) + 1                   ─────────────────────────  \n",
       "                                                               2              \n",
       "                                                                              \n",
       "                         0                                     1              \n",
       "\n",
       "  ⎤\n",
       "))⎥\n",
       "  ⎥\n",
       "  ⎥\n",
       "  ⎥\n",
       ") ⎥\n",
       "  ⎥\n",
       "  ⎥\n",
       "  ⎥\n",
       "  ⎥\n",
       "  ⎥\n",
       "  ⎥\n",
       "  ⎦"
      ]
     },
     "execution_count": 27,
     "metadata": {},
     "output_type": "execute_result"
    }
   ],
   "source": [
    "I3 = I2_new # Remember to multiply by 1/2 MR^2 !!!\n",
    "I31 = I3.row_insert(3, Matrix([[0, 0, 0]]))\n",
    "I32 = I31.col_insert(3, Matrix([0, 0, 0, 1]))\n",
    "I32\n",
    "\n",
    "I3_new = (A*I32*(A**-1)).simplify()\n",
    "I3_new"
   ]
  },
  {
   "cell_type": "markdown",
   "metadata": {},
   "source": [
    "#### The total angular velocity vector"
   ]
  },
  {
   "cell_type": "code",
   "execution_count": 28,
   "metadata": {
    "inputHidden": false,
    "outputHidden": false
   },
   "outputs": [
    {
     "data": {
      "text/latex": [
       "$$\\left[\\begin{matrix}\\sin{\\left (\\theta{\\left (t \\right )} \\right )} \\cos{\\left (\\phi{\\left (t \\right )} \\right )} \\frac{d}{d t} \\psi{\\left (t \\right )} + \\cos{\\left (\\phi{\\left (t \\right )} \\right )} \\frac{d}{d t} \\theta{\\left (t \\right )}\\\\\\sin{\\left (\\phi{\\left (t \\right )} \\right )} \\sin{\\left (\\theta{\\left (t \\right )} \\right )} \\frac{d}{d t} \\psi{\\left (t \\right )} + \\sin{\\left (\\phi{\\left (t \\right )} \\right )} \\frac{d}{d t} \\theta{\\left (t \\right )}\\\\\\cos{\\left (\\theta{\\left (t \\right )} \\right )} \\frac{d}{d t} \\psi{\\left (t \\right )} + \\frac{d}{d t} \\phi{\\left (t \\right )}\\\\1\\end{matrix}\\right]$$"
      ],
      "text/plain": [
       "⎡                    d                    d       ⎤\n",
       "⎢sin(θ(t))⋅cos(φ(t))⋅──(ψ(t)) + cos(φ(t))⋅──(θ(t))⎥\n",
       "⎢                    dt                   dt      ⎥\n",
       "⎢                                                 ⎥\n",
       "⎢                    d                    d       ⎥\n",
       "⎢sin(φ(t))⋅sin(θ(t))⋅──(ψ(t)) + sin(φ(t))⋅──(θ(t))⎥\n",
       "⎢                    dt                   dt      ⎥\n",
       "⎢                                                 ⎥\n",
       "⎢                    d          d                 ⎥\n",
       "⎢          cos(θ(t))⋅──(ψ(t)) + ──(φ(t))          ⎥\n",
       "⎢                    dt         dt                ⎥\n",
       "⎢                                                 ⎥\n",
       "⎣                        1                        ⎦"
      ]
     },
     "execution_count": 28,
     "metadata": {},
     "output_type": "execute_result"
    }
   ],
   "source": [
    "omega3 = omega.row_insert(3, Matrix([1]))\n",
    "omega3T = transpose(omega3)\n",
    "omega3"
   ]
  },
  {
   "cell_type": "markdown",
   "metadata": {},
   "source": [
    "#### Kinetic energy"
   ]
  },
  {
   "cell_type": "code",
   "execution_count": 30,
   "metadata": {
    "inputHidden": false,
    "outputHidden": false
   },
   "outputs": [
    {
     "data": {
      "text/latex": [
       "$$\\frac{m}{2} \\left(0.5 R^{2} \\left(R \\sin^{3}{\\left (\\theta{\\left (t \\right )} \\right )} \\frac{d}{d t} \\phi{\\left (t \\right )} - R \\sin{\\left (\\theta{\\left (t \\right )} \\right )} \\cos^{3}{\\left (\\theta{\\left (t \\right )} \\right )} \\frac{d}{d t} \\psi{\\left (t \\right )} - R \\sin{\\left (\\theta{\\left (t \\right )} \\right )} \\frac{d}{d t} \\phi{\\left (t \\right )} + \\sin^{4}{\\left (\\theta{\\left (t \\right )} \\right )} \\left(\\frac{d}{d t} \\psi{\\left (t \\right )}\\right)^{2} + 2 \\sin{\\left (\\theta{\\left (t \\right )} \\right )} \\frac{d}{d t} \\psi{\\left (t \\right )} \\frac{d}{d t} \\theta{\\left (t \\right )} + 2 \\cos^{3}{\\left (\\theta{\\left (t \\right )} \\right )} \\frac{d}{d t} \\phi{\\left (t \\right )} \\frac{d}{d t} \\psi{\\left (t \\right )} + \\cos^{2}{\\left (\\theta{\\left (t \\right )} \\right )} \\left(\\frac{d}{d t} \\phi{\\left (t \\right )}\\right)^{2} + 2 \\cos^{2}{\\left (\\theta{\\left (t \\right )} \\right )} \\left(\\frac{d}{d t} \\psi{\\left (t \\right )}\\right)^{2} + 2 \\cos{\\left (\\theta{\\left (t \\right )} \\right )} \\frac{d}{d t} \\phi{\\left (t \\right )} \\frac{d}{d t} \\psi{\\left (t \\right )} + \\left(\\frac{d}{d t} \\phi{\\left (t \\right )}\\right)^{2} + \\left(\\frac{d}{d t} \\theta{\\left (t \\right )}\\right)^{2} + 1\\right) + \\left(\\frac{d}{d t} x{\\left (t \\right )}\\right)^{2} + \\left(\\frac{d}{d t} y{\\left (t \\right )}\\right)^{2} + \\left(\\frac{d}{d t} z{\\left (t \\right )}\\right)^{2}\\right)$$"
      ],
      "text/plain": [
       "  ⎛       ⎛                                                                   \n",
       "  ⎜     2 ⎜     3       d                         3       d                   \n",
       "m⋅⎜0.5⋅R ⋅⎜R⋅sin (θ(t))⋅──(φ(t)) - R⋅sin(θ(t))⋅cos (θ(t))⋅──(ψ(t)) - R⋅sin(θ(t\n",
       "  ⎝       ⎝             dt                                dt                  \n",
       "──────────────────────────────────────────────────────────────────────────────\n",
       "                                                                              \n",
       "\n",
       "                                   2                                          \n",
       "   d             4       ⎛d       ⎞                d        d               3 \n",
       "))⋅──(φ(t)) + sin (θ(t))⋅⎜──(ψ(t))⎟  + 2⋅sin(θ(t))⋅──(ψ(t))⋅──(θ(t)) + 2⋅cos (\n",
       "   dt                    ⎝dt      ⎠                dt       dt                \n",
       "──────────────────────────────────────────────────────────────────────────────\n",
       "                                                                              \n",
       "\n",
       "                                               2                          2   \n",
       "      d        d             2       ⎛d       ⎞         2       ⎛d       ⎞    \n",
       "θ(t))⋅──(φ(t))⋅──(ψ(t)) + cos (θ(t))⋅⎜──(φ(t))⎟  + 2⋅cos (θ(t))⋅⎜──(ψ(t))⎟  + \n",
       "      dt       dt                    ⎝dt      ⎠                 ⎝dt      ⎠    \n",
       "──────────────────────────────────────────────────────────────────────────────\n",
       "             2                                                                \n",
       "\n",
       "                                          2             2    ⎞             2  \n",
       "            d        d          ⎛d       ⎞    ⎛d       ⎞     ⎟   ⎛d       ⎞   \n",
       "2⋅cos(θ(t))⋅──(φ(t))⋅──(ψ(t)) + ⎜──(φ(t))⎟  + ⎜──(θ(t))⎟  + 1⎟ + ⎜──(x(t))⎟  +\n",
       "            dt       dt         ⎝dt      ⎠    ⎝dt      ⎠     ⎠   ⎝dt      ⎠   \n",
       "──────────────────────────────────────────────────────────────────────────────\n",
       "                                                                              \n",
       "\n",
       "           2             2⎞\n",
       " ⎛d       ⎞    ⎛d       ⎞ ⎟\n",
       " ⎜──(y(t))⎟  + ⎜──(z(t))⎟ ⎟\n",
       " ⎝dt      ⎠    ⎝dt      ⎠ ⎠\n",
       "───────────────────────────\n",
       "                           "
      ]
     },
     "execution_count": 30,
     "metadata": {},
     "output_type": "execute_result"
    }
   ],
   "source": [
    "T3r = (omega3T*I3_new*omega3).simplify()\n",
    "T3l = T3r[0]\n",
    "T3l\n",
    "T3 = ((1/4)*m*R**2 * T3l + (m/2)*(xd**2 + yd**2 + zd**2)).simplify()\n",
    "T3"
   ]
  },
  {
   "cell_type": "markdown",
   "metadata": {},
   "source": [
    "#### Potential Energy"
   ]
  },
  {
   "cell_type": "code",
   "execution_count": 31,
   "metadata": {
    "inputHidden": false,
    "outputHidden": false
   },
   "outputs": [
    {
     "data": {
      "text/latex": [
       "$$g m z{\\left (t \\right )}$$"
      ],
      "text/plain": [
       "g⋅m⋅z(t)"
      ]
     },
     "execution_count": 31,
     "metadata": {},
     "output_type": "execute_result"
    }
   ],
   "source": [
    "V3 = m*g*z\n",
    "V3"
   ]
  },
  {
   "cell_type": "markdown",
   "metadata": {},
   "source": [
    "#### Lagrangian "
   ]
  },
  {
   "cell_type": "code",
   "execution_count": 32,
   "metadata": {
    "inputHidden": false,
    "outputHidden": false
   },
   "outputs": [
    {
     "data": {
      "text/latex": [
       "$$\\frac{m}{2} \\left(R^{2} \\left(0.5 R \\sin^{3}{\\left (\\theta{\\left (t \\right )} \\right )} \\frac{d}{d t} \\phi{\\left (t \\right )} - 0.5 R \\sin{\\left (\\theta{\\left (t \\right )} \\right )} \\cos^{3}{\\left (\\theta{\\left (t \\right )} \\right )} \\frac{d}{d t} \\psi{\\left (t \\right )} - 0.5 R \\sin{\\left (\\theta{\\left (t \\right )} \\right )} \\frac{d}{d t} \\phi{\\left (t \\right )} + 0.5 \\sin^{4}{\\left (\\theta{\\left (t \\right )} \\right )} \\left(\\frac{d}{d t} \\psi{\\left (t \\right )}\\right)^{2} + 1.0 \\sin{\\left (\\theta{\\left (t \\right )} \\right )} \\frac{d}{d t} \\psi{\\left (t \\right )} \\frac{d}{d t} \\theta{\\left (t \\right )} + 1.0 \\cos^{3}{\\left (\\theta{\\left (t \\right )} \\right )} \\frac{d}{d t} \\phi{\\left (t \\right )} \\frac{d}{d t} \\psi{\\left (t \\right )} + 0.5 \\cos^{2}{\\left (\\theta{\\left (t \\right )} \\right )} \\left(\\frac{d}{d t} \\phi{\\left (t \\right )}\\right)^{2} + 1.0 \\cos^{2}{\\left (\\theta{\\left (t \\right )} \\right )} \\left(\\frac{d}{d t} \\psi{\\left (t \\right )}\\right)^{2} + 1.0 \\cos{\\left (\\theta{\\left (t \\right )} \\right )} \\frac{d}{d t} \\phi{\\left (t \\right )} \\frac{d}{d t} \\psi{\\left (t \\right )} + 0.5 \\left(\\frac{d}{d t} \\phi{\\left (t \\right )}\\right)^{2} + 0.5 \\left(\\frac{d}{d t} \\theta{\\left (t \\right )}\\right)^{2} + 0.5\\right) - 2 g z{\\left (t \\right )} + \\left(\\frac{d}{d t} x{\\left (t \\right )}\\right)^{2} + \\left(\\frac{d}{d t} y{\\left (t \\right )}\\right)^{2} + \\left(\\frac{d}{d t} z{\\left (t \\right )}\\right)^{2}\\right)$$"
      ],
      "text/plain": [
       "  ⎛   ⎛                                                                       \n",
       "  ⎜ 2 ⎜         3       d                             3       d               \n",
       "m⋅⎜R ⋅⎜0.5⋅R⋅sin (θ(t))⋅──(φ(t)) - 0.5⋅R⋅sin(θ(t))⋅cos (θ(t))⋅──(ψ(t)) - 0.5⋅R\n",
       "  ⎝   ⎝                 dt                                    dt              \n",
       "──────────────────────────────────────────────────────────────────────────────\n",
       "                                                                              \n",
       "\n",
       "                                               2                              \n",
       "           d                 4       ⎛d       ⎞                  d        d   \n",
       "⋅sin(θ(t))⋅──(φ(t)) + 0.5⋅sin (θ(t))⋅⎜──(ψ(t))⎟  + 1.0⋅sin(θ(t))⋅──(ψ(t))⋅──(θ\n",
       "           dt                        ⎝dt      ⎠                  dt       dt  \n",
       "──────────────────────────────────────────────────────────────────────────────\n",
       "                                                                              \n",
       "\n",
       "                                                                   2          \n",
       "              3       d        d                 2       ⎛d       ⎞           \n",
       "(t)) + 1.0⋅cos (θ(t))⋅──(φ(t))⋅──(ψ(t)) + 0.5⋅cos (θ(t))⋅⎜──(φ(t))⎟  + 1.0⋅cos\n",
       "                      dt       dt                        ⎝dt      ⎠           \n",
       "──────────────────────────────────────────────────────────────────────────────\n",
       "                                   2                                          \n",
       "\n",
       "                  2                                                   2       \n",
       "2       ⎛d       ⎞                  d        d              ⎛d       ⎞        \n",
       " (θ(t))⋅⎜──(ψ(t))⎟  + 1.0⋅cos(θ(t))⋅──(φ(t))⋅──(ψ(t)) + 0.5⋅⎜──(φ(t))⎟  + 0.5⋅\n",
       "        ⎝dt      ⎠                  dt       dt             ⎝dt      ⎠        \n",
       "──────────────────────────────────────────────────────────────────────────────\n",
       "                                                                              \n",
       "\n",
       "          2      ⎞                        2             2             2⎞\n",
       "⎛d       ⎞       ⎟              ⎛d       ⎞    ⎛d       ⎞    ⎛d       ⎞ ⎟\n",
       "⎜──(θ(t))⎟  + 0.5⎟ - 2⋅g⋅z(t) + ⎜──(x(t))⎟  + ⎜──(y(t))⎟  + ⎜──(z(t))⎟ ⎟\n",
       "⎝dt      ⎠       ⎠              ⎝dt      ⎠    ⎝dt      ⎠    ⎝dt      ⎠ ⎠\n",
       "────────────────────────────────────────────────────────────────────────\n",
       "                                                                        "
      ]
     },
     "execution_count": 32,
     "metadata": {},
     "output_type": "execute_result"
    }
   ],
   "source": [
    "L3 = (T3 - V3).simplify()\n",
    "L3"
   ]
  },
  {
   "cell_type": "markdown",
   "metadata": {},
   "source": [
    "#### Equations of motion "
   ]
  },
  {
   "cell_type": "code",
   "execution_count": 33,
   "metadata": {
    "inputHidden": false,
    "outputHidden": false
   },
   "outputs": [
    {
     "data": {
      "text/latex": [
       "$$\\left[\\begin{matrix}R^{2} m \\left(0.09375 R \\left(- \\cos{\\left (4 \\theta{\\left (t \\right )} \\right )} + 1\\right) \\frac{d}{d t} \\theta{\\left (t \\right )} - 0.25 R \\cos^{4}{\\left (\\theta{\\left (t \\right )} \\right )} \\frac{d}{d t} \\theta{\\left (t \\right )} + 0.5 \\sin^{4}{\\left (\\theta{\\left (t \\right )} \\right )} \\frac{d^{2}}{d t^{2}}  \\psi{\\left (t \\right )} + 2.0 \\sin^{3}{\\left (\\theta{\\left (t \\right )} \\right )} \\cos{\\left (\\theta{\\left (t \\right )} \\right )} \\frac{d}{d t} \\psi{\\left (t \\right )} \\frac{d}{d t} \\theta{\\left (t \\right )} - 1.5 \\sin{\\left (\\theta{\\left (t \\right )} \\right )} \\cos^{2}{\\left (\\theta{\\left (t \\right )} \\right )} \\frac{d}{d t} \\phi{\\left (t \\right )} \\frac{d}{d t} \\theta{\\left (t \\right )} - 0.5 \\sin{\\left (\\theta{\\left (t \\right )} \\right )} \\frac{d}{d t} \\phi{\\left (t \\right )} \\frac{d}{d t} \\theta{\\left (t \\right )} + 0.5 \\sin{\\left (\\theta{\\left (t \\right )} \\right )} \\frac{d^{2}}{d t^{2}}  \\theta{\\left (t \\right )} - 1.0 \\sin{\\left (2 \\theta{\\left (t \\right )} \\right )} \\frac{d}{d t} \\psi{\\left (t \\right )} \\frac{d}{d t} \\theta{\\left (t \\right )} + 0.5 \\cos^{3}{\\left (\\theta{\\left (t \\right )} \\right )} \\frac{d^{2}}{d t^{2}}  \\phi{\\left (t \\right )} + 1.0 \\cos^{2}{\\left (\\theta{\\left (t \\right )} \\right )} \\frac{d^{2}}{d t^{2}}  \\psi{\\left (t \\right )} + 0.5 \\cos{\\left (\\theta{\\left (t \\right )} \\right )} \\left(\\frac{d}{d t} \\theta{\\left (t \\right )}\\right)^{2} + 0.5 \\cos{\\left (\\theta{\\left (t \\right )} \\right )} \\frac{d^{2}}{d t^{2}}  \\phi{\\left (t \\right )}\\right)\\\\\\frac{R^{2} m}{2} \\left(0.5 R \\left(- \\cos{\\left (2 \\theta{\\left (t \\right )} \\right )} + 1\\right)^{2} \\frac{d}{d t} \\psi{\\left (t \\right )} + 0.125 R \\cos{\\left (\\theta{\\left (t \\right )} \\right )} \\frac{d}{d t} \\phi{\\left (t \\right )} + 1.25 R \\cos{\\left (2 \\theta{\\left (t \\right )} \\right )} \\frac{d}{d t} \\psi{\\left (t \\right )} + 0.375 R \\cos{\\left (3 \\theta{\\left (t \\right )} \\right )} \\frac{d}{d t} \\phi{\\left (t \\right )} - 0.75 R \\frac{d}{d t} \\psi{\\left (t \\right )} + 1.75 \\sin{\\left (\\theta{\\left (t \\right )} \\right )} \\frac{d}{d t} \\phi{\\left (t \\right )} \\frac{d}{d t} \\psi{\\left (t \\right )} + 1.0 \\sin{\\left (\\theta{\\left (t \\right )} \\right )} \\frac{d^{2}}{d t^{2}}  \\psi{\\left (t \\right )} + 0.5 \\sin{\\left (2 \\theta{\\left (t \\right )} \\right )} \\left(\\frac{d}{d t} \\phi{\\left (t \\right )}\\right)^{2} + 0.5 \\sin{\\left (2 \\theta{\\left (t \\right )} \\right )} \\left(\\frac{d}{d t} \\psi{\\left (t \\right )}\\right)^{2} + 0.75 \\sin{\\left (3 \\theta{\\left (t \\right )} \\right )} \\frac{d}{d t} \\phi{\\left (t \\right )} \\frac{d}{d t} \\psi{\\left (t \\right )} + 0.25 \\sin{\\left (4 \\theta{\\left (t \\right )} \\right )} \\left(\\frac{d}{d t} \\psi{\\left (t \\right )}\\right)^{2} + 1.0 \\frac{d^{2}}{d t^{2}}  \\theta{\\left (t \\right )}\\right)\\\\R^{2} m \\left(- 0.75 R \\cos^{3}{\\left (\\theta{\\left (t \\right )} \\right )} \\frac{d}{d t} \\theta{\\left (t \\right )} + 0.5 R \\cos{\\left (\\theta{\\left (t \\right )} \\right )} \\frac{d}{d t} \\theta{\\left (t \\right )} + 1.5 \\sin^{3}{\\left (\\theta{\\left (t \\right )} \\right )} \\frac{d}{d t} \\psi{\\left (t \\right )} \\frac{d}{d t} \\theta{\\left (t \\right )} - 0.5 \\sin^{2}{\\left (\\theta{\\left (t \\right )} \\right )} \\frac{d^{2}}{d t^{2}}  \\phi{\\left (t \\right )} - 1.0 \\sin{\\left (\\theta{\\left (t \\right )} \\right )} \\cos{\\left (\\theta{\\left (t \\right )} \\right )} \\frac{d}{d t} \\phi{\\left (t \\right )} \\frac{d}{d t} \\theta{\\left (t \\right )} - 2.0 \\sin{\\left (\\theta{\\left (t \\right )} \\right )} \\frac{d}{d t} \\psi{\\left (t \\right )} \\frac{d}{d t} \\theta{\\left (t \\right )} + 0.5 \\cos^{3}{\\left (\\theta{\\left (t \\right )} \\right )} \\frac{d^{2}}{d t^{2}}  \\psi{\\left (t \\right )} + 0.5 \\cos{\\left (\\theta{\\left (t \\right )} \\right )} \\frac{d^{2}}{d t^{2}}  \\psi{\\left (t \\right )} + 1.0 \\frac{d^{2}}{d t^{2}}  \\phi{\\left (t \\right )}\\right)\\end{matrix}\\right]$$"
      ],
      "text/plain": [
       "⎡     ⎛                                                                       \n",
       "⎢ 2   ⎜                             d                    4       d            \n",
       "⎢R ⋅m⋅⎜0.09375⋅R⋅(-cos(4⋅θ(t)) + 1)⋅──(θ(t)) - 0.25⋅R⋅cos (θ(t))⋅──(θ(t)) + 0.\n",
       "⎢     ⎜                             dt                           dt           \n",
       "⎢     ⎝                                                                       \n",
       "⎢                                                                             \n",
       "⎢                         ⎛                                                   \n",
       "⎢                     2   ⎜                        2 d                        \n",
       "⎢                    R ⋅m⋅⎜0.5⋅R⋅(-cos(2⋅θ(t)) + 1) ⋅──(ψ(t)) + 0.125⋅R⋅cos(θ(\n",
       "⎢                         ⎜                          dt                       \n",
       "⎢                         ⎝                                                   \n",
       "⎢                    ─────────────────────────────────────────────────────────\n",
       "⎢                                                                             \n",
       "⎢                                                                             \n",
       "⎢                                                                  ⎛          \n",
       "⎢                                                              2   ⎜          \n",
       "⎢                                                             R ⋅m⋅⎜- 0.75⋅R⋅c\n",
       "⎢                                                                  ⎜          \n",
       "⎣                                                                  ⎝          \n",
       "\n",
       "               2                                                              \n",
       "     4        d                 3                 d        d                  \n",
       "5⋅sin (θ(t))⋅───(ψ(t)) + 2.0⋅sin (θ(t))⋅cos(θ(t))⋅──(ψ(t))⋅──(θ(t)) - 1.5⋅sin(\n",
       "               2                                  dt       dt                 \n",
       "             dt                                                               \n",
       "                                                                              \n",
       "                                                                              \n",
       "    d                             d                              d            \n",
       "t))⋅──(φ(t)) + 1.25⋅R⋅cos(2⋅θ(t))⋅──(ψ(t)) + 0.375⋅R⋅cos(3⋅θ(t))⋅──(φ(t)) - 0.\n",
       "    dt                            dt                             dt           \n",
       "                                                                              \n",
       "──────────────────────────────────────────────────────────────────────────────\n",
       "                                                                              \n",
       "                                                                              \n",
       "                                                                              \n",
       "  3       d                          d                 3       d        d     \n",
       "os (θ(t))⋅──(θ(t)) + 0.5⋅R⋅cos(θ(t))⋅──(θ(t)) + 1.5⋅sin (θ(t))⋅──(ψ(t))⋅──(θ(t\n",
       "          dt                         dt                        dt       dt    \n",
       "                                                                              \n",
       "\n",
       "                                                                              \n",
       "         2       d        d                        d        d                 \n",
       "θ(t))⋅cos (θ(t))⋅──(φ(t))⋅──(θ(t)) - 0.5⋅sin(θ(t))⋅──(φ(t))⋅──(θ(t)) + 0.5⋅sin\n",
       "                 dt       dt                       dt       dt                \n",
       "                                                                              \n",
       "                                                                              \n",
       "                                                                   2          \n",
       "     d                         d        d                         d           \n",
       "75⋅R⋅──(ψ(t)) + 1.75⋅sin(θ(t))⋅──(φ(t))⋅──(ψ(t)) + 1.0⋅sin(θ(t))⋅───(ψ(t)) + 0\n",
       "     dt                        dt       dt                         2          \n",
       "                                                                 dt           \n",
       "──────────────────────────────────────────────────────────────────────────────\n",
       "                                         2                                    \n",
       "                                                                              \n",
       "                      2                                                       \n",
       "            2        d                                  d        d            \n",
       ")) - 0.5⋅sin (θ(t))⋅───(φ(t)) - 1.0⋅sin(θ(t))⋅cos(θ(t))⋅──(φ(t))⋅──(θ(t)) - 2.\n",
       "                      2                                 dt       dt           \n",
       "                    dt                                                        \n",
       "\n",
       "         2                                                              2     \n",
       "        d                          d        d                 3        d      \n",
       "(θ(t))⋅───(θ(t)) - 1.0⋅sin(2⋅θ(t))⋅──(ψ(t))⋅──(θ(t)) + 0.5⋅cos (θ(t))⋅───(φ(t)\n",
       "         2                         dt       dt                          2     \n",
       "       dt                                                             dt      \n",
       "                                                                              \n",
       "                         2                             2                      \n",
       "               ⎛d       ⎞                    ⎛d       ⎞                     d \n",
       ".5⋅sin(2⋅θ(t))⋅⎜──(φ(t))⎟  + 0.5⋅sin(2⋅θ(t))⋅⎜──(ψ(t))⎟  + 0.75⋅sin(3⋅θ(t))⋅──\n",
       "               ⎝dt      ⎠                    ⎝dt      ⎠                     dt\n",
       "                                                                              \n",
       "──────────────────────────────────────────────────────────────────────────────\n",
       "                                                                              \n",
       "                                                                              \n",
       "                                                 2                         2  \n",
       "            d        d                 3        d                         d   \n",
       "0⋅sin(θ(t))⋅──(ψ(t))⋅──(θ(t)) + 0.5⋅cos (θ(t))⋅───(ψ(t)) + 0.5⋅cos(θ(t))⋅───(ψ\n",
       "            dt       dt                          2                         2  \n",
       "                                               dt                        dt   \n",
       "\n",
       "                     2                                 2                   2  \n",
       "           2        d                        ⎛d       ⎞                   d   \n",
       ") + 1.0⋅cos (θ(t))⋅───(ψ(t)) + 0.5⋅cos(θ(t))⋅⎜──(θ(t))⎟  + 0.5⋅cos(θ(t))⋅───(φ\n",
       "                     2                       ⎝dt      ⎠                    2  \n",
       "                   dt                                                    dt   \n",
       "                                                                              \n",
       "                                             2         2      ⎞               \n",
       "       d                           ⎛d       ⎞         d       ⎟               \n",
       "(φ(t))⋅──(ψ(t)) + 0.25⋅sin(4⋅θ(t))⋅⎜──(ψ(t))⎟  + 1.0⋅───(θ(t))⎟               \n",
       "       dt                          ⎝dt      ⎠          2      ⎟               \n",
       "                                                     dt       ⎠               \n",
       "───────────────────────────────────────────────────────────────               \n",
       "                                                                              \n",
       "                                                                              \n",
       "             2      ⎞                                                         \n",
       "            d       ⎟                                                         \n",
       "(t)) + 1.0⋅───(φ(t))⎟                                                         \n",
       "             2      ⎟                                                         \n",
       "           dt       ⎠                                                         \n",
       "\n",
       "    ⎞⎤\n",
       "    ⎟⎥\n",
       "(t))⎟⎥\n",
       "    ⎟⎥\n",
       "    ⎠⎥\n",
       "     ⎥\n",
       "     ⎥\n",
       "     ⎥\n",
       "     ⎥\n",
       "     ⎥\n",
       "     ⎥\n",
       "     ⎥\n",
       "     ⎥\n",
       "     ⎥\n",
       "     ⎥\n",
       "     ⎥\n",
       "     ⎥\n",
       "     ⎥\n",
       "     ⎦"
      ]
     },
     "execution_count": 33,
     "metadata": {},
     "output_type": "execute_result"
    }
   ],
   "source": [
    "LM3 = LagrangesMethod(L3, [psi, theta, phi]) #, nonhol_coneqs=[zd - thetad*R*cos(theta)])\n",
    "EoM3 = LM3.form_lagranges_equations()\n",
    "\n",
    "# Simplfy the monstrosity\n",
    "EOM3 = Matrix([EoM3[0].simplify(), EoM3[1].simplify(), EoM3[2].simplify()])\n",
    "EOM3"
   ]
  },
  {
   "cell_type": "code",
   "execution_count": null,
   "metadata": {},
   "outputs": [],
   "source": []
  }
 ],
 "metadata": {
  "kernel_info": {
   "name": "python3"
  },
  "kernelspec": {
   "display_name": "Python 3",
   "language": "python",
   "name": "python3"
  },
  "language_info": {
   "codemirror_mode": {
    "name": "ipython",
    "version": 3
   },
   "file_extension": ".py",
   "mimetype": "text/x-python",
   "name": "python",
   "nbconvert_exporter": "python",
   "pygments_lexer": "ipython3",
   "version": "3.6.4"
  },
  "nteract": {
   "version": "0.8.4"
  }
 },
 "nbformat": 4,
 "nbformat_minor": 4
}

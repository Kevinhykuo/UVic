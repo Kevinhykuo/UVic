{
 "cells": [
  {
   "cell_type": "markdown",
   "metadata": {},
   "source": [
    "# Lab 6"
   ]
  },
  {
   "cell_type": "code",
   "execution_count": 1,
   "metadata": {},
   "outputs": [],
   "source": [
    "import numpy as np\n",
    "import pandas as pd \n",
    "import seaborn as sns \n",
    "import matplotlib as mp\n",
    "import matplotlib.pyplot as plt \n",
    "\n",
    "from scipy import stats\n",
    "from textwrap import wrap\n",
    "\n",
    "%matplotlib inline\n",
    "%config InlineBackend.figure_format = 'pdf'"
   ]
  },
  {
   "cell_type": "markdown",
   "metadata": {},
   "source": [
    "## Import data"
   ]
  },
  {
   "cell_type": "code",
   "execution_count": 2,
   "metadata": {},
   "outputs": [],
   "source": [
    "KS = pd.read_excel('/Users/kev/Downloads/BCMB 301A Lab Techniques/Lab 6 - Study of reversible inhibition using beta-galactosidase/Data/kevin.xlsx',\n",
    "                  header=1)\n",
    "\n",
    "DI = pd.read_excel('/Users/kev/Downloads/BCMB 301A Lab Techniques/Lab 6 - Study of reversible inhibition using beta-galactosidase/Data/Daniel.xlsx',\n",
    "                  header=13, index_col=1)\n",
    "\n",
    "TC = pd.read_excel('/Users/kev/Downloads/BCMB 301A Lab Techniques/Lab 6 - Study of reversible inhibition using beta-galactosidase/Data/Tyler H.xlsx',\n",
    "                  header=1)"
   ]
  },
  {
   "cell_type": "markdown",
   "metadata": {},
   "source": [
    "## Clean up and analyze data"
   ]
  },
  {
   "cell_type": "code",
   "execution_count": 3,
   "metadata": {},
   "outputs": [],
   "source": [
    "def abs_ave(D, x0=1, xf=9, dx=10, y0=0, yf=4, n=9, Nanx=[], Nany=[], \n",
    "            Inh=\"Name IDIOT!!!\", Unit=\"Units DUMBASS!!!\", I=[0, 10, 20, 40], C=1, V=200):\n",
    "    # 2D data size\n",
    "    x = xf-x0\n",
    "    y = yf-y0\n",
    "    \n",
    "    # Turn into 3d array\n",
    "    # Axis 1 = Substrate\n",
    "    # Axis 2 = Inhibitor\n",
    "    # Axis 3 = Time\n",
    "    A = np.zeros((x, y, n))\n",
    "    for i in range(0,n):\n",
    "        a = np.array(D.iloc[x0+dx*i:xf+dx*i, y0:yf])\n",
    "        A[:,:,i] = a \n",
    "    \n",
    "    # Find change in absorbance with time\n",
    "    Diff = np.diff(A, axis=2)\n",
    "    Ave = np.nanmean(Diff, axis=2)\n",
    "    Ave = pd.DataFrame(Ave)\n",
    "    \n",
    "    # Get rid of errors\n",
    "    if len(Nanx)<1:\n",
    "        for i in range(0, len(Nanx)):\n",
    "            Ave.iloc[Nanx[i], Nany[i]] = np.nan\n",
    "\n",
    "    else: \n",
    "        Ave += 0\n",
    "        \n",
    "    # Get averages of change with respect to time\n",
    "    Abs = np.zeros((int(x/2), y))\n",
    "    for i in range(0, int(x/2)):\n",
    "        Ave_abs = np.nanmean(Ave.iloc[2*i:2*i+1,:], axis=0)\n",
    "        Abs[i,:] = Ave_abs\n",
    "\n",
    "    # Label columns\n",
    "    Abs = pd.DataFrame(Abs)\n",
    "    I_c = [i*C/V for i in I]\n",
    "    Abs.columns = [r'{0}: {1:.3g} {2}'.format(Inh, i, Unit) for i in I_c]\n",
    "    ABS = Abs.T\n",
    "    ONPG = [10, 20, 40, 80]\n",
    "    ABS.columns = [i * 4/200 for i in ONPG]\n",
    "    return ABS.T"
   ]
  },
  {
   "cell_type": "code",
   "execution_count": 4,
   "metadata": {},
   "outputs": [],
   "source": [
    "KS_abs = abs_ave(D=KS, Nanx = [0, 7], Nany = [0, 0], Inh='[Sucrose]', Unit='mmoles/l', V=0.2)*6\n",
    "TC_abs = abs_ave(D=TC, Inh='[Calcium]', C=200, Unit='g/l')*6\n",
    "DI_abs = abs_ave(D=DI, x0=1, xf=9, y0=1, yf=5, dx=12, Inh='[IPTG]', C=2, Unit='g/l')*6"
   ]
  },
  {
   "cell_type": "code",
   "execution_count": 5,
   "metadata": {},
   "outputs": [],
   "source": [
    "# KS_abs"
   ]
  },
  {
   "cell_type": "code",
   "execution_count": 6,
   "metadata": {},
   "outputs": [],
   "source": [
    "# TC_abs"
   ]
  },
  {
   "cell_type": "code",
   "execution_count": 7,
   "metadata": {},
   "outputs": [],
   "source": [
    "# DI_abs"
   ]
  },
  {
   "cell_type": "markdown",
   "metadata": {},
   "source": [
    "## Function to generate graph"
   ]
  },
  {
   "cell_type": "code",
   "execution_count": 8,
   "metadata": {},
   "outputs": [],
   "source": [
    "# Normal plot \n",
    "def plot_norm(D, xname='[ONPG] (mg/ml)', yname=r'$v_0$ ($A_{405}$)'):\n",
    "    plt.figure(figsize=(10, 5))\n",
    "    Lines = sns.lineplot(data=D, marker='o',\n",
    "                         sort=False, # markers=['P', 'o', 'X', 'd'], \n",
    "                         palette=['xkcd:lightish green', 'xkcd:medium green', 'xkcd:jungle green', 'xkcd:deep green'],\n",
    "                         dashes=False, lw=1)\n",
    "    plt.xlabel(xname, fontsize=12)\n",
    "    plt.ylabel(yname, fontsize=12)\n",
    "    plt.xlim(right=2.3)\n",
    "    plt.legend(loc=1)\n",
    "    plt.grid()\n",
    "    plt.show()\n",
    "    \n",
    "# Lineweaver-Burk plot\n",
    "def plot_LB(D, xname=r'$[ONPG]^{-1}$ (ml/mg)', \n",
    "            yname=r'$v_0^{-1}$ $\\left(A_{405}^{-1}\\right)$'):\n",
    "    A = D.T\n",
    "    A_name = list(A.columns.values)\n",
    "    D_name = [1/i for i in A_name]\n",
    "    A.columns = D_name\n",
    "    D = 1/(A.T)\n",
    "\n",
    "    plt.figure(figsize=(10, 5))\n",
    "    Lines = sns.lineplot(data=D, marker='o',\n",
    "                         sort=False, # markers=['P', 'o', 'X', 'd'], \n",
    "                         palette=['xkcd:lightish green', 'xkcd:medium green', 'xkcd:jungle green', 'xkcd:deep green'],\n",
    "                         dashes=False, lw=1)\n",
    "    plt.xlabel(xname, fontsize=12)\n",
    "    plt.ylabel(yname, fontsize=12)\n",
    "    plt.xlim(right=np.max(D_name)+2)\n",
    "    plt.legend(loc=1)\n",
    "    plt.grid()\n",
    "    plt.show()"
   ]
  },
  {
   "cell_type": "code",
   "execution_count": 9,
   "metadata": {},
   "outputs": [],
   "source": [
    "# Plot it out \n",
    "# ===========\n",
    "\n",
    "# plot_norm(KS_abs)\n",
    "# plot_norm(TC_abs)\n",
    "# plot_norm(DI_abs)\n",
    "\n",
    "# plot_LB(KS_abs)\n",
    "# plot_LB(TC_abs)\n",
    "# plot_LB(DI_abs)"
   ]
  },
  {
   "cell_type": "code",
   "execution_count": null,
   "metadata": {},
   "outputs": [],
   "source": []
  }
 ],
 "metadata": {
  "kernelspec": {
   "display_name": "Python 3",
   "language": "python",
   "name": "python3"
  },
  "language_info": {
   "codemirror_mode": {
    "name": "ipython",
    "version": 3
   },
   "file_extension": ".py",
   "mimetype": "text/x-python",
   "name": "python",
   "nbconvert_exporter": "python",
   "pygments_lexer": "ipython3",
   "version": "3.7.3"
  }
 },
 "nbformat": 4,
 "nbformat_minor": 2
}

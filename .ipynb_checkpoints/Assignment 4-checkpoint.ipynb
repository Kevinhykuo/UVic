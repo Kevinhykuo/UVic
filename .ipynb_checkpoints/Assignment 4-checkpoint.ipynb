{
 "cells": [
  {
   "cell_type": "markdown",
   "metadata": {},
   "source": [
    "# Assignment 4"
   ]
  },
  {
   "cell_type": "code",
   "execution_count": 1,
   "metadata": {},
   "outputs": [],
   "source": [
    "import sympy as sym\n",
    "\n",
    "from sympy.physics.mechanics import *\n",
    "from IPython.display import Math, display\n",
    "\n",
    "init_vprinting()"
   ]
  },
  {
   "cell_type": "markdown",
   "metadata": {},
   "source": [
    "## Question 1"
   ]
  },
  {
   "cell_type": "markdown",
   "metadata": {},
   "source": [
    "It seems like this question just want me to take the general equation for a multi-step call option then make it specific to a two step American call option. The difference between the American call option and the European call option is the time which the buyer can excersize their right to buy the call option. \n",
    "\n",
    "Time able to exercise right: \n",
    "> American: Anytime up until the expiration time\n",
    "\n",
    "> European: Only at the expiration time\n",
    "\n",
    "Changes in the stock price remains unchanged, so we can use the general formula to describe the price of call option for both cases. The only thing that changes is when we evaluate the price of the call option (ie. When the buyer decides to buy it). "
   ]
  },
  {
   "cell_type": "markdown",
   "metadata": {},
   "source": [
    "Let: \n",
    "\n",
    "> $C$: Price of the call option\n",
    "\n",
    "> $S$: Stock price\n",
    "\n",
    "> $K$: Strike price \n",
    "\n",
    "> $T$: Expiration time\n",
    "\n",
    "> $t$: Time which the buyer decides to excersise their right to buy\n",
    "\n",
    "> $u$: Factor which the stock price rises\n",
    "\n",
    "> $d$: Factor which the stock price drops \n",
    "\n",
    "> $r$: Risk free intrest rate\n",
    "\n",
    "> $p$: Probability which the market is up\n",
    "\n",
    "From the notes, we know: \n",
    "\n",
    "$$p = \\frac{1+r-d}{u-d}$$\n",
    "\n",
    "$$C = \\frac{1}{(1+r)^T} \\sum_{n=0}^T [u^n d^{t-n} S - K]_+ \n",
    "\\begin{pmatrix}\n",
    "    t \\\\\n",
    "    n\n",
    "\\end{pmatrix}\n",
    "p^n (1-p)^{t-n}\n",
    "$$"
   ]
  },
  {
   "cell_type": "markdown",
   "metadata": {},
   "source": [
    "This is the general equation for the call option at time $T$.\n",
    "\n",
    "Just a bit into explaining how this equation works: \n",
    "\n",
    "> The term in the square brackets is the differnce between the stock price after a certian time ($t$) and the strike price. This term represents the profit or the loss of the buyer. \n",
    "\n",
    "> The stock price can \"choose\" to go up or down a certain number before the buyer decides to exercise their right, hence the binomial term. \n",
    "\n",
    "> The $(1+r)^{-T}$ term is a result of the binomial distribution used to derive the expected stock price. "
   ]
  },
  {
   "cell_type": "markdown",
   "metadata": {},
   "source": [
    "The American call option can be excersised up until the expiration date, so to make the general equation specific for the American call option (even more specifically, for a two step model), we just have to sum up to $t \\leq T =2$. \n",
    "\n",
    "$$C_{A, 2}(t) = \\frac{1}{(1+r)^t} \\sum_{n=0}^{t\\leq2} [u^n d^{t-n} S - K]_+ \n",
    "\\begin{pmatrix}\n",
    "    t \\\\\n",
    "    n\n",
    "\\end{pmatrix}\n",
    "p^n (1-p)^{t-n}\n",
    "$$\n",
    "\n",
    "$$\\text{Where} \\ t \\ \\text{can be either 0, 1, or 2 depending on when the buyer decides to exercise their call option.}$$"
   ]
  },
  {
   "cell_type": "markdown",
   "metadata": {},
   "source": [
    "\\newpage\n",
    "\n",
    "## Question 2"
   ]
  },
  {
   "cell_type": "code",
   "execution_count": 2,
   "metadata": {},
   "outputs": [],
   "source": [
    "C = sym.Rational(1, 3)\n",
    "P = sym.Matrix([[1, 1, 1], [3, 0, 0], [3, 0, 0]])\n",
    "x1 = sym.Matrix([1, 0, 0]).T\n",
    "x2 = sym.Matrix([0, 1, 0]).T\n",
    "x3 = sym.Matrix([0, 0, 1]).T\n",
    "\n",
    "def round_expr(expr, num_digits):\n",
    "    return expr.xreplace({n : round(n, num_digits) for n in expr.atoms(sym.Number)})\n",
    "\n",
    "def Prob(n, A=C, B=P):\n",
    "    a = C ** n\n",
    "    b = B ** n \n",
    "    c = a*b\n",
    "    d1 = Math(r'P^{0} ='.format({n}) + sym.latex(a) + sym.latex(b))\n",
    "    d2 = Math(r'P^{0} ='.format({n}) + sym.latex(c))\n",
    "    d3 = Math(r'P^{0} ='.format({n}) + sym.latex(round_expr(c, 4)))\n",
    "    return d1, d2, d3\n",
    "\n",
    "def Loc_prob(n, X, A=C, B=P):\n",
    "    a = C ** n\n",
    "    b = X * B ** n \n",
    "    c = a*b\n",
    "    d1 = Math(r'x_{0} ='.format({n}) + sym.latex(a) + sym.latex(b))\n",
    "    d2 = Math(r'x_{0} ='.format({n}) + sym.latex(c))\n",
    "    d3 = Math(r'x_{0} ='.format({n}) + sym.latex(round_expr(c, 4)))\n",
    "    return d1, d2, d3"
   ]
  },
  {
   "cell_type": "markdown",
   "metadata": {},
   "source": [
    "There are there locations: A, B, and C. \n",
    "\n",
    "We know that at the end of each day, the wolf will move depending on it's current location:\n",
    "\n",
    "> If it is at A, it will move to B and C or stay in A, each with a probability of $\\frac{1}{3}$.\n",
    "\n",
    "> If it is at B or C, it will always move back to A.\n",
    "\n",
    "We can model this using a Markov chain, which we will express using a matrix $P$: "
   ]
  },
  {
   "cell_type": "code",
   "execution_count": 3,
   "metadata": {},
   "outputs": [
    {
     "data": {
      "text/latex": [
       "$\\displaystyle P^{1} =\\frac{1}{3}\\left[\\begin{matrix}1 & 1 & 1\\\\3 & 0 & 0\\\\3 & 0 & 0\\end{matrix}\\right]$"
      ],
      "text/plain": [
       "<IPython.core.display.Math object>"
      ]
     },
     "metadata": {},
     "output_type": "display_data"
    }
   ],
   "source": [
    "display(Prob(1, A=C, B=P)[0])"
   ]
  },
  {
   "cell_type": "markdown",
   "metadata": {},
   "source": [
    "To find the possibility of the wolf going to each location after $n$ days, we just take the produc between a vector of the location of the wolf on the first day $\\vec{x}$ the power of $P$. \n",
    "\n",
    "> $P$ after $n$ days: $\\vec{x_n} = \\vec{x_0} P^n$\n",
    "\n",
    "$$P^n = \\frac{1}{3^n} \\begin{bmatrix}\n",
    "    1 & 1 & 1 \\\\\n",
    "    3 & 0 & 0 \\\\\n",
    "    3 & 0 & 0\n",
    "\\end{bmatrix}^{\\ n}$$"
   ]
  },
  {
   "cell_type": "markdown",
   "metadata": {},
   "source": [
    "### a) Possibility on day 2"
   ]
  },
  {
   "cell_type": "markdown",
   "metadata": {},
   "source": [
    "If the wolf is at location $A$ on day 0, then the location vector:\n",
    "\n",
    "$$\\vec{x_0} = [1, \\ 0, \\ 0]$$\n",
    "\n",
    "The probability of the wolf ending up at each location: \n",
    "\n",
    "$$\\vec{x_2} = \\vec{x_0} P^2$$"
   ]
  },
  {
   "cell_type": "code",
   "execution_count": 4,
   "metadata": {},
   "outputs": [
    {
     "data": {
      "text/latex": [
       "$\\displaystyle x_{2} =\\frac{1}{9}\\left[\\begin{matrix}7 & 1 & 1\\end{matrix}\\right]$"
      ],
      "text/plain": [
       "<IPython.core.display.Math object>"
      ]
     },
     "metadata": {},
     "output_type": "display_data"
    }
   ],
   "source": [
    "display(Loc_prob(2, x1)[0])"
   ]
  },
  {
   "cell_type": "markdown",
   "metadata": {},
   "source": [
    "As we can see, the wolf has a $7/9$ probability of ending back on A on day 2."
   ]
  },
  {
   "cell_type": "markdown",
   "metadata": {},
   "source": [
    "### b) The probability of the wolf ending back on $A$ after a very long time. \n",
    "\n",
    "To find the probabilty of the wolf ending back on $A$ after a very long time, we evaluate the limit of $\\vec{x_n}$ as $n \\rightarrow \\infty$.\n",
    "\n",
    "Taking the limit using a computer is quite hard, so let's evaluate $\\vec{x_n}$ at a very large $n$ say...$1000$.\n",
    "\n",
    "Let's also try $n=10000$ and $n=100000$ just to make sure there is no drastic changes. "
   ]
  },
  {
   "cell_type": "code",
   "execution_count": 5,
   "metadata": {},
   "outputs": [
    {
     "data": {
      "text/latex": [
       "$\\displaystyle P^{1000} =\\left[\\begin{matrix}0.6 & 0.2 & 0.2\\\\0.6 & 0.2 & 0.2\\\\0.6 & 0.2 & 0.2\\end{matrix}\\right]$"
      ],
      "text/plain": [
       "<IPython.core.display.Math object>"
      ]
     },
     "metadata": {},
     "output_type": "display_data"
    },
    {
     "data": {
      "text/latex": [
       "$\\displaystyle P^{10000} =\\left[\\begin{matrix}0.6 & 0.2 & 0.2\\\\0.6 & 0.2 & 0.2\\\\0.6 & 0.2 & 0.2\\end{matrix}\\right]$"
      ],
      "text/plain": [
       "<IPython.core.display.Math object>"
      ]
     },
     "metadata": {},
     "output_type": "display_data"
    },
    {
     "data": {
      "text/latex": [
       "$\\displaystyle P^{100000} =\\left[\\begin{matrix}0.6 & 0.2 & 0.2\\\\0.6 & 0.2 & 0.2\\\\0.6 & 0.2 & 0.2\\end{matrix}\\right]$"
      ],
      "text/plain": [
       "<IPython.core.display.Math object>"
      ]
     },
     "metadata": {},
     "output_type": "display_data"
    }
   ],
   "source": [
    "display(Prob(1000, A=C, B=P)[2])\n",
    "display(Prob(10000, A=C, B=P)[2])\n",
    "display(Prob(100000, A=C, B=P)[2])"
   ]
  },
  {
   "cell_type": "markdown",
   "metadata": {},
   "source": [
    "From this, we can conclude:\n",
    "\n",
    "$$\\lim_{x \\rightarrow \\infty} P^n = \\frac{1}{5}\n",
    "\\begin{bmatrix}\n",
    "    3 & 1 & 1 \\\\\n",
    "    3 & 1 & 1 \\\\\n",
    "    3 & 1 & 1\n",
    "\\end{bmatrix}$$"
   ]
  },
  {
   "cell_type": "markdown",
   "metadata": {},
   "source": [
    "As the row vectors are all the same, we can conclude that the probability of the wolf ending up at each location is independent of the starting position. "
   ]
  }
 ],
 "metadata": {
  "kernelspec": {
   "display_name": "Python 3",
   "language": "python",
   "name": "python3"
  },
  "language_info": {
   "codemirror_mode": {
    "name": "ipython",
    "version": 3
   },
   "file_extension": ".py",
   "mimetype": "text/x-python",
   "name": "python",
   "nbconvert_exporter": "python",
   "pygments_lexer": "ipython3",
   "version": "3.7.2"
  }
 },
 "nbformat": 4,
 "nbformat_minor": 2
}

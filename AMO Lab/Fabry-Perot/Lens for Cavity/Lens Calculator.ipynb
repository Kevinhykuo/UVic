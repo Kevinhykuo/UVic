{
 "cells": [
  {
   "cell_type": "markdown",
   "id": "816cbf6c-74bf-4325-828f-4a5b0460b019",
   "metadata": {},
   "source": [
    "# Lens Calculator for Fabry-Perot Cavity\n",
    "\n",
    "Calulate the change in a beam of light starting at the beam waist in a Fabry-Perot cavity then going through a series of lenses"
   ]
  },
  {
   "cell_type": "code",
   "execution_count": 1,
   "id": "36e58159-3924-4ed0-939b-4917aa6b10cd",
   "metadata": {},
   "outputs": [],
   "source": [
    "import numpy as np\n",
    "import sympy as sym\n",
    "import matplotlib as mp\n",
    "import matplotlib.pyplot as plt\n",
    "from sympy.physics.mechanics import init_vprinting\n",
    "\n",
    "init_vprinting()"
   ]
  },
  {
   "cell_type": "markdown",
   "id": "7c428ef7-21c6-4b5b-8771-c2617e7aaef3",
   "metadata": {},
   "source": [
    "## Important Functions"
   ]
  },
  {
   "cell_type": "code",
   "execution_count": 2,
   "id": "d041c6b6-f599-41f0-b5b4-27fa4392da1a",
   "metadata": {},
   "outputs": [],
   "source": [
    "# Functions for lenses and distance\n",
    "# =================================\n",
    "def as_sym(x, use_sym=False):\n",
    "    if use_sym == False:\n",
    "        M = np.array(x)\n",
    "    elif use_sym == True:\n",
    "        M = sym.Matrix(x)\n",
    "    else:\n",
    "        M = print('Error: Please specify True or False for Sympy')\n",
    "    return M\n",
    "\n",
    "# Curved interface matrix\n",
    "def interface(ni, nf, R, use_sym=False):\n",
    "    A = [[1, 0], [(ni - nf)/(R*nf), ni/nf]]\n",
    "    M = as_sym(A, use_sym)\n",
    "    return M\n",
    "\n",
    "# Distance matrix\n",
    "def dist(d, use_sym=False):\n",
    "    A = [[1, d], [0, 1]]\n",
    "    M = as_sym(A, use_sym)\n",
    "    return M\n",
    "\n",
    "# Lens matrix\n",
    "# Use sym.oo for flat interface\n",
    "def lens(n_medium=1, n_lens=1, R_in=sym.oo, R_out=sym.oo, thickness=5, use_sym=False):\n",
    "    interface_in = interface(n_medium, n_lens, R_in, use_sym)\n",
    "    interface_out = interface(n_lens, n_medium, R_out, use_sym)\n",
    "    lens_thickness = as_sym([[1, thickness], [0, 1]], use_sym)\n",
    "    return interface_out@lens_thickness@interface_in\n",
    "\n",
    "# Functions for the beam:\n",
    "# =======================\n",
    "\n",
    "# Waist (radius) of beam and \n",
    "# angle with respect to x-axis\n",
    "def beam(waist, angle, use_sym=False):\n",
    "    return as_sym([[waist], [angle]], use_sym)\n",
    "\n",
    "# Rayleigh length\n",
    "def z_Rayleigh(beam_front_curvature, dist, use_sym=False):\n",
    "    if use_sym == False:\n",
    "        z_R = np.sqrt(dist * (beam_front_curvature-dist))\n",
    "    elif use_sym == True:\n",
    "        z_R = sym.sqrt(dist * (beam_front_curvature-dist))\n",
    "    else: \n",
    "        z_R = print('Error: Please specify True or False for Sympy')\n",
    "    return z_R\n",
    "\n",
    "# Beam waist size\n",
    "def waist0(wavelength, z_R, use_sym=False):\n",
    "    if use_sym == False:\n",
    "        w_0 = np.sqrt((wavelength/sym.pi) * z_R)\n",
    "    elif use_sym == True:\n",
    "        w_0 = sym.sqrt((wavelength/np.pi) * z_R)\n",
    "    else: \n",
    "        w_0 = print('Error: Please specify True or False for Sympy')\n",
    "    return w_0\n",
    "\n",
    "# Beam waist after certain distance z\n",
    "def waistz(wavelength, z_R, z, use_sym=False):\n",
    "    w_0 = waist0(wavelength, z_R, use_sym)\n",
    "    if use_sym == False:\n",
    "        w_z =  w_0 * np.sqrt(1 + (z/z_R)**2)\n",
    "    elif use_sym == True:\n",
    "        w_z =  w_0 * sym.sqrt(1 + (z/z_R)**2)\n",
    "    else: \n",
    "        w_z = print('Error: Please specify True or False for Sympy') \n",
    "    return w_z\n",
    "\n",
    "# Complex beam parameter\n",
    "def q_CBP(dist, z_R):\n",
    "    return dist + z_R*1j\n",
    "\n",
    "# The angle the beam makes with the \n",
    "# mirror of the Fabry-Perot cavity\n",
    "def Theta0(wavelength, mirror_curvature, mirror_focal, lens_pos, use_sym=False):\n",
    "    # We want the radius of curvature of the beam front to match\n",
    "    # the radius of curvature of the mirror when it hits the \n",
    "    # mirror after originating from the focal length of the mirror\n",
    "    z_r = z_Rayleigh(mirror_curvature, mirror_focal, use_sym)\n",
    "    w_z = waistz(wavelength, z_r, mirror_focal, use_sym)\n",
    "    theta = w_z/lens_pos\n",
    "    return theta"
   ]
  },
  {
   "cell_type": "markdown",
   "id": "5d470cb9-b07d-4c56-b68f-ad52e6ffda80",
   "metadata": {},
   "source": [
    "## Symbols"
   ]
  },
  {
   "cell_type": "code",
   "execution_count": 3,
   "id": "ca0608df-23b7-4f0f-9f3b-1d49857fe8d7",
   "metadata": {},
   "outputs": [],
   "source": [
    "# Beam waists\n",
    "w0, wf = sym.symbols('w_0 w_f', real=True)\n",
    "\n",
    "# Beam angle (small angles)\n",
    "theta0, thetaf = sym.symbols('theta_0 theta_f', real=True)\n",
    "\n",
    "# Complex beam parameters\n",
    "q0, qf = sym.symbols('q_0 q_f')\n",
    "\n",
    "# Distances\n",
    "# For lens thickness\n",
    "d0, d1, d2, d3, d4 = sym.symbols('d:5', real=True)\n",
    "# For distance between lens\n",
    "x0, x1, x2, x3, x4 = sym.symbols('x:5')\n",
    "\n",
    "# Indicies of refraction\n",
    "nl, nm = sym.symbols('n_l n_m', real=True)\n",
    "\n",
    "# Radius of curvature for lens\n",
    "r00, r01, r10, r11, r20, r21 = sym.symbols('r_{00} r_{01} r_{10} r_{11} r_{20} r_{21}')"
   ]
  },
  {
   "cell_type": "markdown",
   "id": "43dbbec9-26fb-44c1-a24f-4a3ae0967e88",
   "metadata": {},
   "source": [
    "## Matricies for beam, lenses, and distances"
   ]
  },
  {
   "cell_type": "code",
   "execution_count": 4,
   "id": "3c71386c-ad49-4511-9d9d-441fe194df26",
   "metadata": {},
   "outputs": [],
   "source": [
    "beam0 = beam(w0, theta0, use_sym=True)\n",
    "beamf = beam(wf, thetaf, use_sym=True)\n",
    "\n",
    "dist0 = dist(x0, use_sym=True)\n",
    "lens0 = lens(nm, nl, r00, sym.oo, d0, use_sym=True)\n",
    "dist1 = dist(x1, use_sym=True)\n",
    "lens1 = lens(nm, nl, r10, sym.oo, d1, use_sym=True)\n",
    "dist2 = dist(x2, use_sym=True)\n",
    "lens2 = lens(nm, nl, r20, sym.oo, d2, use_sym=True)"
   ]
  },
  {
   "cell_type": "markdown",
   "id": "6f9b0edd-30a1-4e60-83e8-16c63f7187b6",
   "metadata": {},
   "source": [
    "## Commence calculation using matricies"
   ]
  },
  {
   "cell_type": "code",
   "execution_count": 5,
   "id": "1189c051-8690-418e-9c86-66777a59fa06",
   "metadata": {},
   "outputs": [],
   "source": [
    "Final = (lens2@dist2@lens1@dist1@lens0@dist0@beam0).applyfunc(sym.simplify)\n",
    "\n",
    "# display(Final)"
   ]
  },
  {
   "cell_type": "code",
   "execution_count": 6,
   "id": "b71c293c-a961-49b4-b459-332f1d2d3fa5",
   "metadata": {},
   "outputs": [],
   "source": [
    "# Sub in the stuff we know\n",
    "# Lengths in units of mm\n",
    "Final_sub1 = Final.subs({nm:1, nl:1.515, r00:-50, \n",
    "                         x0:25, d0:7.2, d1:5, d2:5, \n",
    "                         w0:0,\n",
    "                         theta0:Theta0(780e-6, 2*25, 25, 25, use_sym=True)\n",
    "                        }).applyfunc(sym.simplify)\n",
    "# display(Final_sub1)"
   ]
  },
  {
   "cell_type": "code",
   "execution_count": 7,
   "id": "d0273e02-6d31-4b6b-9f3e-984ae461b2bb",
   "metadata": {},
   "outputs": [],
   "source": [
    "# Sub in the radius of curvatures\n",
    "# for the lens we want to use \n",
    "Final_sub2 = Final_sub1.subs({r10:100, r20:200}).applyfunc(sym.simplify)\n",
    "# display(Final_sub2)"
   ]
  },
  {
   "cell_type": "code",
   "execution_count": 8,
   "id": "0821e09d-aa58-45cb-9abb-febdf484e52d",
   "metadata": {},
   "outputs": [
    {
     "data": {
      "image/png": "[encoded data removed]",
      "text/latex": [
       "$\\displaystyle \\left[ \\left( 69.619208172737, \\  201.892611153254\\right), \\  \\left( 169.541566328264, \\  7.55937553687991 \\cdot 10^{16}\\right)\\right]$"
      ],
      "text/plain": [
       "[(69.619208172737, 201.892611153254), (169.541566328264, 7.55937553687991e+16)\n",
       "]"
      ]
     },
     "execution_count": 8,
     "metadata": {},
     "output_type": "execute_result"
    }
   ],
   "source": [
    "sym.solvers.solve(Final_sub2 - beamf.subs({wf:1.12, thetaf:0}), (x1, x2))"
   ]
  },
  {
   "cell_type": "markdown",
   "id": "325f2e8b-271b-40a2-8713-c627a6ed5cfe",
   "metadata": {},
   "source": [
    "## Calculation using complex beam parameter"
   ]
  },
  {
   "cell_type": "code",
   "execution_count": 9,
   "id": "abc03718-9694-4af0-852b-0a8a6f4ce255",
   "metadata": {},
   "outputs": [],
   "source": [
    "beamq0 = beam(q0, 1, use_sym=True)\n",
    "beamqf = beam(qf, 1, use_sym=True)"
   ]
  },
  {
   "cell_type": "code",
   "execution_count": 10,
   "id": "60f0e7ec-37c4-4391-81d0-738c75b7f789",
   "metadata": {},
   "outputs": [],
   "source": [
    "Finalq = (lens2@dist2@lens1@dist1@lens0@dist0@beamq0).applyfunc(sym.simplify)\n",
    "\n",
    "Finalq_sub1 = Finalq.subs({nm:1, nl:1.515, r00:-50, \n",
    "                         x0:25, d0:7.2, d1:5, d2:5\n",
    "                         }).applyfunc(sym.simplify)\n",
    "\n",
    "Finalq_sub2 = Finalq_sub1.subs({r10:100, r20:200}).applyfunc(sym.simplify)"
   ]
  },
  {
   "cell_type": "code",
   "execution_count": 11,
   "id": "fc9b9142-0b05-4954-b800-7d6b668ae7a2",
   "metadata": {},
   "outputs": [],
   "source": [
    "k = sym.pi / 780e-6\n",
    "Q0 = 1j * k * 0.08**2\n",
    "Qf = 1j * k * 0.5**2\n",
    "\n",
    "Finalq_sub3 = Finalq_sub2.subs({q0:Q0})\n",
    "Beamqf_sub = beamqf.subs({qf:Qf})\n",
    "\n",
    "solution = sym.solvers.solve(Finalq_sub3[0]/Finalq_sub3[1] - Beamqf_sub[0], (x1, x2))"
   ]
  },
  {
   "cell_type": "code",
   "execution_count": 12,
   "id": "b1bd51b9-5699-41b1-9ef2-6c75b7b5dfd0",
   "metadata": {},
   "outputs": [
    {
     "data": {
      "image/png": "[encoded data removed]",
      "text/latex": [
       "$\\displaystyle 8.2051282051282 i \\pi$"
      ],
      "text/plain": [
       "8.2051282051282⋅ⅈ⋅π"
      ]
     },
     "execution_count": 12,
     "metadata": {},
     "output_type": "execute_result"
    }
   ],
   "source": [
    "Q0.simplify()"
   ]
  },
  {
   "cell_type": "code",
   "execution_count": 13,
   "id": "f375d429-bd51-4b22-8526-0ce3826e5aaa",
   "metadata": {},
   "outputs": [
    {
     "data": {
      "image/png": "[encoded data removed]",
      "text/latex": [
       "$\\displaystyle -4.37426194532945 \\cdot 10^{-15} + 6.87190696011962 \\cdot 10^{-14} i$"
      ],
      "text/plain": [
       "-4.37426194532945e-15 + 6.87190696011962e-14⋅ⅈ"
      ]
     },
     "metadata": {},
     "output_type": "display_data"
    },
    {
     "data": {
      "image/png": "[encoded data removed]",
      "text/latex": [
       "$\\displaystyle \\left[ 304.441566934284 + 109.567405454718 i\\right]$"
      ],
      "text/plain": [
       "[304.441566934284 + 109.567405454718⋅ⅈ]"
      ]
     },
     "metadata": {},
     "output_type": "display_data"
    }
   ],
   "source": [
    "X2 = sym.solvers.solve(solution[0][0], x2)\n",
    "X1 = solution[0][0].subs({x2: X2[0]}).simplify()\n",
    "display(X1, X2)"
   ]
  },
  {
   "cell_type": "markdown",
   "id": "b70b3973-47a1-4d71-8518-2e88e04770ba",
   "metadata": {},
   "source": [
    "## Forward propagation"
   ]
  },
  {
   "cell_type": "code",
   "execution_count": 125,
   "id": "1ebd6c81-7a0c-4741-8aa7-4f0405cfaab3",
   "metadata": {},
   "outputs": [],
   "source": [
    "# lens(1, 1.515, np.inf, -50, 7.5) @ dist(30) @ lens(1, 1.515, np.inf, 100, 5) @ dist(70) @ lens(1, 1.515, np.inf, 200, 5)\n",
    "@np.vectorize\n",
    "def beam_prop_cavity(x, wavelength=780e-7, w0=0.5):\n",
    "    q1 = 1/(1/10e9 - 1j * wavelength / (np.pi * w0))\n",
    "    A = dist(x) @ lens(1, 1.515, np.inf, -50, 7.5) @ dist(50) @ lens(1, 1.515, np.inf, 200, 5) @ dist(150) @ lens(1, 1.515, np.inf, 100, 5) @ beam(q1, 1)\n",
    "    qf = A[0]/A[1]\n",
    "    return np.sqrt(-wavelength / (np.pi * np.imag(1/qf)))"
   ]
  },
  {
   "cell_type": "code",
   "execution_count": 126,
   "id": "ef127abe-9e68-47c2-81fc-9481d877ac8b",
   "metadata": {},
   "outputs": [
    {
     "data": {
      "text/plain": [
       "[<matplotlib.lines.Line2D at 0x7fc4c2eb9550>]"
      ]
     },
     "execution_count": 126,
     "metadata": {},
     "output_type": "execute_result"
    },
    {
     "data": {
      "image/png": "[encoded data removed]",
      "text/plain": [
       "<Figure size 432x288 with 1 Axes>"
      ]
     },
     "metadata": {
      "needs_background": "light"
     },
     "output_type": "display_data"
    }
   ],
   "source": [
    "x = np.linspace(0, 500, 400)\n",
    "plt.plot(x, beam_prop_cavity(x))"
   ]
  },
  {
   "cell_type": "code",
   "execution_count": 95,
   "id": "21082081-0865-48d2-a612-415236afda9b",
   "metadata": {},
   "outputs": [
    {
     "data": {
      "text/plain": [
       "array([0.00672625, 0.00564037, 0.00468939, 0.00397144, 0.0036276 ,\n",
       "       0.0037619 , 0.00433009, 0.0051916 , 0.00622583, 0.00736034,\n",
       "       0.00855532, 0.00978865, 0.01104749, 0.01232403, 0.01361329,\n",
       "       0.01491198, 0.01621782, 0.01752922, 0.01884501, 0.02016435,\n",
       "       0.02148657, 0.02281117, 0.02413777, 0.02546605, 0.02679575,\n",
       "       0.02812669, 0.02945868, 0.0307916 , 0.03212533, 0.03345976,\n",
       "       0.03479483, 0.03613046, 0.03746659, 0.03880317, 0.04014015,\n",
       "       0.04147749, 0.04281517, 0.04415314, 0.04549139, 0.04682989,\n",
       "       0.04816862, 0.04950756, 0.0508467 , 0.05218601, 0.05352549,\n",
       "       0.05486513, 0.05620491, 0.05754482, 0.05888485, 0.060225  ,\n",
       "       0.06156525, 0.06290561, 0.06424606, 0.06558661, 0.06692723,\n",
       "       0.06826793, 0.06960871, 0.07094956, 0.07229047, 0.07363145,\n",
       "       0.07497248, 0.07631357, 0.07765472, 0.07899591, 0.08033715,\n",
       "       0.08167844, 0.08301977, 0.08436114, 0.08570255, 0.087044  ,\n",
       "       0.08838549, 0.089727  , 0.09106855, 0.09241014, 0.09375175,\n",
       "       0.09509339, 0.09643506, 0.09777675, 0.09911847, 0.10046021,\n",
       "       0.10180198, 0.10314377, 0.10448558, 0.10582741, 0.10716926,\n",
       "       0.10851113, 0.10985302, 0.11119493, 0.11253685, 0.11387879,\n",
       "       0.11522075, 0.11656272, 0.11790471, 0.11924671, 0.12058872,\n",
       "       0.12193075, 0.12327279, 0.12461485, 0.12595691, 0.12729899,\n",
       "       0.12864108, 0.12998318, 0.13132529, 0.13266741, 0.13400954,\n",
       "       0.13535168, 0.13669383, 0.13803599, 0.13937816, 0.14072034,\n",
       "       0.14206253, 0.14340472, 0.14474692, 0.14608913, 0.14743135,\n",
       "       0.14877357, 0.15011581, 0.15145805, 0.15280029, 0.15414254,\n",
       "       0.1554848 , 0.15682707, 0.15816934, 0.15951162, 0.1608539 ,\n",
       "       0.16219619, 0.16353848, 0.16488078, 0.16622309, 0.1675654 ,\n",
       "       0.16890771, 0.17025003, 0.17159236, 0.17293468, 0.17427702,\n",
       "       0.17561936, 0.1769617 , 0.17830405, 0.1796464 , 0.18098875,\n",
       "       0.18233111, 0.18367347, 0.18501584, 0.18635821, 0.18770059,\n",
       "       0.18904296, 0.19038534, 0.19172773, 0.19307012, 0.19441251,\n",
       "       0.1957549 , 0.1970973 , 0.1984397 , 0.1997821 , 0.20112451,\n",
       "       0.20246692, 0.20380933, 0.20515175, 0.20649417, 0.20783659,\n",
       "       0.20917901, 0.21052143, 0.21186386, 0.21320629, 0.21454873,\n",
       "       0.21589116, 0.2172336 , 0.21857604, 0.21991848, 0.22126093,\n",
       "       0.22260337, 0.22394582, 0.22528827, 0.22663073, 0.22797318,\n",
       "       0.22931564, 0.2306581 , 0.23200056, 0.23334302, 0.23468549,\n",
       "       0.23602795, 0.23737042, 0.23871289, 0.24005536, 0.24139784,\n",
       "       0.24274031, 0.24408279, 0.24542527, 0.24676775, 0.24811023,\n",
       "       0.24945271, 0.2507952 , 0.25213768, 0.25348017, 0.25482266,\n",
       "       0.25616515, 0.25750764, 0.25885014, 0.26019263, 0.26153513,\n",
       "       0.26287762, 0.26422012, 0.26556262, 0.26690512, 0.26824763,\n",
       "       0.26959013, 0.27093263, 0.27227514, 0.27361765, 0.27496016,\n",
       "       0.27630266, 0.27764518, 0.27898769, 0.2803302 , 0.28167271,\n",
       "       0.28301523, 0.28435774, 0.28570026, 0.28704278, 0.2883853 ,\n",
       "       0.28972782, 0.29107034, 0.29241286, 0.29375538, 0.29509791,\n",
       "       0.29644043, 0.29778296, 0.29912548, 0.30046801, 0.30181054,\n",
       "       0.30315307, 0.3044956 , 0.30583813, 0.30718066, 0.30852319,\n",
       "       0.30986573, 0.31120826, 0.31255079, 0.31389333, 0.31523587,\n",
       "       0.3165784 , 0.31792094, 0.31926348, 0.32060602, 0.32194856,\n",
       "       0.3232911 , 0.32463364, 0.32597618, 0.32731873, 0.32866127,\n",
       "       0.33000381, 0.33134636, 0.3326889 , 0.33403145, 0.335374  ,\n",
       "       0.33671654, 0.33805909, 0.33940164, 0.34074419, 0.34208674,\n",
       "       0.34342929, 0.34477184, 0.34611439, 0.34745694, 0.34879949,\n",
       "       0.35014205, 0.3514846 , 0.35282716, 0.35416971, 0.35551227,\n",
       "       0.35685482, 0.35819738, 0.35953993, 0.36088249, 0.36222505,\n",
       "       0.36356761, 0.36491017, 0.36625273, 0.36759529, 0.36893785,\n",
       "       0.37028041, 0.37162297, 0.37296553, 0.37430809, 0.37565065,\n",
       "       0.37699322, 0.37833578, 0.37967834, 0.38102091, 0.38236347,\n",
       "       0.38370604, 0.3850486 , 0.38639117, 0.38773374, 0.3890763 ,\n",
       "       0.39041887, 0.39176144, 0.39310401, 0.39444657, 0.39578914,\n",
       "       0.39713171, 0.39847428, 0.39981685, 0.40115942, 0.40250199,\n",
       "       0.40384456, 0.40518713, 0.40652971, 0.40787228, 0.40921485,\n",
       "       0.41055742, 0.4119    , 0.41324257, 0.41458514, 0.41592772,\n",
       "       0.41727029, 0.41861287, 0.41995544, 0.42129802, 0.42264059,\n",
       "       0.42398317, 0.42532574, 0.42666832, 0.4280109 , 0.42935347,\n",
       "       0.43069605, 0.43203863, 0.43338121, 0.43472379, 0.43606637,\n",
       "       0.43740894, 0.43875152, 0.4400941 , 0.44143668, 0.44277926,\n",
       "       0.44412184, 0.44546442, 0.446807  , 0.44814959, 0.44949217,\n",
       "       0.45083475, 0.45217733, 0.45351991, 0.45486249, 0.45620508,\n",
       "       0.45754766, 0.45889024, 0.46023283, 0.46157541, 0.46291799,\n",
       "       0.46426058, 0.46560316, 0.46694575, 0.46828833, 0.46963092,\n",
       "       0.4709735 , 0.47231609, 0.47365867, 0.47500126, 0.47634385,\n",
       "       0.47768643, 0.47902902, 0.48037161, 0.48171419, 0.48305678,\n",
       "       0.48439937, 0.48574195, 0.48708454, 0.48842713, 0.48976972,\n",
       "       0.49111231, 0.4924549 , 0.49379748, 0.49514007, 0.49648266,\n",
       "       0.49782525, 0.49916784, 0.50051043, 0.50185302, 0.50319561,\n",
       "       0.5045382 , 0.50588079, 0.50722338, 0.50856597, 0.50990857,\n",
       "       0.51125116, 0.51259375, 0.51393634, 0.51527893, 0.51662152,\n",
       "       0.51796412, 0.51930671, 0.5206493 , 0.52199189, 0.52333449,\n",
       "       0.52467708, 0.52601967, 0.52736227, 0.52870486, 0.53004745])"
      ]
     },
     "execution_count": 95,
     "metadata": {},
     "output_type": "execute_result"
    }
   ],
   "source": [
    "test(x)"
   ]
  },
  {
   "cell_type": "code",
   "execution_count": null,
   "id": "54b21bf5-0005-4cc2-b159-a5d30b99dd1b",
   "metadata": {},
   "outputs": [],
   "source": []
  }
 ],
 "metadata": {
  "kernelspec": {
   "display_name": "Python 3",
   "language": "python",
   "name": "python3"
  },
  "language_info": {
   "codemirror_mode": {
    "name": "ipython",
    "version": 3
   },
   "file_extension": ".py",
   "mimetype": "text/x-python",
   "name": "python",
   "nbconvert_exporter": "python",
   "pygments_lexer": "ipython3",
   "version": "3.7.10"
  }
 },
 "nbformat": 4,
 "nbformat_minor": 5
}

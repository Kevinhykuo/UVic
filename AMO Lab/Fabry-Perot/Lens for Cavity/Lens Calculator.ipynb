{
 "cells": [
  {
   "cell_type": "markdown",
   "id": "816cbf6c-74bf-4325-828f-4a5b0460b019",
   "metadata": {},
   "source": [
    "# Lens Calculator for Fabry-Perot Cavity\n",
    "\n",
    "Calulate the change in a beam of light starting at the beam waist in a Fabry-Perot cavity then going through a series of lenses"
   ]
  },
  {
   "cell_type": "code",
   "execution_count": 1,
   "id": "36e58159-3924-4ed0-939b-4917aa6b10cd",
   "metadata": {},
   "outputs": [],
   "source": [
    "import numpy as np\n",
    "import sympy as sym\n",
    "import matplotlib as mp\n",
    "import matplotlib.pyplot as plt\n",
    "from sympy.physics.mechanics import init_vprinting\n",
    "\n",
    "# plt.style.use('dark_background')\n",
    "%matplotlib inline\n",
    "%config InlineBackend.figure_format = 'pdf'\n",
    "init_vprinting()"
   ]
  },
  {
   "cell_type": "markdown",
   "id": "7c428ef7-21c6-4b5b-8771-c2617e7aaef3",
   "metadata": {},
   "source": [
    "## Important Functions"
   ]
  },
  {
   "cell_type": "code",
   "execution_count": 2,
   "id": "d041c6b6-f599-41f0-b5b4-27fa4392da1a",
   "metadata": {},
   "outputs": [],
   "source": [
    "# Functions for lenses and distance\n",
    "# =================================\n",
    "def as_sym(x, use_sym=False):\n",
    "    if use_sym == False:\n",
    "        M = np.array(x)\n",
    "    elif use_sym == True:\n",
    "        M = sym.Matrix(x)\n",
    "    else:\n",
    "        M = print('Error: Please specify True or False for Sympy')\n",
    "    return M\n",
    "\n",
    "# Curved interface matrix\n",
    "def interface(ni, nf, R, use_sym=False):\n",
    "    A = [[1, 0], [(ni-nf)/(R*nf), ni/nf]]\n",
    "    M = as_sym(A, use_sym)\n",
    "    return M\n",
    "\n",
    "# Distance matrix\n",
    "def dist(d, use_sym=False):\n",
    "    A = [[1, d], [0, 1]]\n",
    "    M = as_sym(A, use_sym)\n",
    "    return M\n",
    "\n",
    "# Lens matrix\n",
    "# Use sym.oo for flat interface\n",
    "def lens(n_medium=1, n_lens=1, R_in=sym.oo, R_out=sym.oo, thickness=5, use_sym=False):\n",
    "    interface_in = interface(n_medium, n_lens, R_in, use_sym)\n",
    "    interface_out = interface(n_lens, n_medium, R_out, use_sym)\n",
    "    lens_thickness = as_sym([[1, thickness], [0, 1]], use_sym)\n",
    "    return interface_out@lens_thickness@interface_in\n",
    "\n",
    "# Functions for the beam:\n",
    "# =======================\n",
    "\n",
    "# Waist (radius) of beam and \n",
    "# angle with respect to x-axis\n",
    "def beam(waist, angle, use_sym=False):\n",
    "    return as_sym([[waist], [angle]], use_sym)\n",
    "\n",
    "# Rayleigh length\n",
    "def z_Rayleigh(beam_front_curvature, dist, use_sym=False):\n",
    "    if use_sym == False:\n",
    "        z_R = np.sqrt(dist * (beam_front_curvature-dist))\n",
    "    elif use_sym == True:\n",
    "        z_R = sym.sqrt(dist * (beam_front_curvature-dist))\n",
    "    else: \n",
    "        z_R = print('Error: Please specify True or False for Sympy')\n",
    "    return z_R\n",
    "\n",
    "# Beam waist size\n",
    "def waist0(wavelength, z_R, use_sym=False):\n",
    "    if use_sym == False:\n",
    "        w_0 = np.sqrt((wavelength/sym.pi) * z_R)\n",
    "    elif use_sym == True:\n",
    "        w_0 = sym.sqrt((wavelength/np.pi) * z_R)\n",
    "    else: \n",
    "        w_0 = print('Error: Please specify True or False for Sympy')\n",
    "    return w_0\n",
    "\n",
    "# Beam waist after certain distance z\n",
    "def waistz(wavelength, z_R, z, use_sym=False):\n",
    "    w_0 = waist0(wavelength, z_R, use_sym)\n",
    "    if use_sym == False:\n",
    "        w_z =  w_0 * np.sqrt(1 + (z/z_R)**2)\n",
    "    elif use_sym == True:\n",
    "        w_z =  w_0 * sym.sqrt(1 + (z/z_R)**2)\n",
    "    else: \n",
    "        w_z = print('Error: Please specify True or False for Sympy') \n",
    "    return w_z\n",
    "\n",
    "# Complex beam parameter\n",
    "def q_CBP(dist, z_R):\n",
    "    return dist + z_R*1j\n",
    "\n",
    "# The angle the beam makes with the \n",
    "# mirror of the Fabry-Perot cavity\n",
    "def Theta0(wavelength, mirror_curvature, mirror_focal, lens_pos, use_sym=False):\n",
    "    # We want the radius of curvature of the beam front to match\n",
    "    # the radius of curvature of the mirror when it hits the \n",
    "    # mirror after originating from the focal length of the mirror\n",
    "    z_r = z_Rayleigh(mirror_curvature, mirror_focal, use_sym)\n",
    "    w_z = waistz(wavelength, z_r, mirror_focal, use_sym)\n",
    "    theta = w_z/lens_pos\n",
    "    return theta"
   ]
  },
  {
   "cell_type": "markdown",
   "id": "5d470cb9-b07d-4c56-b68f-ad52e6ffda80",
   "metadata": {},
   "source": [
    "## Symbols"
   ]
  },
  {
   "cell_type": "code",
   "execution_count": 3,
   "id": "ca0608df-23b7-4f0f-9f3b-1d49857fe8d7",
   "metadata": {},
   "outputs": [],
   "source": [
    "# Beam waists\n",
    "w0, wf = sym.symbols('w_0 w_f', real=True)\n",
    "\n",
    "# Beam angle (small angles)\n",
    "theta0, thetaf = sym.symbols('theta_0 theta_f', real=True)\n",
    "\n",
    "# Complex beam parameters\n",
    "q0, qf = sym.symbols('q_0 q_f')\n",
    "\n",
    "# Distances\n",
    "# For lens thickness\n",
    "d0, d1, d2, d3, d4 = sym.symbols('d:5', real=True)\n",
    "# For distance between lens\n",
    "x0, x1, x2, x3, x4 = sym.symbols('x:5')\n",
    "\n",
    "# Indicies of refraction\n",
    "nl, nm = sym.symbols('n_l n_m', real=True)\n",
    "\n",
    "# Radius of curvature for lens\n",
    "r00, r01, r10, r11, r20, r21 = sym.symbols('r_{00} r_{01} r_{10} r_{11} r_{20} r_{21}')"
   ]
  },
  {
   "cell_type": "markdown",
   "id": "43dbbec9-26fb-44c1-a24f-4a3ae0967e88",
   "metadata": {},
   "source": [
    "## Matricies for beam, lenses, and distances"
   ]
  },
  {
   "cell_type": "code",
   "execution_count": 4,
   "id": "3c71386c-ad49-4511-9d9d-441fe194df26",
   "metadata": {},
   "outputs": [],
   "source": [
    "beam0 = beam(w0, theta0, use_sym=True)\n",
    "beamf = beam(wf, thetaf, use_sym=True)\n",
    "\n",
    "dist0 = dist(x0, use_sym=True)\n",
    "lens0 = lens(nm, nl, r00, sym.oo, d0, use_sym=True)\n",
    "dist1 = dist(x1, use_sym=True)\n",
    "lens1 = lens(nm, nl, r10, sym.oo, d1, use_sym=True)\n",
    "dist2 = dist(x2, use_sym=True)\n",
    "lens2 = lens(nm, nl, r20, sym.oo, d2, use_sym=True)"
   ]
  },
  {
   "cell_type": "markdown",
   "id": "6f9b0edd-30a1-4e60-83e8-16c63f7187b6",
   "metadata": {},
   "source": [
    "## Commence calculation using matricies"
   ]
  },
  {
   "cell_type": "code",
   "execution_count": null,
   "id": "1189c051-8690-418e-9c86-66777a59fa06",
   "metadata": {},
   "outputs": [],
   "source": [
    "Final = (lens2@dist2@lens1@dist1@lens0@dist0@beam0).applyfunc(sym.simplify)\n",
    "\n",
    "# display(Final)"
   ]
  },
  {
   "cell_type": "code",
   "execution_count": null,
   "id": "b71c293c-a961-49b4-b459-332f1d2d3fa5",
   "metadata": {},
   "outputs": [],
   "source": [
    "# Sub in the stuff we know\n",
    "# Lengths in units of mm\n",
    "Final_sub1 = Final.subs({nm:1, nl:1.515, r00:50, \n",
    "                         x0:25, d0:3, \n",
    "                         w0:0,\n",
    "                         theta0:Theta0(780e-6, 2*25, 25, 25, use_sym=True)\n",
    "                        }).applyfunc(sym.simplify)\n",
    "# display(Final_sub1)"
   ]
  },
  {
   "cell_type": "code",
   "execution_count": null,
   "id": "d0273e02-6d31-4b6b-9f3e-984ae461b2bb",
   "metadata": {},
   "outputs": [],
   "source": [
    "# Sub in the radius of curvatures\n",
    "# for the lens we want to use \n",
    "Final_sub2 = Final_sub1.subs({r10:-100, r20:-200, d1:5.3, d2:3.6,}).applyfunc(sym.simplify)\n",
    "# display(Final_sub2)"
   ]
  },
  {
   "cell_type": "code",
   "execution_count": null,
   "id": "0821e09d-aa58-45cb-9abb-febdf484e52d",
   "metadata": {},
   "outputs": [],
   "source": [
    "sym.solvers.solve(Final_sub2 - beamf.subs({wf:1.12, thetaf:0}), (x1, x2))"
   ]
  },
  {
   "cell_type": "markdown",
   "id": "325f2e8b-271b-40a2-8713-c627a6ed5cfe",
   "metadata": {},
   "source": [
    "## Calculation using complex beam parameter"
   ]
  },
  {
   "cell_type": "code",
   "execution_count": null,
   "id": "abc03718-9694-4af0-852b-0a8a6f4ce255",
   "metadata": {},
   "outputs": [],
   "source": [
    "beamq0 = beam(q0, 1, use_sym=True)\n",
    "beamqf = beam(qf, 1, use_sym=True)"
   ]
  },
  {
   "cell_type": "code",
   "execution_count": null,
   "id": "60f0e7ec-37c4-4391-81d0-738c75b7f789",
   "metadata": {},
   "outputs": [],
   "source": [
    "Finalq = (lens2@dist2@lens1@dist1@lens0@dist0@beamq0).applyfunc(sym.simplify)\n",
    "\n",
    "Finalq_sub1 = Finalq.subs({nm:1, nl:1.515, \n",
    "                           r00:-50, \n",
    "                           r01:sym.oo, r11:sym.oo, r21:sym.oo,\n",
    "                           x0:25, d0:6, d1:5.3, d2:3.6\n",
    "                         }).applyfunc(sym.simplify)\n",
    "\n",
    "Finalq_sub2 = Finalq_sub1.subs({r10:50*2, r20:200*2}).applyfunc(sym.simplify)"
   ]
  },
  {
   "cell_type": "code",
   "execution_count": null,
   "id": "fc9b9142-0b05-4954-b800-7d6b668ae7a2",
   "metadata": {},
   "outputs": [],
   "source": [
    "k = sym.pi / 780e-6\n",
    "Qf = 1j * k * (1.25/7)**2\n",
    "Q0 = 1j * k * (25*np.pi*10e-3)**2\n",
    "\n",
    "Finalq_sub3 = Finalq_sub2.subs({q0:Q0})\n",
    "Beamqf_sub = beamqf.subs({qf:Qf})\n",
    "\n",
    "solution = sym.solvers.solve(Finalq_sub3[0]/Finalq_sub3[1] - Beamqf_sub[0], (x1, x2))\n",
    "display(solution)"
   ]
  },
  {
   "cell_type": "code",
   "execution_count": null,
   "id": "f375d429-bd51-4b22-8526-0ce3826e5aaa",
   "metadata": {},
   "outputs": [],
   "source": [
    "X2 = sym.solvers.solve(solution[0][0], x2)\n",
    "X1 = solution[0][0].subs({x2: X2[0]}).simplify()\n",
    "display(X1, X2[0])"
   ]
  },
  {
   "cell_type": "markdown",
   "id": "b70b3973-47a1-4d71-8518-2e88e04770ba",
   "metadata": {},
   "source": [
    "## Ray tracing"
   ]
  },
  {
   "cell_type": "code",
   "execution_count": 8,
   "id": "1ebd6c81-7a0c-4741-8aa7-4f0405cfaab3",
   "metadata": {},
   "outputs": [],
   "source": [
    "# lens(1, 1.515, np.inf, -50, 7.5) @ dist(30) @ lens(1, 1.515, np.inf, 100, 5) @ dist(70) @ lens(1, 1.515, np.inf, 200, 5)\n",
    "@np.vectorize\n",
    "def beam_prop(x, wavelength=780e-7, w0=0.5):\n",
    "    q1 = 1/(- 1j * wavelength / (np.pi * w0**2))\n",
    "    T = lens(1, 1.515, np.inf, 50, 6) @ dist(305.5) @ lens(1, 1.515, np.inf, -25.8, 5.3) @ dist(161.5) @ lens(1, 1.515, np.inf, -51.5, 3.6)\n",
    "#     T = lens(1, 1.515, np.inf, -51.5, 3.6)\n",
    "    A = dist(x) @ T @ beam(q1, 1)\n",
    "    qf = A[0]/A[1]\n",
    "    wf = np.sqrt(-wavelength / (np.pi * np.imag(1/qf)))\n",
    "    return wf, 1/np.real(1/qf)\n",
    "\n",
    "# r00:-50, r01:sym.oo, d0:6,\n",
    "#                 r10: 25.8, r11:sym.oo, d1:5.3,\n",
    "#                 r20: 51.5, r21:sym.oo, d2:3.6,"
   ]
  },
  {
   "cell_type": "code",
   "execution_count": 9,
   "id": "ef127abe-9e68-47c2-81fc-9481d877ac8b",
   "metadata": {},
   "outputs": [
    {
     "data": {
      "application/pdf": "[encoded data removed]",
      "text/plain": [
       "<Figure size 432x288 with 1 Axes>"
      ]
     },
     "metadata": {
      "needs_background": "light"
     },
     "output_type": "display_data"
    }
   ],
   "source": [
    "x = np.arange(0, 50, 0.1)\n",
    "# T = lens(1, 1.515, np.inf, 200, 5) @ dist(110) @ lens(1, 1.515, np.inf, 100, 5)\n",
    "# for n in range(60, 63, 1):\n",
    "#     plt.plot(x, beam_prop_cavity(x, w0=2.5/(2*(6+n/100)))[1], label='n={0}'.format(n))\n",
    "# plt.plot(x, beam_prop_cavity(x, w0=0.001))\n",
    "plt.plot(x, beam_prop(x, w0=1.1)[0])\n",
    "\n",
    "# plt.ylim(bottom=0)\n",
    "plt.xlabel('Distance (mm)')\n",
    "plt.ylabel('Beam waist (mm)')\n",
    "# plt.legend()\n",
    "# plt.ylim(0, 0.1)\n",
    "plt.grid()\n",
    "plt.show()"
   ]
  },
  {
   "cell_type": "code",
   "execution_count": 10,
   "id": "44a106d3-abe7-4494-a3fd-c54bc462f65c",
   "metadata": {},
   "outputs": [
    {
     "ename": "NameError",
     "evalue": "name 'beam_prop_cavity' is not defined",
     "output_type": "error",
     "traceback": [
      "\u001b[0;31m---------------------------------------------------------------------------\u001b[0m",
      "\u001b[0;31mNameError\u001b[0m                                 Traceback (most recent call last)",
      "\u001b[0;32m<ipython-input-10-1f72a280629c>\u001b[0m in \u001b[0;36m<module>\u001b[0;34m\u001b[0m\n\u001b[0;32m----> 1\u001b[0;31m \u001b[0mbeam_prop_cavity\u001b[0m\u001b[0;34m(\u001b[0m\u001b[0;36m50\u001b[0m\u001b[0;34m,\u001b[0m \u001b[0mw0\u001b[0m\u001b[0;34m=\u001b[0m\u001b[0;36m2.5\u001b[0m\u001b[0;34m/\u001b[0m\u001b[0;34m(\u001b[0m\u001b[0;36m2\u001b[0m\u001b[0;34m*\u001b[0m\u001b[0;34m(\u001b[0m\u001b[0;36m6\u001b[0m\u001b[0;34m+\u001b[0m\u001b[0;36m61\u001b[0m\u001b[0;34m/\u001b[0m\u001b[0;36m100\u001b[0m\u001b[0;34m)\u001b[0m\u001b[0;34m)\u001b[0m\u001b[0;34m)\u001b[0m\u001b[0;34m[\u001b[0m\u001b[0;36m1\u001b[0m\u001b[0;34m]\u001b[0m\u001b[0;34m\u001b[0m\u001b[0;34m\u001b[0m\u001b[0m\n\u001b[0m",
      "\u001b[0;31mNameError\u001b[0m: name 'beam_prop_cavity' is not defined"
     ]
    }
   ],
   "source": [
    "beam_prop_cavity(50, w0=2.5/(2*(6+61/100)))[1]"
   ]
  },
  {
   "cell_type": "markdown",
   "id": "e268a6ca-a438-4d86-844b-b8aae9482988",
   "metadata": {},
   "source": [
    "## Attempt \\#3"
   ]
  },
  {
   "cell_type": "code",
   "execution_count": null,
   "id": "5238dba5-14e9-4054-ad4e-e2707a38efff",
   "metadata": {},
   "outputs": [],
   "source": [
    "lam = 780e-6\n",
    "w_l = 1\n",
    "\n",
    "T = lens2@dist2@lens1@dist1@lens0\n",
    "beamq01 = beam(q0, 1, use_sym=True).subs({q0: d0 - 1j*d0*(d0-50)})\n",
    "beamqf1 = beam(qf, 1, use_sym=True).subs({qf: 1j*sym.pi*wf**2 / lam})"
   ]
  },
  {
   "cell_type": "code",
   "execution_count": null,
   "id": "149fdcab-e158-41b6-9815-faea52800d7a",
   "metadata": {},
   "outputs": [],
   "source": [
    "a = (T@beamq0).applyfunc(sym.simplify)\n",
    "a_sub1 = a.subs({nm:1, nl:1.515, \n",
    "                 r00:-50, r01:sym.oo, \n",
    "                 r10:100, r11:sym.oo, \n",
    "                 r20:400, r21:sym.oo,\n",
    "                 x0:25, d0:6, d1:5.3, d2:2.8\n",
    "                }).applyfunc(sym.simplify)\n",
    "display(a_sub1)"
   ]
  },
  {
   "cell_type": "code",
   "execution_count": null,
   "id": "b696139b-48f8-4ffa-9525-117a5f0924a0",
   "metadata": {},
   "outputs": [],
   "source": [
    "sol = sym.solvers.solve(a_sub1[0]/a_sub1[1] - beamqf1[0], wf)"
   ]
  },
  {
   "cell_type": "code",
   "execution_count": null,
   "id": "b3bc0410-2024-4882-bc0e-0210b55ab024",
   "metadata": {},
   "outputs": [],
   "source": [
    "display(sol)"
   ]
  },
  {
   "cell_type": "code",
   "execution_count": null,
   "id": "df80fcdc-6502-4ed9-b937-eaf5d7d2cb80",
   "metadata": {},
   "outputs": [],
   "source": [
    "display([sol[0][0].simplify(), sol[0][1]])"
   ]
  },
  {
   "cell_type": "markdown",
   "id": "76d9e8a3-c599-4954-a25f-172899558527",
   "metadata": {},
   "source": [
    "## Attempt ray tracing towards laser"
   ]
  },
  {
   "cell_type": "code",
   "execution_count": null,
   "id": "2bb96186-8804-46e8-812b-b8512c44e1a9",
   "metadata": {},
   "outputs": [],
   "source": [
    "@np.vectorize\n",
    "def beam_prop_laser(x, d0, wavelength=780e-7):\n",
    "    q1 = 1/(- 1j * wavelength / (np.pi * w0**2))\n",
    "    T = lens(1, 1.515, 100, np.inf, 5.3) @ dist(250) @ lens(1, 1.515, 400, np.inf, 3.6) @ dist(50) @ lens(1, 1.515, np.inf, 50, 3)\n",
    "    A = dist(x) @ T @ beam(d0-1j*d0*(d0-50), 1)\n",
    "    qf = A[0]/A[1]\n",
    "    wf = np.sqrt(-wavelength / (np.pi * np.imag(1/qf)))\n",
    "    return wf, 1/np.real(1/qf)"
   ]
  },
  {
   "cell_type": "code",
   "execution_count": null,
   "id": "45a55039-1000-4900-90ed-03816699b778",
   "metadata": {},
   "outputs": [],
   "source": [
    "x = np.arange(0, 100, 1)\n",
    "\n",
    "for d0 in range(0, 10, 1):\n",
    "    plt.plot(x, beam_prop_laser(x, d0)[0], label='{0}'.format(d0))\n",
    "plt.legend()"
   ]
  },
  {
   "cell_type": "code",
   "execution_count": null,
   "id": "6b7acb14-4ce9-40cc-99ff-fcc45fa91f92",
   "metadata": {},
   "outputs": [],
   "source": []
  }
 ],
 "metadata": {
  "kernelspec": {
   "display_name": "Python 3",
   "language": "python",
   "name": "python3"
  },
  "language_info": {
   "codemirror_mode": {
    "name": "ipython",
    "version": 3
   },
   "file_extension": ".py",
   "mimetype": "text/x-python",
   "name": "python",
   "nbconvert_exporter": "python",
   "pygments_lexer": "ipython3",
   "version": "3.7.10"
  }
 },
 "nbformat": 4,
 "nbformat_minor": 5
}

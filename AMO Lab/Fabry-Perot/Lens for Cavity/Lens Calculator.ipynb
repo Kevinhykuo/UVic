{
 "cells": [
  {
   "cell_type": "markdown",
   "id": "816cbf6c-74bf-4325-828f-4a5b0460b019",
   "metadata": {},
   "source": [
    "# Lens Calculator for Fabry-Perot Cavity\n",
    "\n",
    "Calulate the change in a beam of light starting at the beam waist in a Fabry-Perot cavity then going through a series of lenses"
   ]
  },
  {
   "cell_type": "code",
   "execution_count": 1,
   "id": "36e58159-3924-4ed0-939b-4917aa6b10cd",
   "metadata": {},
   "outputs": [],
   "source": [
    "import numpy as np\n",
    "import sympy as sym\n",
    "import matplotlib as mp\n",
    "import matplotlib.pyplot as plt\n",
    "from sympy.physics.mechanics import init_vprinting\n",
    "\n",
    "init_vprinting()"
   ]
  },
  {
   "cell_type": "markdown",
   "id": "7c428ef7-21c6-4b5b-8771-c2617e7aaef3",
   "metadata": {},
   "source": [
    "## Important Functions"
   ]
  },
  {
   "cell_type": "code",
   "execution_count": 2,
   "id": "d041c6b6-f599-41f0-b5b4-27fa4392da1a",
   "metadata": {},
   "outputs": [],
   "source": [
    "# Functions for lenses and distance\n",
    "# =================================\n",
    "def as_sym(x, use_sym=False):\n",
    "    if use_sym == False:\n",
    "        M = np.array(x)\n",
    "    elif use_sym == True:\n",
    "        M = sym.Matrix(x)\n",
    "    else:\n",
    "        M = print('Error: Please specify True or False for Sympy')\n",
    "    return M\n",
    "\n",
    "# Curved interface matrix\n",
    "def interface(ni, nf, R, use_sym=False):\n",
    "    A = [[1, 0], [(ni - nf)/(R*nf), ni/nf]]\n",
    "    M = as_sym(A, use_sym)\n",
    "    return M\n",
    "\n",
    "# Distance matrix\n",
    "def dist(d, use_sym=False):\n",
    "    A = [[1, d], [0, 1]]\n",
    "    M = as_sym(A, use_sym)\n",
    "    return M\n",
    "\n",
    "# Lens matrix\n",
    "# Use sym.oo for flat interface\n",
    "def lens(n_medium=1, n_lens=1, R_in=sym.oo, R_out=sym.oo, thickness=5, use_sym=False):\n",
    "    interface_in = interface(n_medium, n_lens, R_in, use_sym)\n",
    "    interface_out = interface(n_lens, n_medium, R_out, use_sym)\n",
    "    lens_thickness = as_sym([[1, thickness], [0, 1]], use_sym)\n",
    "    return interface_out@lens_thickness@interface_in\n",
    "\n",
    "# Functions for the beam:\n",
    "# =======================\n",
    "\n",
    "# Waist (radius) of beam and \n",
    "# angle with respect to x-axis\n",
    "def beam(waist, angle, use_sym=False):\n",
    "    return as_sym([[waist], [angle]], use_sym)\n",
    "\n",
    "# Rayleigh length\n",
    "def z_Rayleigh(beam_front_curvature, dist, use_sym=False):\n",
    "    if use_sym == False:\n",
    "        z_R = np.sqrt(dist * (beam_front_curvature-dist))\n",
    "    elif use_sym == True:\n",
    "        z_R = sym.sqrt(dist * (beam_front_curvature-dist))\n",
    "    else: \n",
    "        z_R = print('Error: Please specify True or False for Sympy')\n",
    "    return z_R\n",
    "\n",
    "# Beam waist size\n",
    "def waist0(wavelength, z_R, use_sym=False):\n",
    "    if use_sym == False:\n",
    "        w_0 = np.sqrt((wavelength/sym.pi) * z_R)\n",
    "    elif use_sym == True:\n",
    "        w_0 = sym.sqrt((wavelength/np.pi) * z_R)\n",
    "    else: \n",
    "        w_0 = print('Error: Please specify True or False for Sympy')\n",
    "    return w_0\n",
    "\n",
    "# Beam waist after certain distance z\n",
    "def waistz(wavelength, z_R, z, use_sym=False):\n",
    "    w_0 = waist0(wavelength, z_R, use_sym)\n",
    "    if use_sym == False:\n",
    "        w_z =  w_0 * np.sqrt(1 + (z/z_R)**2)\n",
    "    elif use_sym == True:\n",
    "        w_z =  w_0 * sym.sqrt(1 + (z/z_R)**2)\n",
    "    else: \n",
    "        w_z = print('Error: Please specify True or False for Sympy') \n",
    "    return w_z\n",
    "\n",
    "# Complex beam parameter\n",
    "def q_CBP(dist, z_R):\n",
    "    return dist + z_R*1j\n",
    "\n",
    "# The angle the beam makes with the \n",
    "# mirror of the Fabry-Perot cavity\n",
    "def Theta0(wavelength, mirror_curvature, mirror_focal, lens_pos, use_sym=False):\n",
    "    # We want the radius of curvature of the beam front to match\n",
    "    # the radius of curvature of the mirror when it hits the \n",
    "    # mirror after originating from the focal length of the mirror\n",
    "    z_r = z_Rayleigh(mirror_curvature, mirror_focal, use_sym)\n",
    "    w_z = waistz(wavelength, z_r, mirror_focal, use_sym)\n",
    "    theta = w_z/lens_pos\n",
    "    return theta"
   ]
  },
  {
   "cell_type": "markdown",
   "id": "5d470cb9-b07d-4c56-b68f-ad52e6ffda80",
   "metadata": {},
   "source": [
    "## Symbols"
   ]
  },
  {
   "cell_type": "code",
   "execution_count": 3,
   "id": "ca0608df-23b7-4f0f-9f3b-1d49857fe8d7",
   "metadata": {},
   "outputs": [],
   "source": [
    "# Beam waists\n",
    "w0, wf = sym.symbols('w_0 w_f', real=True)\n",
    "\n",
    "# Beam angle (small angles)\n",
    "theta0, thetaf = sym.symbols('theta_0 theta_f', real=True)\n",
    "\n",
    "# Complex beam parameters\n",
    "q0, qf = sym.symbols('q_0 q_f')\n",
    "\n",
    "# Distances\n",
    "# For lens thickness\n",
    "d0, d1, d2, d3, d4 = sym.symbols('d:5', real=True)\n",
    "# For distance between lens\n",
    "x0, x1, x2, x3, x4 = sym.symbols('x:5')\n",
    "\n",
    "# Indicies of refraction\n",
    "nl, nm = sym.symbols('n_l n_m', real=True)\n",
    "\n",
    "# Radius of curvature for lens\n",
    "r00, r01, r10, r11, r20, r21 = sym.symbols('r_{00} r_{01} r_{10} r_{11} r_{20} r_{21}')"
   ]
  },
  {
   "cell_type": "markdown",
   "id": "43dbbec9-26fb-44c1-a24f-4a3ae0967e88",
   "metadata": {},
   "source": [
    "## Matricies for beam, lenses, and distances"
   ]
  },
  {
   "cell_type": "code",
   "execution_count": 4,
   "id": "3c71386c-ad49-4511-9d9d-441fe194df26",
   "metadata": {},
   "outputs": [],
   "source": [
    "beam0 = beam(w0, theta0, use_sym=True)\n",
    "beamf = beam(wf, thetaf, use_sym=True)\n",
    "\n",
    "dist0 = dist(x0, use_sym=True)\n",
    "lens0 = lens(nm, nl, r00, sym.oo, d0, use_sym=True)\n",
    "dist1 = dist(x1, use_sym=True)\n",
    "lens1 = lens(nm, nl, r10, sym.oo, d1, use_sym=True)\n",
    "dist2 = dist(x2, use_sym=True)\n",
    "lens2 = lens(nm, nl, r20, sym.oo, d2, use_sym=True)"
   ]
  },
  {
   "cell_type": "markdown",
   "id": "6f9b0edd-30a1-4e60-83e8-16c63f7187b6",
   "metadata": {},
   "source": [
    "## Commence calculation using matricies"
   ]
  },
  {
   "cell_type": "code",
   "execution_count": 5,
   "id": "1189c051-8690-418e-9c86-66777a59fa06",
   "metadata": {},
   "outputs": [],
   "source": [
    "Final = (lens2@dist2@lens1@dist1@lens0@dist0@beam0).applyfunc(sym.simplify)\n",
    "\n",
    "# display(Final)"
   ]
  },
  {
   "cell_type": "code",
   "execution_count": 6,
   "id": "b71c293c-a961-49b4-b459-332f1d2d3fa5",
   "metadata": {},
   "outputs": [],
   "source": [
    "# Sub in the stuff we know\n",
    "# Lengths in units of mm\n",
    "Final_sub1 = Final.subs({nm:1, nl:1.515, r00:-50, \n",
    "                         x0:25, d0:7.2, d1:5, d2:5, \n",
    "                         w0:0,\n",
    "                         theta0:Theta0(780e-6, 2*25, 25, 25, use_sym=True)\n",
    "                        }).applyfunc(sym.simplify)\n",
    "# display(Final_sub1)"
   ]
  },
  {
   "cell_type": "code",
   "execution_count": 7,
   "id": "d0273e02-6d31-4b6b-9f3e-984ae461b2bb",
   "metadata": {},
   "outputs": [],
   "source": [
    "# Sub in the radius of curvatures\n",
    "# for the lens we want to use \n",
    "Final_sub2 = Final_sub1.subs({r10:100, r20:200}).applyfunc(sym.simplify)\n",
    "# display(Final_sub2)"
   ]
  },
  {
   "cell_type": "code",
   "execution_count": 8,
   "id": "0821e09d-aa58-45cb-9abb-febdf484e52d",
   "metadata": {},
   "outputs": [
    {
     "data": {
      "image/png": "[encoded data removed]",
      "text/latex": [
       "$\\displaystyle \\left[ \\left( 69.619208172737, \\  201.892611153254\\right), \\  \\left( 169.541566328264, \\  7.55937553687991 \\cdot 10^{16}\\right)\\right]$"
      ],
      "text/plain": [
       "[(69.619208172737, 201.892611153254), (169.541566328264, 7.55937553687991e+16)\n",
       "]"
      ]
     },
     "execution_count": 8,
     "metadata": {},
     "output_type": "execute_result"
    }
   ],
   "source": [
    "sym.solvers.solve(Final_sub2 - beamf.subs({wf:1.12, thetaf:0}), (x1, x2))"
   ]
  },
  {
   "cell_type": "markdown",
   "id": "325f2e8b-271b-40a2-8713-c627a6ed5cfe",
   "metadata": {},
   "source": [
    "## Calculation using complex beam parameter"
   ]
  },
  {
   "cell_type": "code",
   "execution_count": 14,
   "id": "abc03718-9694-4af0-852b-0a8a6f4ce255",
   "metadata": {},
   "outputs": [],
   "source": [
    "beamq0 = beam(q0, 1, use_sym=True)\n",
    "beamqf = beam(qf, 1, use_sym=True)"
   ]
  },
  {
   "cell_type": "code",
   "execution_count": 15,
   "id": "60f0e7ec-37c4-4391-81d0-738c75b7f789",
   "metadata": {},
   "outputs": [],
   "source": [
    "Finalq = (lens2@dist2@lens1@dist1@lens0@dist0@beamq0).applyfunc(sym.simplify)\n",
    "\n",
    "Finalq_sub1 = Finalq.subs({nm:1, nl:1.515, r00:-50, \n",
    "                         x0:25, d0:7.2, d1:5, d2:5\n",
    "                         }).applyfunc(sym.simplify)\n",
    "\n",
    "Finalq_sub2 = Finalq_sub1.subs({r10:100, r20:200}).applyfunc(sym.simplify)"
   ]
  },
  {
   "cell_type": "code",
   "execution_count": 31,
   "id": "fc9b9142-0b05-4954-b800-7d6b668ae7a2",
   "metadata": {},
   "outputs": [],
   "source": [
    "k = sym.pi / 780e-6\n",
    "Q0 = -1j * k * 0.03**2\n",
    "Qf = -1j * k * 0.5**2\n",
    "\n",
    "Finalq_sub3 = Finalq_sub2.subs({q0:Q0})\n",
    "Beamqf_sub = beamqf.subs({qf:Qf})\n",
    "\n",
    "solution = sym.solvers.solve(Finalq_sub3[0]/Finalq_sub3[1] - Beamqf_sub[0], (x1, x2))"
   ]
  },
  {
   "cell_type": "code",
   "execution_count": 42,
   "id": "f375d429-bd51-4b22-8526-0ce3826e5aaa",
   "metadata": {},
   "outputs": [
    {
     "data": {
      "image/png": "[encoded data removed]",
      "text/latex": [
       "$\\displaystyle 7.52432330472571 \\cdot 10^{-14} - 7.52881324844963 \\cdot 10^{-14} i$"
      ],
      "text/plain": [
       "7.52432330472571e-14 - 7.52881324844963e-14⋅ⅈ"
      ]
     },
     "metadata": {},
     "output_type": "display_data"
    },
    {
     "data": {
      "image/png": "[encoded data removed]",
      "text/latex": [
       "$\\displaystyle \\left[ 306.819578159511 - 127.664487526436 i\\right]$"
      ],
      "text/plain": [
       "[306.819578159511 - 127.664487526436⋅ⅈ]"
      ]
     },
     "metadata": {},
     "output_type": "display_data"
    }
   ],
   "source": [
    "X2 = sym.solvers.solve(solution[0][0], x2)\n",
    "X1 = solution[0][0].subs({x2: X2[0]}).simplify()\n",
    "display(X1, X2)"
   ]
  }
 ],
 "metadata": {
  "kernelspec": {
   "display_name": "Python 3",
   "language": "python",
   "name": "python3"
  },
  "language_info": {
   "codemirror_mode": {
    "name": "ipython",
    "version": 3
   },
   "file_extension": ".py",
   "mimetype": "text/x-python",
   "name": "python",
   "nbconvert_exporter": "python",
   "pygments_lexer": "ipython3",
   "version": "3.7.10"
  }
 },
 "nbformat": 4,
 "nbformat_minor": 5
}

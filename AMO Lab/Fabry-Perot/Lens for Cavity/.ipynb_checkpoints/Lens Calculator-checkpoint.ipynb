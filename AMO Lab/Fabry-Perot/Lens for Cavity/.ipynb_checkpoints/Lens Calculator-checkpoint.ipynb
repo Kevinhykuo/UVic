{
 "cells": [
  {
   "cell_type": "markdown",
   "id": "816cbf6c-74bf-4325-828f-4a5b0460b019",
   "metadata": {},
   "source": [
    "# Lens Calculator for Fabry-Perot Cavity\n",
    "\n",
    "Calulate the change in a beam of light starting at the beam waist in a Fabry-Perot cavity then going through a series of lenses"
   ]
  },
  {
   "cell_type": "code",
   "execution_count": 1,
   "id": "36e58159-3924-4ed0-939b-4917aa6b10cd",
   "metadata": {},
   "outputs": [],
   "source": [
    "import sympy as sym\n",
    "from sympy.physics.mechanics import init_vprinting\n",
    "\n",
    "init_vprinting()"
   ]
  },
  {
   "cell_type": "markdown",
   "id": "7c428ef7-21c6-4b5b-8771-c2617e7aaef3",
   "metadata": {},
   "source": [
    "## Important Functions"
   ]
  },
  {
   "cell_type": "code",
   "execution_count": 2,
   "id": "d041c6b6-f599-41f0-b5b4-27fa4392da1a",
   "metadata": {},
   "outputs": [],
   "source": [
    "# Functions for lenses and distance\n",
    "# =================================\n",
    "\n",
    "# Curved interface matrix\n",
    "def interface(ni, nf, R):\n",
    "    return sym.Matrix([[1, 0], [(ni - nf)/(R*nf), ni/nf]])\n",
    "\n",
    "# Distance matrix\n",
    "def dist(d):\n",
    "    return sym.Matrix([[1, d], [0, 1]])\n",
    "\n",
    "# Lens matrix\n",
    "# Use sym.oo for flat interface\n",
    "def lens(n_medium=1, n_lens=1, R_in=sym.oo, R_out=sym.oo, thickness=5):\n",
    "    interface_in = interface(n_medium, n_lens, R_in)\n",
    "    interface_out = interface(n_lens, n_medium, R_out)\n",
    "    lens_thickness = sym.Matrix([[1, thickness], [0, 1]])\n",
    "    return interface_out@lens_thickness@interface_in\n",
    "\n",
    "# Functions for the beam:\n",
    "# =======================\n",
    "\n",
    "# Waist (radius) of beam and \n",
    "# angle with respect to x-axis\n",
    "def beam(waist, angle):\n",
    "    return sym.Matrix([[waist], [angle]])\n",
    "\n",
    "# Rayleigh length (Ask Kenny how it is derived)\n",
    "def z_Rayleigh(mirror_curvature, mirror_focal):\n",
    "    return sym.sqrt(mirror_focal * (mirror_curvature-mirror_focal))\n",
    "\n",
    "# Beam waist size\n",
    "def waist0(wavelength, z_R):\n",
    "    return sym.sqrt((wavelength/sym.pi) * z_R)\n",
    "\n",
    "# Beam waist after certain distance z\n",
    "def waistz(wavelength, z_R, z):\n",
    "    w_0 = waist0(wavelength, z_R)\n",
    "    return w_0 * sym.sqrt(1 + (z/z_R)**2)\n",
    "\n",
    "# Complex beam parameter\n",
    "def q_CBP(dist, z_R):\n",
    "    return dist + z_R*1j\n",
    "\n",
    "# The angle the beam makes with the \n",
    "# mirror of the Fabry-Perot cavity\n",
    "def Theta0(wavelength, mirror_curvature, mirror_focal, lens_pos):\n",
    "    z_r = z_Rayleigh(mirror_curvature, mirror_focal)\n",
    "    w_z = waistz(wavelength, z_r, mirror_focal)\n",
    "    theta = w_z/lens_pos\n",
    "    return theta"
   ]
  },
  {
   "cell_type": "markdown",
   "id": "5d470cb9-b07d-4c56-b68f-ad52e6ffda80",
   "metadata": {},
   "source": [
    "## Symbols"
   ]
  },
  {
   "cell_type": "code",
   "execution_count": 3,
   "id": "ca0608df-23b7-4f0f-9f3b-1d49857fe8d7",
   "metadata": {},
   "outputs": [],
   "source": [
    "# Beam waists\n",
    "w0, wf = sym.symbols('w_0 w_f')\n",
    "\n",
    "# Beam angle (small angles)\n",
    "theta0, thetaf = sym.symbols('theta_0 theta_f')\n",
    "\n",
    "# Distances\n",
    "# For lens thickness\n",
    "d0, d1, d2, d3, d4 = sym.symbols('d:5')\n",
    "# For distance between lens\n",
    "x0, x1, x2, x3, x4 = sym.symbols('x:5')\n",
    "\n",
    "# Indicies of refraction\n",
    "nl, nm = sym.symbols('n_l n_m')\n",
    "\n",
    "# Radius of curvature for lens\n",
    "r00, r01, r10, r11, r20, r21 = sym.symbols('r_{00} r_{01} r_{10} r_{11} r_{20} r_{21}')"
   ]
  },
  {
   "cell_type": "markdown",
   "id": "43dbbec9-26fb-44c1-a24f-4a3ae0967e88",
   "metadata": {},
   "source": [
    "## Matricies for beam, lenses, and distances"
   ]
  },
  {
   "cell_type": "code",
   "execution_count": 4,
   "id": "3c71386c-ad49-4511-9d9d-441fe194df26",
   "metadata": {},
   "outputs": [],
   "source": [
    "beam0 = beam(w0, theta0)\n",
    "beamf = beam(wf, thetaf)\n",
    "\n",
    "dist0 = dist(x0)\n",
    "lens0 = lens(nm, nl, r00, sym.oo, d0)\n",
    "dist1 = dist(x1)\n",
    "lens1 = lens(nm, nl, r10, sym.oo, d1)\n",
    "dist2 = dist(x2)\n",
    "lens2 = lens(nm, nl, r20, sym.oo, d2)"
   ]
  },
  {
   "cell_type": "markdown",
   "id": "6f9b0edd-30a1-4e60-83e8-16c63f7187b6",
   "metadata": {},
   "source": [
    "## Commence calculation"
   ]
  },
  {
   "cell_type": "code",
   "execution_count": 5,
   "id": "1189c051-8690-418e-9c86-66777a59fa06",
   "metadata": {},
   "outputs": [],
   "source": [
    "Final = (lens2@dist2@lens1@dist1@lens0@dist0@beam0).applyfunc(sym.simplify)\n",
    "\n",
    "# display(Final)"
   ]
  },
  {
   "cell_type": "code",
   "execution_count": 6,
   "id": "b71c293c-a961-49b4-b459-332f1d2d3fa5",
   "metadata": {},
   "outputs": [],
   "source": [
    "# Sub in the stuff we know\n",
    "# Lengths in units of mm\n",
    "Final_sub1 = Final.subs({nm:1, nl:1.515, r00:-50, \n",
    "                         x0:25, d0:7.2, d1:5, d2:5, \n",
    "                         w0:0,\n",
    "                         theta0:Theta0(780e-6, 2*25, 25, 25)\n",
    "                        }).applyfunc(sym.simplify)\n",
    "# display(Final_sub1)"
   ]
  },
  {
   "cell_type": "code",
   "execution_count": 7,
   "id": "d0273e02-6d31-4b6b-9f3e-984ae461b2bb",
   "metadata": {},
   "outputs": [],
   "source": [
    "# Sub in the radius of curvatures\n",
    "# for the lens we want to use \n",
    "Final_sub2 = Final_sub1.subs({r10:100, r20:200}).applyfunc(sym.simplify)\n",
    "# display(Final_sub2)"
   ]
  },
  {
   "cell_type": "code",
   "execution_count": 8,
   "id": "0821e09d-aa58-45cb-9abb-febdf484e52d",
   "metadata": {},
   "outputs": [
    {
     "data": {
      "image/png": "[encoded data removed]",
      "text/latex": [
       "$\\displaystyle \\left[ \\left( 69.6192081727371, \\  201.892611153255\\right), \\  \\left( 169.541566328263, \\  2.98936880404912 \\cdot 10^{16}\\right)\\right]$"
      ],
      "text/plain": [
       "[(69.6192081727371, 201.892611153255), (169.541566328263, 2.98936880404912e+16\n",
       ")]"
      ]
     },
     "execution_count": 8,
     "metadata": {},
     "output_type": "execute_result"
    }
   ],
   "source": [
    "sym.solvers.solve(Final_sub2 - beamf.subs({wf:1.12, thetaf:0}), (x1, x2))"
   ]
  }
 ],
 "metadata": {
  "kernelspec": {
   "display_name": "Python 3",
   "language": "python",
   "name": "python3"
  },
  "language_info": {
   "codemirror_mode": {
    "name": "ipython",
    "version": 3
   },
   "file_extension": ".py",
   "mimetype": "text/x-python",
   "name": "python",
   "nbconvert_exporter": "python",
   "pygments_lexer": "ipython3",
   "version": "3.7.10"
  }
 },
 "nbformat": 4,
 "nbformat_minor": 5
}

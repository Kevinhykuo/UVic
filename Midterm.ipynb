{
 "cells": [
  {
   "cell_type": "markdown",
   "metadata": {},
   "source": [
    "# Midterm"
   ]
  },
  {
   "cell_type": "code",
   "execution_count": 1,
   "metadata": {},
   "outputs": [],
   "source": [
    "import numpy as np\n",
    "import scipy as sci\n",
    "import sympy as sym\n",
    "import pandas as pd\n",
    "import seaborn as sns\n",
    "import matplotlib as mp\n",
    "import matplotlib.pyplot as plt\n",
    "\n",
    "from numpy import exp, pi\n",
    "from scipy.integrate import quad\n",
    "from scipy.optimize import curve_fit \n",
    "from textwrap import wrap\n",
    "\n",
    "%matplotlib inline\n",
    "%config InlineBackend.figure_format = 'pdf'"
   ]
  },
  {
   "cell_type": "code",
   "execution_count": 2,
   "metadata": {},
   "outputs": [],
   "source": [
    "WC = pd.read_csv('/Users/kev/Documents/Python/MATH-377---Math-Modeling/Data Sets/whooping_crane.csv', \n",
    "                 header=1)"
   ]
  },
  {
   "cell_type": "markdown",
   "metadata": {},
   "source": [
    "## Question 1: Plant population"
   ]
  },
  {
   "cell_type": "markdown",
   "metadata": {},
   "source": [
    "### a) Discrete time difference equation\n",
    "\n",
    "Let: \n",
    "\n",
    "> $x$ be the amount of plants\n",
    "\n",
    "> $a$ be a positive constant\n",
    "\n",
    "> $r$ be the amount of seeds produced per plant\n",
    "\n",
    "> $s$ be the total amount of seeds produced\n",
    "\n",
    "We know: \n",
    "\n",
    "> The fraction of surviving seeds is based off: \n",
    "\n",
    "$$1-e^{-a/s}$$\n",
    "\n",
    "\n",
    "The amount of plants next season is based off the amount of surviving seeds this season. The amount of seeds produced this season: \n",
    "\n",
    "$$s_n = x_n r$$\n",
    "\n",
    "The total amount of plants next season: \n",
    "\n",
    "$$x_{n+1} = x_n r (1-e^{-a/(x_n r)})$$"
   ]
  },
  {
   "cell_type": "markdown",
   "metadata": {},
   "source": [
    "### b) Equilibrium\n",
    "\n",
    "To find whether the population size will remain a constant and its behaviour when perturbed from the constant we have to find the equilibrium solutions: \n",
    "\n",
    "Equilibrium: $x_{n+1} = x_n = x$\n",
    "\n",
    "$$x = x r (1-e^{-a/(x_n r)})$$\n",
    "\n",
    "$$r^{-1}  = 1-e^{-a/(x_n r)}$$ \n",
    "\n",
    "$$\\frac{a}{xr} = -\\ln (1-r^{-1})$$\n",
    "\n",
    "$$x = - \\frac{a}{r}\\left[ \\ln (1-r^{-1}) \\right]^{-1}$$\n",
    "\n",
    "Thus, we have two equilibrium solutions: \n",
    "\n",
    "> 1) $x = 0$\n",
    "\n",
    "> 2) $x = - \\frac{a}{r}\\left[ \\ln (1-r^{-1}) \\right]^{-1}$\n",
    "\n",
    "To evaluate the stability, we have to find: $f'(x_n) = \\frac{\\partial}{\\partial x_n} x_{n+1}\\bigg\\rvert_x$\n",
    "\n",
    "\\begin{align} \n",
    "f'(x_n) &= \\frac{\\partial}{\\partial x_n} x_n r (1-e^{-a/(x_n r)}) \\bigg\\rvert_x \\\\\n",
    "        &= r - \\left[r e^{-\\frac{a}{x_n r}} + x_n r e^{-\\frac{a}{x_n r}} \\frac{a}{x_n^2 r} \\right] \\bigg\\rvert_x \\\\\n",
    "        & = r \\left[ 1 - e^{-\\frac{a}{x r}} \\left(1 + \\frac{a}{x r} \\right) \\right]\n",
    "\\end{align}\n",
    "\n",
    "Evaluate stability for $x = 0$:\n",
    "\n",
    "$$f'(x=0) = \\lim_{x \\rightarrow 0^+} \\left[ 1 - e^{-\\frac{a}{x r}} \\left(1 + \\frac{a}{x r} \\right) \\right] = \\infty$$\n",
    "\n",
    "> Therefore, this is always unstable. The plant population will go to infinity. (However, would it be correct to say that as the since the population is zero, there is no way for the plants to reproduce? Realistically, the population will always be stable at zero. This is where the model breaks down.)\n",
    "\n",
    "> There is no constant to approach; therefore, any perturbation will have no affect on the behaviour of the population. \n",
    "\n",
    "Evaluate stability for $x = - \\frac{a}{r}\\left[ \\ln (1-r^{-1}) \\right]^{-1}$: \n",
    "\n",
    "\\begin{align}\n",
    "f'\\left(x = - \\frac{a}{r}\\left[ \\ln (1-r^{-1}) \\right]^{-1} \\right) &= r \\left[ 1 - e^{-\\frac{a}{- \\frac{a}{r}\\left[ \\ln (1-r^{-1}) \\right]^{-1} r}} \\left(1 + \\frac{a}{- \\frac{a}{r}\\left[ \\ln (1-r^{-1}) \\right]^{-1} r} \\right) \\right] \\\\\n",
    "&= r \\left[1 - e^{\\ln(1-r^{-1})} \\left(1 + \\ln(1-r^{-1}) \\right) \\right] \\\\\n",
    "&= r \\left[1 - (1-r^{-1}) \\left(1+\\ln(1-r^{-1})\\right) \\right]\n",
    "\\end{align}\n",
    "\n",
    "> For stability: $r \\left[1 - (1-r^{-1}) \\left(1+\\ln(1-r^{-1})\\right) \\right] < 1$\n",
    "\n",
    "$$1 - (1-r^{-1}) \\left(1 + \\ln(1-r^{-1}) \\right) < r^{-1}$$\n",
    "    \n",
    "$$1 - r^{-1} < (1-r^{-1}) \\left(1+\\ln(1-r^{-1})\\right)$$\n",
    "    \n",
    "$$1 < 1+\\ln(1-r^{-1})$$\n",
    "\n",
    "$$0 < \\ln(1-r^{-1})$$\n",
    "\n",
    "$$1 < 1-r^{-1}$$\n",
    "    \n",
    "$$0 < -r^{-1}$$\n",
    "\n",
    "$$0 > r^{-1}$$\n",
    "\n",
    "$$\\therefore r > 0$$\n",
    "\n",
    "> As long as the amount of seeds produced per plant is greater than zero then the population size will approach $x = - \\frac{a}{r}\\left[ \\ln (1-r^{-1}) \\right]^{-1}$. Since plants don't produce a fraction of a seed, this means as long as each plant produces at least one seed, the population will approach a constant. This makes sense as plants must produce enough seeds to replace themselves for the population to have any possibility of being constant.  \n",
    "\n",
    "> As this is a stable equilibrium, any perturbation will not cause the plant population to deviate from approaching $x = - \\frac{a}{r}\\left[ \\ln (1-r^{-1}) \\right]^{-1}$. "
   ]
  },
  {
   "cell_type": "markdown",
   "metadata": {},
   "source": [
    "### b) Conditions for survival\n",
    "\n"
   ]
  },
  {
   "cell_type": "markdown",
   "metadata": {},
   "source": [
    "### c) Population simulation"
   ]
  },
  {
   "cell_type": "code",
   "execution_count": 3,
   "metadata": {},
   "outputs": [],
   "source": [
    "# Probabilty \n",
    "def prob(P, a, r):\n",
    "    s = P*r\n",
    "    p = 1 - exp(-a/s)\n",
    "    return p\n",
    "\n",
    "# Population (simulated)\n",
    "def Plant_pop(P0, a, n, r):\n",
    "    Pop = np.zeros(n) # Population over time\n",
    "    Pop[0] = P0 # Initial population\n",
    "    for i in range(0, n-1):\n",
    "        S = np.zeros(int(r*Pop[i])) # Largest possible amount of seeds produced\n",
    "        for j in range(0, len(S)):\n",
    "            p = prob(Pop[i], a, r) # Probability of seeds surviving\n",
    "            S[j] = np.random.choice([0, 1], p=[1-p, p]) # Which seeds survive\n",
    "            j += 1\n",
    "        Seed = np.sum(S) # Total surviving seeds\n",
    "        Pop[i+1] = Seed # Plant population next season \n",
    "        i += 1\n",
    "    return Pop\n",
    "\n",
    "# Popluation (theoretical)\n",
    "def Plant_popT(P0, a, n, r):\n",
    "    P =  np.zeros(n+1)\n",
    "    P[0] += P0\n",
    "    for i in range(0, n):\n",
    "        s = P[i] * r\n",
    "        P[i+1] += r * (1-exp(-a/s)) * P[i]\n",
    "        i += 1\n",
    "    return P"
   ]
  },
  {
   "cell_type": "code",
   "execution_count": 4,
   "metadata": {},
   "outputs": [
    {
     "data": {
      "application/pdf": "[encoded data removed]",
      "text/plain": [
       "<Figure size 720x288 with 1 Axes>"
      ]
     },
     "metadata": {
      "needs_background": "light"
     },
     "output_type": "display_data"
    }
   ],
   "source": [
    "# Simulate it! \n",
    "# ============\n",
    "\n",
    "sims = 3\n",
    "Plant_popt = Plant_popT(P0=1, a=100, n=50, r=2)\n",
    "\n",
    "fig, ax = plt.subplots(1, 1, figsize=(10, 4))\n",
    "\n",
    "for i in range(0, sims):\n",
    "    Plant_popA = Plant_pop(P0=1, a=100, n=50, r=2)\n",
    "    ax.plot(Plant_popA, label=\"Simulation {0}\".format(i))\n",
    "    i += 1\n",
    "\n",
    "ax.plot(Plant_popt, \"--\", label=\"Theoretical plant population\")\n",
    "ax.set_xlabel(r\"Generation ($n$)\")\n",
    "ax.set_ylabel(r\"Plant population ($x$)\")\n",
    "ax.set_title(r\"Plant population per generation for {0} simulations\".format(sims+1))\n",
    "plt.legend()\n",
    "plt.grid()\n",
    "plt.show()"
   ]
  },
  {
   "cell_type": "markdown",
   "metadata": {},
   "source": [
    "## Question 2: Whooping crane population"
   ]
  },
  {
   "cell_type": "markdown",
   "metadata": {},
   "source": [
    "Plot the crane population"
   ]
  },
  {
   "cell_type": "code",
   "execution_count": 5,
   "metadata": {},
   "outputs": [
    {
     "data": {
      "application/pdf": "[encoded data removed]",
      "text/plain": [
       "<Figure size 720x288 with 1 Axes>"
      ]
     },
     "metadata": {
      "needs_background": "light"
     },
     "output_type": "display_data"
    }
   ],
   "source": [
    "# A graph of the current data\n",
    "# ===========================\n",
    "\n",
    "fig, ax = plt.subplots(1, 1, figsize=(10, 4))\n",
    "\n",
    "ax.plot(WC[\"Year\"], WC[\"Cranes\"])\n",
    "ax.scatter(WC[\"Year\"], WC[\"Cranes\"])\n",
    "ax.set_ylabel(\"Population\")\n",
    "ax.set_xlabel(\"Year\")\n",
    "ax.set_title(\"Whopping crane population from 1940 to 2015\")\n",
    "\n",
    "plt.grid()\n",
    "plt.show()"
   ]
  },
  {
   "cell_type": "markdown",
   "metadata": {},
   "source": [
    "According to the site, Birds of North America$^{[1]}$, here's what we know about whopping cranes: \n",
    "\n",
    "> Monogamous and mate for life, won't find other mate unless mate dies\n",
    "\n",
    "> Lays 1 to 3 eggs annually, though seldom fledge more than 1 young\n",
    "\n",
    "> Starts producing eggs at 3 to 4 years old \n",
    "\n",
    "> Average lifespan of wild whopping crane is 25 years, although they can reach over 40 years old in captivity "
   ]
  },
  {
   "cell_type": "markdown",
   "metadata": {},
   "source": [
    "Before we model the whopping crane population, we assume:\n",
    "> The population is independent of area (ie. It's the total whooping crane population in the world)\n",
    "\n",
    "> There is no resource restrictions (ie. Unlimited food and stuff to build nests)\n",
    "\n",
    "> The starting age distribution of the whopping crane is a Maxwell-Boltzmann distribution with an average of 25 years\n",
    "\n",
    ">> This probablity distribution was choosen because of the low birth rate. I assumed that the low birth rate of the crane will cause it's age distribution to to be similar to the age distribution of countries with low birth rates, which resembles a Maxwell-Boltzman distribution.\n",
    "\n",
    ">> Note that I will apply this only to the initial population, as births and deaths of cranes will cause the age distribution to deviate from this distribution.\n",
    "\n",
    "> The observed/recorded crane population is the adult crane population. Does not include chicks (cranes less than 3.5 years old) "
   ]
  },
  {
   "cell_type": "markdown",
   "metadata": {},
   "source": [
    "### Using the Maxwell-Boltzmann distribution to find the percentage of reproductive pairs\n",
    "\n",
    "The Maxwell-Boltzmann distribution:\n",
    "\n",
    "$$M(x) = \\sqrt{\\frac{2}{\\pi}}  \\frac{x^2}{a^3} e^{-\\frac{x^2}{2a^3}}$$\n",
    "\n",
    "> Average: \n",
    "\n",
    "$$\\mu = 2 a \\sqrt{\\frac{2}{\\pi}}$$\n",
    "\n",
    "> Setting our average to be 25 ($\\mu = 25$):\n",
    "    \n",
    "$$a = \\left( \\frac{25}{2}\\right) \\sqrt{\\frac{\\pi}{2}} \\approx 15.666$$\n",
    "\n",
    "> As the cranes become fertile at around 3 to 4 years, we take the intergal of the population from 3.5 to $\\infty$ to find the percentage of fertile pairs"
   ]
  },
  {
   "cell_type": "code",
   "execution_count": 6,
   "metadata": {},
   "outputs": [],
   "source": [
    "def a(mu):\n",
    "    a = (mu/2) * (pi/2)**0.5\n",
    "    return a\n",
    "\n",
    "def MB(x, mu):\n",
    "    A = a(mu)\n",
    "    M = (2/pi)**0.5 * (x**2/A**3) * exp(-x**2 / (2*A**2))\n",
    "    return M"
   ]
  },
  {
   "cell_type": "code",
   "execution_count": 7,
   "metadata": {},
   "outputs": [
    {
     "name": "stdout",
     "output_type": "stream",
     "text": [
      "Fertile ratio = 0.9971\n"
     ]
    }
   ],
   "source": [
    "Ratio = quad(lambda x: MB(x, 25), 3.5, np.inf)[0]/quad(lambda x: MB(x, 25), 0, np.inf)[0]\n",
    "print(\"Fertile ratio = {0:.4f}\".format(Ratio))"
   ]
  },
  {
   "cell_type": "markdown",
   "metadata": {},
   "source": [
    "As the fertile ratio is very high and our initial starting population is 22 cranes, let's assume all those 22 cranes are adult cranes and capable of reproduction."
   ]
  },
  {
   "cell_type": "markdown",
   "metadata": {},
   "source": [
    "### Setting up the model\n",
    "\n",
    "#### Adults:\n",
    "The adult whopping crane popultion ($x$) is determined by the diffrence relation:\n",
    "$$x_{n+1} = [1 + B(x_{n-3}) - D(x_n)] x_n$$\n",
    "\n",
    "$$\\text{Where} \\left\\{ \\begin{array}{ll}\n",
    "            B(x_n) & \\text{is a function determining births based on current population} \\\\\n",
    "            D(x_n) & \\text{is a function determining deaths based on current population}\n",
    "            \\end{array} \\right.$$    \n",
    "            \n",
    "Note: We choose $x_{n-3}$ for the birth function as chicks take 3.5 years to mature into adults"
   ]
  },
  {
   "cell_type": "markdown",
   "metadata": {},
   "source": [
    "**Birth function $B(x_n)$:**\n",
    "\n",
    "> The birth function is primarly determined by the fertile pairs and the amount of eggs each pair produces. \n",
    "\n",
    "> Let: \n",
    ">> $E$ be the amount of eggs each pair produces. As the eggs are between 1 and 3, let $E=2$ for the average eggs produced per pair.\n",
    "\n",
    ">> $F$ be the ratio of fertile pairs.\n",
    "\n",
    "$$\\therefore B(x_n) \\approx x_n E$$ \n"
   ]
  },
  {
   "cell_type": "markdown",
   "metadata": {},
   "source": [
    "**Death function $D(x_n)$:**\n",
    "\n",
    "> The death function includes natural death, death by predation, and death of chicks. \n",
    "\n",
    "> Let: \n",
    "\n",
    ">> $N$ be coefficient determining death due to natural causes (old age, accidents) \n",
    "\n",
    ">> $P$ be the coefficient determining death due to predation\n",
    "\n",
    ">> $A$ and $B$ are constants\n",
    "\n",
    "$$\\therefore D(x_n) = N x_n + Ae^{Px_n^B}$$\n",
    "\n",
    ">> We assumed death due to predation is an exponential function, because as population increases there is a higher chance of a predator finding the crane. Also, the increasd food supply for the predator also increases predator population."
   ]
  },
  {
   "cell_type": "markdown",
   "metadata": {},
   "source": [
    "#### Chicks\n",
    "The chick ($y$) population is determined by the birth function ($B(x_n)$). Here we set up an array that groups chick based on age. Then apply the death function (for chicks). We assume only a percentage ($C$) of the chicks survive each year.\n",
    "\n",
    "$$c = [B(x_{n}), \\ C B(x_{n-1}), \\ C^2 B(x_{n-2})]$$\n",
    "\n",
    "The total population of the chicks are just the sum of the elements in the array. The reason for introducing a separate death function for the chicks is that predators act differently depending on the maturity of the crane. Some predators will only hunt adults, while others may only go for chicks. "
   ]
  },
  {
   "cell_type": "markdown",
   "metadata": {},
   "source": [
    "#### Difference equation for total population: \n",
    "\n",
    "The total population: \n",
    "\n",
    "$$P(x_{n}) = x_n + \\sum_{i=1} c_i - D(x_n)$$\n",
    "\n",
    "However, we only care about the population for adult cranes, because that is what we observe. The difference equation for adult crane population: \n",
    "\n",
    "$$x_{n+1} = x_n + C^2 B(x_{n-2})- D(x_n)$$\n",
    "\n",
    "Here we have included the last entry in array \"c\" as the chicks have matured into adults."
   ]
  },
  {
   "cell_type": "markdown",
   "metadata": {},
   "source": [
    "### Numerical approach: \n",
    "\n",
    "We are going to create three arrays: \n",
    "\n",
    "1. Surviving infertile chicks\n",
    "2. Fertile cranes\n",
    "3. Total crane population\n",
    "\n",
    "We are going to subject these arrays to the death, in addition to birth for the fertile cranes, according to the above defined functions "
   ]
  },
  {
   "cell_type": "code",
   "execution_count": 8,
   "metadata": {},
   "outputs": [],
   "source": [
    "# Difference equation for model\n",
    "# =============================\n",
    "\n",
    "def pop(n, P0, F, E, C, N, P, A, B):\n",
    "    POP = np.zeros(int(n)) # Array of the total crane population over time\n",
    "    POP[0] = P0 # The first entry of the total population is the initial condition\n",
    "    CRANE = np.zeros(int(n)) # Array of the adult crane population\n",
    "    CRANE[0] = int(P0*E/F) # Enter initial condition for adult crane population \n",
    "    CHICKS = np.zeros(3) # Array of chicks population according to years old \n",
    "    for i in range(0, n-1):\n",
    "        Birth = int(CRANE[i]*E) # Birth equation\n",
    "        Death = int(N*CRANE[i] + A*exp(P * CRANE[i]**B)) # Death equation (adults only)\n",
    "        CHICKS[0] = Birth # Enter the first entry as the new births \n",
    "#         print(Death, Birth, CHICKS, CRANE[i], POP[i]) # For debugging, please ignore\n",
    "        POP[i+1] = int(np.sum(CHICKS) + CRANE[i] - Death) # Generate total population for next year \n",
    "        CRANE[i+1] = (CRANE[i] + CHICKS[-1] - Death) # Adult crane population for next year \n",
    "        CHICKS = (CHICKS * C).astype(int) # Apply death to chicks (assuming only a ratio of C survives each year)\n",
    "        CHICKS = np.roll(CHICKS, 1) # Shift the chick array forward to simulate chicks aging \n",
    "        i += 1\n",
    "    return POP, CRANE"
   ]
  },
  {
   "cell_type": "markdown",
   "metadata": {},
   "source": [
    "Note: The function records the populations as integers, as cranes only comes in integer quantities. "
   ]
  },
  {
   "cell_type": "markdown",
   "metadata": {},
   "source": [
    "Normally, I would plug the function into a function fit algorithm to solve for the coefficients, but due to the array manipulation and the operations there is no curve fit algorithm that is capable of solving for these coefficients. I do not have the skills nor time to code an advanced curve fitting algorithm, so we would have to make smart assumptions and guess for the coefficents, then use trail and error to come up with a function that is best representative of the data.\n",
    "\n",
    "> $F\\approx 0.9971$: This is what we have calculated from the Maxwell-Boltzmann distribution \n",
    "\n",
    "> $E = 1$: We set this to one as each pair produces 1 to 3 eggs. We take the median amount of eggs, which gives us 1 egg per pair of cranes. \n",
    "\n",
    "> $C=0.34$: The lowest chick survival percentage acceptable for crane population growth, as cranes seldom fledge more than one young, and we also factor predation and chicks dying through natural causes. (It's a tough being a chick.)\n",
    "\n",
    "> $N=0.05$: We assume 5 % of adult cranes die each year from natural causes.\n",
    "\n",
    "> $P, A, B$: We primarly use trail and error to guess these values such that our fit best fit the data. We also use trial and error to fine tune the above coefficients as well. "
   ]
  },
  {
   "cell_type": "code",
   "execution_count": 14,
   "metadata": {},
   "outputs": [],
   "source": [
    "# Generate the prediction based on our model\n",
    "# ==========================================\n",
    "\n",
    "# Test1 = pop(P0=WC[\"Cranes\"].iloc[0], F=Ratio, E=1, C=0.34, N=0.01, P=0.803, A=0.2005, B=0.3, n=80)\n",
    "A_pop = pop(P0=WC[\"Cranes\"].iloc[0], F=Ratio, E=1, C=0.34, N=0.05, P=0.5, A=0.1, B=0.365, n=81)"
   ]
  },
  {
   "cell_type": "code",
   "execution_count": 15,
   "metadata": {},
   "outputs": [
    {
     "data": {
      "application/pdf": "[encoded data removed]",
      "text/plain": [
       "<Figure size 720x288 with 1 Axes>"
      ]
     },
     "metadata": {
      "needs_background": "light"
     },
     "output_type": "display_data"
    }
   ],
   "source": [
    "# Plot it out\n",
    "# ===========\n",
    "\n",
    "fig, ax2 = plt.subplots(1, 1, figsize=(10, 4))\n",
    "ax2.scatter(WC[\"Year\"], WC[\"Cranes\"], s=5, zorder=3)\n",
    "ax2.plot(np.arange(WC[\"Year\"].iloc[0], 2021, 1), A_pop[1], c='orange', zorder=0, label=\"Model predicion\")\n",
    "ax2.set_ylabel(\"Population\")\n",
    "ax2.set_xlabel(\"Year\")\n",
    "ax2.set_title(\"Adult whopping crane population from 1940 to 2015\")\n",
    "\n",
    "plt.legend()\n",
    "plt.grid()\n",
    "plt.show()"
   ]
  },
  {
   "cell_type": "code",
   "execution_count": 11,
   "metadata": {},
   "outputs": [
    {
     "name": "stdout",
     "output_type": "stream",
     "text": [
      "The predicted adult whopping crane population in 2020 is approximately 395 cranes.\n"
     ]
    }
   ],
   "source": [
    "print(\"The predicted adult whopping crane population in 2020 is approximately {0:.0f} cranes.\".format(A_pop[1][-1]))"
   ]
  },
  {
   "cell_type": "markdown",
   "metadata": {},
   "source": [
    "### Shortcomings and limitations:\n",
    "\n",
    "> The major issue of our model is that there is no available curve fitting algorithm that is capable of generating a curve of best fit based on our model. This limitation prevents us from generating a confidence interval for our predictions, and prevents us from gaining valuable insights that might arise from knowing the best values for our coefficients. Our coefficients can only be obtained by using assumptions and prior knowledge of the cranes. \n",
    "\n",
    "> We also assumed the initial observed crane population is the total crane population. In fact, this is a sample of the total crane population which differs from the total population. We also assumed that this population is composed entirely of adults, neglecting the chick population. \n",
    "\n",
    "> We assumed the percentage of surviving chicks are based on a percentage. We could improve this model by introducing a more sophisticated death function for the chicks. ie. An exponential predator term for the death function based on chick population, similar to that for the adult cranes. \n",
    "\n",
    "> We also did not factor in the possible increases in chick survivability due to the crane population. \n",
    "\n",
    "> Our model assumed that once the chicks reach maturity they are able to immediately find a mate and reproduce. It fails to factor in conditions that affects the reproduction ability of the cranes, such as the ability to find a mate, mating period, ability to build a nest...etc. We also assume the eggs hatich instantly, with no regards to incubation period. \n",
    "\n",
    "> We assumed ideal conditions for the cranes to reproduce, with the exception of predators. We did not account for the affects of resource quantity on the population growth of the cranes.\n",
    "\n",
    "> The predation term in the death function is not based off a predator-prey model. We assumed that the cranes that gets eaten is soley based off the current population of the cranes. In fact, the predator population may be affected by the crane population which alters this term. We have neglected the interactions between predator and prey in this simulation. \n"
   ]
  },
  {
   "cell_type": "markdown",
   "metadata": {},
   "source": [
    "### Additional check: \n",
    "\n",
    "Let's check that our model approaches an equilibrium as time goes to infinity. (ie. The population does not blow up to infinity as time goes to infinity.) To do this, we make a plot of our model for a very long time:"
   ]
  },
  {
   "cell_type": "code",
   "execution_count": 32,
   "metadata": {},
   "outputs": [
    {
     "data": {
      "application/pdf": "[encoded data removed]",
      "text/plain": [
       "<Figure size 720x288 with 1 Axes>"
      ]
     },
     "metadata": {
      "needs_background": "light"
     },
     "output_type": "display_data"
    },
    {
     "name": "stdout",
     "output_type": "stream",
     "text": [
      "Equilibrium population: 1209 adult whopping cranes\n"
     ]
    }
   ],
   "source": [
    "# Generate the prediction based on our model\n",
    "# ==========================================\n",
    "\n",
    "N= 251\n",
    "period = WC[\"Year\"].iloc[0] + N\n",
    "\n",
    "A_pop_ck = pop(P0=WC[\"Cranes\"].iloc[0], F=Ratio, E=1, C=0.34, N=0.05, P=0.5, A=0.1, B=0.365, n=N)\n",
    "\n",
    "# Plot it out\n",
    "# ===========\n",
    "\n",
    "fig, ax3 = plt.subplots(1, 1, figsize=(10, 4))\n",
    "ax3.scatter(WC[\"Year\"], WC[\"Cranes\"], s=5, zorder=3)\n",
    "ax3.plot(np.arange(WC[\"Year\"].iloc[0], period, 1), A_pop_ck[1], c='orange', zorder=0, label=\"Model predicion\")\n",
    "ax3.plot([WC[\"Year\"].iloc[0], period], [A_pop_ck[1][-1], A_pop_ck[1][-1]], '--', c='g', zorder=1)\n",
    "ax3.set_ylabel(\"Population\")\n",
    "ax3.set_xlabel(\"Year\")\n",
    "ax3.set_title(\"Adult whopping crane population from 1940 to 2015\")\n",
    "\n",
    "plt.legend()\n",
    "plt.grid()\n",
    "plt.show()\n",
    "\n",
    "# Print equilibrium population\n",
    "# ============================\n",
    "print(\"Equilibrium population: {0:.0f} adult whopping cranes\".format(A_pop_ck[1][-1]))"
   ]
  },
  {
   "cell_type": "markdown",
   "metadata": {},
   "source": [
    "It appears that our model does not blow up to infinity or have unreasonable behaviour at high time values, hence, I can conclude this is a suitable model. Whether this is a reasonable conclusion is up to you (the marker) to decide, and I hope you agree as well. "
   ]
  },
  {
   "cell_type": "markdown",
   "metadata": {},
   "source": [
    "## Referances: \n",
    "> [1] \"Whooping Crane - Introduction | Birds of North America Online\", Birdsna.org, 2019. [Online]. Available: https://birdsna.org/Species-Account/bna/species/whocra/introduction. [Accessed: 28- Feb- 2019]."
   ]
  }
 ],
 "metadata": {
  "kernelspec": {
   "display_name": "Python 3",
   "language": "python",
   "name": "python3"
  },
  "language_info": {
   "codemirror_mode": {
    "name": "ipython",
    "version": 3
   },
   "file_extension": ".py",
   "mimetype": "text/x-python",
   "name": "python",
   "nbconvert_exporter": "python",
   "pygments_lexer": "ipython3",
   "version": "3.7.2"
  }
 },
 "nbformat": 4,
 "nbformat_minor": 2
}

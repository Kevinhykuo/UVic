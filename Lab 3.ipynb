{
 "cells": [
  {
   "cell_type": "markdown",
   "metadata": {},
   "source": [
    "# Lab 3: Determination of Protein Concentration"
   ]
  },
  {
   "cell_type": "code",
   "execution_count": 1,
   "metadata": {},
   "outputs": [],
   "source": [
    "import numpy as np\n",
    "import pandas as pd \n",
    "import seaborn as sns \n",
    "import matplotlib as mp\n",
    "import matplotlib.pyplot as plt \n",
    "from scipy import stats\n",
    "\n",
    "from textwrap import wrap\n",
    "\n",
    "%matplotlib inline\n",
    "%config InlineBackend.figure_format = 'pdf'"
   ]
  },
  {
   "cell_type": "code",
   "execution_count": 2,
   "metadata": {},
   "outputs": [],
   "source": [
    "BR = pd.read_csv('/Users/kev/Downloads/BCMB 301A Lab Techniques/Lab 3 - Determination of Protein Concentrations/Data/Biuret.csv', \n",
    "                 header=1)\n",
    "\n",
    "LR = pd.read_csv('/Users/kev/Downloads/BCMB 301A Lab Techniques/Lab 3 - Determination of Protein Concentrations/Data/Lowry.csv', \n",
    "                 header=1)\n",
    "\n",
    "BF = pd.read_csv('/Users/kev/Downloads/BCMB 301A Lab Techniques/Lab 3 - Determination of Protein Concentrations/Data/Bradford.csv', \n",
    "                 header=1)\n",
    "\n",
    "UN = pd.read_csv('/Users/kev/Downloads/BCMB 301A Lab Techniques/Lab 3 - Determination of Protein Concentrations/Data/Unknown.csv', \n",
    "                 header=1)"
   ]
  },
  {
   "cell_type": "code",
   "execution_count": 3,
   "metadata": {},
   "outputs": [],
   "source": [
    "# Get average absorbance\n",
    "BR_ave = pd.DataFrame(BR.iloc[:,1:].mean(axis=1))\n",
    "LR_ave = pd.DataFrame(LR.iloc[:,1:].mean(axis=1))\n",
    "BF_ave = pd.DataFrame(BF.iloc[:,1:].mean(axis=1))\n",
    "UN_ave = pd.DataFrame(UN.iloc[:,1:].mean(axis=1))\n",
    "BR_ave.columns = ['Average']\n",
    "LR_ave.columns = ['Average']\n",
    "BF_ave.columns = ['Average']\n",
    "UN_ave.columns = ['Average']\n",
    "BR = BR.join(BR_ave)\n",
    "LR = LR.join(LR_ave)\n",
    "BF = BF.join(BF_ave)\n",
    "UN = UN.join(UN_ave)"
   ]
  },
  {
   "cell_type": "code",
   "execution_count": 4,
   "metadata": {},
   "outputs": [],
   "source": [
    "# Get mg of BSA \n",
    "BR_g = pd.DataFrame(BR['BSA (10g/l) [ml]'] * 10)\n",
    "LR_g = pd.DataFrame(LR['BSA (100 mg/l) [ml]'] * 0.1)\n",
    "BF_g = pd.DataFrame(BF['BSA (100 mg/l) [ul]'] * 10**(-4))\n",
    "BR_g.columns = ['BSA [mg]']\n",
    "LR_g.columns = ['BSA [mg]']\n",
    "BF_g.columns = ['BSA [mg]']\n",
    "BR = BR.join(BR_g)\n",
    "LR = LR.join(LR_g)\n",
    "BF = BF.join(BF_g)"
   ]
  },
  {
   "cell_type": "code",
   "execution_count": 5,
   "metadata": {},
   "outputs": [
    {
     "data": {
      "text/html": [
       "<div>\n",
       "<style scoped>\n",
       "    .dataframe tbody tr th:only-of-type {\n",
       "        vertical-align: middle;\n",
       "    }\n",
       "\n",
       "    .dataframe tbody tr th {\n",
       "        vertical-align: top;\n",
       "    }\n",
       "\n",
       "    .dataframe thead th {\n",
       "        text-align: right;\n",
       "    }\n",
       "</style>\n",
       "<table border=\"1\" class=\"dataframe\">\n",
       "  <thead>\n",
       "    <tr style=\"text-align: right;\">\n",
       "      <th></th>\n",
       "      <th>BSA (10g/l) [ml]</th>\n",
       "      <th>Set 1</th>\n",
       "      <th>Set 2</th>\n",
       "      <th>Average</th>\n",
       "      <th>BSA [mg]</th>\n",
       "    </tr>\n",
       "  </thead>\n",
       "  <tbody>\n",
       "    <tr>\n",
       "      <th>0</th>\n",
       "      <td>0.0</td>\n",
       "      <td>0.000</td>\n",
       "      <td>0.000</td>\n",
       "      <td>0.0000</td>\n",
       "      <td>0.0</td>\n",
       "    </tr>\n",
       "    <tr>\n",
       "      <th>1</th>\n",
       "      <td>0.2</td>\n",
       "      <td>0.045</td>\n",
       "      <td>0.079</td>\n",
       "      <td>0.0620</td>\n",
       "      <td>2.0</td>\n",
       "    </tr>\n",
       "    <tr>\n",
       "      <th>2</th>\n",
       "      <td>0.4</td>\n",
       "      <td>0.109</td>\n",
       "      <td>0.160</td>\n",
       "      <td>0.1345</td>\n",
       "      <td>4.0</td>\n",
       "    </tr>\n",
       "    <tr>\n",
       "      <th>3</th>\n",
       "      <td>0.6</td>\n",
       "      <td>0.194</td>\n",
       "      <td>NaN</td>\n",
       "      <td>0.1940</td>\n",
       "      <td>6.0</td>\n",
       "    </tr>\n",
       "    <tr>\n",
       "      <th>4</th>\n",
       "      <td>0.8</td>\n",
       "      <td>NaN</td>\n",
       "      <td>0.337</td>\n",
       "      <td>0.3370</td>\n",
       "      <td>8.0</td>\n",
       "    </tr>\n",
       "    <tr>\n",
       "      <th>5</th>\n",
       "      <td>1.0</td>\n",
       "      <td>0.361</td>\n",
       "      <td>0.372</td>\n",
       "      <td>0.3665</td>\n",
       "      <td>10.0</td>\n",
       "    </tr>\n",
       "  </tbody>\n",
       "</table>\n",
       "</div>"
      ],
      "text/plain": [
       "   BSA (10g/l) [ml]  Set 1  Set 2  Average  BSA [mg]\n",
       "0               0.0  0.000  0.000   0.0000       0.0\n",
       "1               0.2  0.045  0.079   0.0620       2.0\n",
       "2               0.4  0.109  0.160   0.1345       4.0\n",
       "3               0.6  0.194    NaN   0.1940       6.0\n",
       "4               0.8    NaN  0.337   0.3370       8.0\n",
       "5               1.0  0.361  0.372   0.3665      10.0"
      ]
     },
     "execution_count": 5,
     "metadata": {},
     "output_type": "execute_result"
    }
   ],
   "source": [
    "BR"
   ]
  },
  {
   "cell_type": "code",
   "execution_count": 6,
   "metadata": {},
   "outputs": [
    {
     "data": {
      "text/html": [
       "<div>\n",
       "<style scoped>\n",
       "    .dataframe tbody tr th:only-of-type {\n",
       "        vertical-align: middle;\n",
       "    }\n",
       "\n",
       "    .dataframe tbody tr th {\n",
       "        vertical-align: top;\n",
       "    }\n",
       "\n",
       "    .dataframe thead th {\n",
       "        text-align: right;\n",
       "    }\n",
       "</style>\n",
       "<table border=\"1\" class=\"dataframe\">\n",
       "  <thead>\n",
       "    <tr style=\"text-align: right;\">\n",
       "      <th></th>\n",
       "      <th>BSA (100 mg/l) [ml]</th>\n",
       "      <th>Set 1</th>\n",
       "      <th>Set 2</th>\n",
       "      <th>Average</th>\n",
       "      <th>BSA [mg]</th>\n",
       "    </tr>\n",
       "  </thead>\n",
       "  <tbody>\n",
       "    <tr>\n",
       "      <th>0</th>\n",
       "      <td>0.0</td>\n",
       "      <td>0.000</td>\n",
       "      <td>0.000</td>\n",
       "      <td>0.0000</td>\n",
       "      <td>0.00</td>\n",
       "    </tr>\n",
       "    <tr>\n",
       "      <th>1</th>\n",
       "      <td>0.2</td>\n",
       "      <td>0.133</td>\n",
       "      <td>0.118</td>\n",
       "      <td>0.1255</td>\n",
       "      <td>0.02</td>\n",
       "    </tr>\n",
       "    <tr>\n",
       "      <th>2</th>\n",
       "      <td>0.4</td>\n",
       "      <td>0.231</td>\n",
       "      <td>0.237</td>\n",
       "      <td>0.2340</td>\n",
       "      <td>0.04</td>\n",
       "    </tr>\n",
       "    <tr>\n",
       "      <th>3</th>\n",
       "      <td>0.6</td>\n",
       "      <td>0.347</td>\n",
       "      <td>0.329</td>\n",
       "      <td>0.3380</td>\n",
       "      <td>0.06</td>\n",
       "    </tr>\n",
       "    <tr>\n",
       "      <th>4</th>\n",
       "      <td>0.8</td>\n",
       "      <td>0.389</td>\n",
       "      <td>0.444</td>\n",
       "      <td>0.4165</td>\n",
       "      <td>0.08</td>\n",
       "    </tr>\n",
       "    <tr>\n",
       "      <th>5</th>\n",
       "      <td>1.0</td>\n",
       "      <td>0.520</td>\n",
       "      <td>0.523</td>\n",
       "      <td>0.5215</td>\n",
       "      <td>0.10</td>\n",
       "    </tr>\n",
       "  </tbody>\n",
       "</table>\n",
       "</div>"
      ],
      "text/plain": [
       "   BSA (100 mg/l) [ml]  Set 1  Set 2  Average  BSA [mg]\n",
       "0                  0.0  0.000  0.000   0.0000      0.00\n",
       "1                  0.2  0.133  0.118   0.1255      0.02\n",
       "2                  0.4  0.231  0.237   0.2340      0.04\n",
       "3                  0.6  0.347  0.329   0.3380      0.06\n",
       "4                  0.8  0.389  0.444   0.4165      0.08\n",
       "5                  1.0  0.520  0.523   0.5215      0.10"
      ]
     },
     "execution_count": 6,
     "metadata": {},
     "output_type": "execute_result"
    }
   ],
   "source": [
    "LR"
   ]
  },
  {
   "cell_type": "code",
   "execution_count": 7,
   "metadata": {},
   "outputs": [
    {
     "data": {
      "text/html": [
       "<div>\n",
       "<style scoped>\n",
       "    .dataframe tbody tr th:only-of-type {\n",
       "        vertical-align: middle;\n",
       "    }\n",
       "\n",
       "    .dataframe tbody tr th {\n",
       "        vertical-align: top;\n",
       "    }\n",
       "\n",
       "    .dataframe thead th {\n",
       "        text-align: right;\n",
       "    }\n",
       "</style>\n",
       "<table border=\"1\" class=\"dataframe\">\n",
       "  <thead>\n",
       "    <tr style=\"text-align: right;\">\n",
       "      <th></th>\n",
       "      <th>BSA (100 mg/l) [ul]</th>\n",
       "      <th>Set 1</th>\n",
       "      <th>Set 2</th>\n",
       "      <th>Average</th>\n",
       "      <th>BSA [mg]</th>\n",
       "    </tr>\n",
       "  </thead>\n",
       "  <tbody>\n",
       "    <tr>\n",
       "      <th>0</th>\n",
       "      <td>0</td>\n",
       "      <td>-0.005</td>\n",
       "      <td>0.005</td>\n",
       "      <td>0.0000</td>\n",
       "      <td>0.000</td>\n",
       "    </tr>\n",
       "    <tr>\n",
       "      <th>1</th>\n",
       "      <td>20</td>\n",
       "      <td>0.081</td>\n",
       "      <td>0.098</td>\n",
       "      <td>0.0895</td>\n",
       "      <td>0.002</td>\n",
       "    </tr>\n",
       "    <tr>\n",
       "      <th>2</th>\n",
       "      <td>40</td>\n",
       "      <td>0.144</td>\n",
       "      <td>0.146</td>\n",
       "      <td>0.1450</td>\n",
       "      <td>0.004</td>\n",
       "    </tr>\n",
       "    <tr>\n",
       "      <th>3</th>\n",
       "      <td>60</td>\n",
       "      <td>0.166</td>\n",
       "      <td>0.160</td>\n",
       "      <td>0.1630</td>\n",
       "      <td>0.006</td>\n",
       "    </tr>\n",
       "    <tr>\n",
       "      <th>4</th>\n",
       "      <td>80</td>\n",
       "      <td>0.205</td>\n",
       "      <td>0.198</td>\n",
       "      <td>0.2015</td>\n",
       "      <td>0.008</td>\n",
       "    </tr>\n",
       "    <tr>\n",
       "      <th>5</th>\n",
       "      <td>100</td>\n",
       "      <td>0.270</td>\n",
       "      <td>0.271</td>\n",
       "      <td>0.2705</td>\n",
       "      <td>0.010</td>\n",
       "    </tr>\n",
       "  </tbody>\n",
       "</table>\n",
       "</div>"
      ],
      "text/plain": [
       "   BSA (100 mg/l) [ul]  Set 1  Set 2  Average  BSA [mg]\n",
       "0                    0 -0.005  0.005   0.0000     0.000\n",
       "1                   20  0.081  0.098   0.0895     0.002\n",
       "2                   40  0.144  0.146   0.1450     0.004\n",
       "3                   60  0.166  0.160   0.1630     0.006\n",
       "4                   80  0.205  0.198   0.2015     0.008\n",
       "5                  100  0.270  0.271   0.2705     0.010"
      ]
     },
     "execution_count": 7,
     "metadata": {},
     "output_type": "execute_result"
    }
   ],
   "source": [
    "BF"
   ]
  },
  {
   "cell_type": "code",
   "execution_count": 8,
   "metadata": {},
   "outputs": [
    {
     "data": {
      "text/html": [
       "<div>\n",
       "<style scoped>\n",
       "    .dataframe tbody tr th:only-of-type {\n",
       "        vertical-align: middle;\n",
       "    }\n",
       "\n",
       "    .dataframe tbody tr th {\n",
       "        vertical-align: top;\n",
       "    }\n",
       "\n",
       "    .dataframe thead th {\n",
       "        text-align: right;\n",
       "    }\n",
       "</style>\n",
       "<table border=\"1\" class=\"dataframe\">\n",
       "  <thead>\n",
       "    <tr style=\"text-align: right;\">\n",
       "      <th></th>\n",
       "      <th>Assay</th>\n",
       "      <th>Set 1</th>\n",
       "      <th>Set 2</th>\n",
       "      <th>Average</th>\n",
       "    </tr>\n",
       "  </thead>\n",
       "  <tbody>\n",
       "    <tr>\n",
       "      <th>0</th>\n",
       "      <td>Biuret 550nm</td>\n",
       "      <td>0.366</td>\n",
       "      <td>0.390</td>\n",
       "      <td>0.3780</td>\n",
       "    </tr>\n",
       "    <tr>\n",
       "      <th>1</th>\n",
       "      <td>Lowry 750 nm</td>\n",
       "      <td>0.489</td>\n",
       "      <td>0.488</td>\n",
       "      <td>0.4885</td>\n",
       "    </tr>\n",
       "    <tr>\n",
       "      <th>2</th>\n",
       "      <td>Bradford 595nm</td>\n",
       "      <td>0.231</td>\n",
       "      <td>0.238</td>\n",
       "      <td>0.2345</td>\n",
       "    </tr>\n",
       "  </tbody>\n",
       "</table>\n",
       "</div>"
      ],
      "text/plain": [
       "            Assay  Set 1   Set 2  Average\n",
       "0    Biuret 550nm   0.366  0.390   0.3780\n",
       "1    Lowry 750 nm   0.489  0.488   0.4885\n",
       "2  Bradford 595nm   0.231  0.238   0.2345"
      ]
     },
     "execution_count": 8,
     "metadata": {},
     "output_type": "execute_result"
    }
   ],
   "source": [
    "UN"
   ]
  },
  {
   "cell_type": "markdown",
   "metadata": {},
   "source": [
    "## F. Practical Assessment"
   ]
  },
  {
   "cell_type": "code",
   "execution_count": 13,
   "metadata": {},
   "outputs": [],
   "source": [
    "def plot_abs(Dat, X, Y, Abs, Yerr, ploterror=False):\n",
    "    slope, intercept, r_value, p_value, std_err = stats.linregress(Dat[X], Dat[Y])\n",
    "\n",
    "    plt.figure()\n",
    "    sns.regplot(x = X, y=Y, data=Dat, \n",
    "                scatter_kws={'s':8}, \n",
    "                line_kws={'linewidth':2, 'label':r\"A={0:.3g}M+({1:.3g}); R$^2$={2:.3g}\".format(slope, intercept, r_value**2)})\n",
    "    \n",
    "    if ploterror == True: \n",
    "        plt.errorbar(x=Dat[X], y=Dat[Y], yerr=Yerr, scatterpoints=None, linewidth=0, elinewidth=1, capsize=2,\n",
    "                    label='Uncertainty: {0:.4f}'.format(Yerr))\n",
    "    \n",
    "    F_title = r'Changes in average absorbance at {0} nm ($\\bar{{A}}_{1}$) with respect to the quantity of BSA, with a 95% confidence interval'.format(Abs, {Abs})\n",
    "    plt.title(\"\\n\".join(wrap(F_title, 80)))\n",
    "    plt.ylabel(r'$\\bar{{A}}_{0}$'.format({Abs}))\n",
    "    plt.legend(loc=2)\n",
    "    plt.grid()\n",
    "    plt.show()"
   ]
  },
  {
   "cell_type": "code",
   "execution_count": 14,
   "metadata": {},
   "outputs": [
    {
     "data": {
      "application/pdf": "[encoded data removed]",
      "text/plain": [
       "<Figure size 432x288 with 1 Axes>"
      ]
     },
     "metadata": {
      "needs_background": "light"
     },
     "output_type": "display_data"
    },
    {
     "data": {
      "application/pdf": "[encoded data removed]",
      "text/plain": [
       "<Figure size 432x288 with 1 Axes>"
      ]
     },
     "metadata": {
      "needs_background": "light"
     },
     "output_type": "display_data"
    },
    {
     "data": {
      "application/pdf": "[encoded data removed]",
      "text/plain": [
       "<Figure size 432x288 with 1 Axes>"
      ]
     },
     "metadata": {
      "needs_background": "light"
     },
     "output_type": "display_data"
    }
   ],
   "source": [
    "plot_abs(Dat=BR, X='BSA [mg]', Y='Average', Abs=550, Yerr=(2*0.0005**2)**0.5)\n",
    "plot_abs(Dat=LR, X='BSA [mg]', Y='Average', Abs=750, Yerr=(2*0.0005**2)**0.5)\n",
    "plot_abs(Dat=BF, X='BSA [mg]', Y='Average', Abs=595, Yerr=(2*0.0005**2)**0.5)"
   ]
  },
  {
   "cell_type": "code",
   "execution_count": null,
   "metadata": {},
   "outputs": [],
   "source": []
  }
 ],
 "metadata": {
  "kernelspec": {
   "display_name": "Python 3",
   "language": "python",
   "name": "python3"
  },
  "language_info": {
   "codemirror_mode": {
    "name": "ipython",
    "version": 3
   },
   "file_extension": ".py",
   "mimetype": "text/x-python",
   "name": "python",
   "nbconvert_exporter": "python",
   "pygments_lexer": "ipython3",
   "version": "3.7.3"
  }
 },
 "nbformat": 4,
 "nbformat_minor": 2
}

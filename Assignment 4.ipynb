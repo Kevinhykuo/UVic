{
 "cells": [
  {
   "cell_type": "markdown",
   "metadata": {},
   "source": [
    "# Assignment 4"
   ]
  },
  {
   "cell_type": "code",
   "execution_count": 1,
   "metadata": {},
   "outputs": [],
   "source": [
    "import numpy as np \n",
    "import sympy as sym\n",
    "\n",
    "from sympy.physics.mechanics import *\n",
    "from IPython.display import Math, display\n",
    "\n",
    "init_vprinting()"
   ]
  },
  {
   "cell_type": "markdown",
   "metadata": {},
   "source": [
    "## Question 1"
   ]
  },
  {
   "cell_type": "markdown",
   "metadata": {},
   "source": [
    "## Question 2"
   ]
  },
  {
   "cell_type": "code",
   "execution_count": 2,
   "metadata": {},
   "outputs": [],
   "source": [
    "C = sym.Rational(1, 3)\n",
    "P = sym.Matrix([[1, 1, 1], [3, 0, 0], [3, 0, 0]])\n",
    "x1 = sym.Matrix([1, 0, 0]).T\n",
    "x2 = sym.Matrix([0, 1, 0]).T\n",
    "x3 = sym.Matrix([0, 0, 1]).T\n",
    "\n",
    "def round_expr(expr, num_digits):\n",
    "    return expr.xreplace({n : round(n, num_digits) for n in expr.atoms(sym.Number)})\n",
    "\n",
    "def Prob(n, A=C, B=P):\n",
    "    a = C ** n\n",
    "    b = B ** n \n",
    "    c = a*b\n",
    "    d1 = Math('P^{0} ='.format(n) + sym.latex(a) + sym.latex(b))\n",
    "    d2 = Math('P^{0} ='.format(n) + sym.latex(c))\n",
    "    d3 = Math('P^{0} ='.format(n) + sym.latex(round_expr(c, 4)))\n",
    "    return d1, d2, d3\n",
    "\n",
    "def Loc_prob(n, X, A=C, B=P):\n",
    "    a = C ** n\n",
    "    b = X * B ** n \n",
    "    c = a*b\n",
    "    d1 = Math('x_{0} ='.format(n) + sym.latex(a) + sym.latex(b))\n",
    "    d2 = Math('x_{0} ='.format(n) + sym.latex(c))\n",
    "    d3 = Math('x_{0} ='.format(n) + sym.latex(round_expr(c, 4)))\n",
    "    return d1, d2, d3"
   ]
  },
  {
   "cell_type": "markdown",
   "metadata": {},
   "source": [
    "There are there locations: A, B, and C. \n",
    "\n",
    "We know that at the end of each day, the wolf will move depending on it's current location:\n",
    "\n",
    "> If it is at A, it will move to B and C or stay in A, each with a probability of $\\frac{1}{3}$.\n",
    "\n",
    "> If it is at B or C, it will always move back to A.\n",
    "\n",
    "We can model this using a Markov chain, which we will express using a matrix $P$: "
   ]
  },
  {
   "cell_type": "code",
   "execution_count": 3,
   "metadata": {},
   "outputs": [
    {
     "data": {
      "text/latex": [
       "$\\displaystyle P^1 =\\frac{1}{3}\\left[\\begin{matrix}1 & 1 & 1\\\\3 & 0 & 0\\\\3 & 0 & 0\\end{matrix}\\right]$"
      ],
      "text/plain": [
       "<IPython.core.display.Math object>"
      ]
     },
     "metadata": {},
     "output_type": "display_data"
    }
   ],
   "source": [
    "display(Prob(1, A=C, B=P)[0])"
   ]
  },
  {
   "cell_type": "markdown",
   "metadata": {},
   "source": [
    "To find the possibility of the wolf going to each location after $n$ days, we just take the produc between a vector of the location of the wolf on the first day $\\vec{x}$ the power of $P$. \n",
    "\n",
    "> $P$ after $n$ days: $\\vec{x_n} = \\vec{x_0} P^n$"
   ]
  },
  {
   "cell_type": "markdown",
   "metadata": {},
   "source": [
    "### a) Possibility on day 2"
   ]
  },
  {
   "cell_type": "markdown",
   "metadata": {},
   "source": [
    "If the wolf is at location $A$ on day 0, then the location vector:\n",
    "\n",
    "$$\\vec{x_0} = [1, \\ 0, \\ 0]$$\n",
    "\n",
    "The probability of the wolf ending up at each location: \n",
    "\n",
    "$$\\vec{x_2} = \\vec{x_0} P^2$$"
   ]
  },
  {
   "cell_type": "code",
   "execution_count": 4,
   "metadata": {},
   "outputs": [
    {
     "data": {
      "text/latex": [
       "$\\displaystyle x_2 =\\frac{1}{9}\\left[\\begin{matrix}7 & 1 & 1\\end{matrix}\\right]$"
      ],
      "text/plain": [
       "<IPython.core.display.Math object>"
      ]
     },
     "metadata": {},
     "output_type": "display_data"
    }
   ],
   "source": [
    "display(Loc_prob(2, x1)[0])"
   ]
  },
  {
   "cell_type": "markdown",
   "metadata": {},
   "source": [
    "As we can see, the wolf has a $7/9$ probability of ending back on A on day 2."
   ]
  },
  {
   "cell_type": "markdown",
   "metadata": {},
   "source": [
    "### b) The probability of the wolf ending back on $A$ after a very long time. \n",
    "\n",
    "To find the probabilty of the wolf ending back on $A$ after a very long time, we evaluate the limit of $\\vec{x_n}$ as $n \\rightarrow \\infty$.\n",
    "\n",
    "Taking the limit using a computer is quite hard, so let's evaluate $\\vec{x_n}$ at a very large $n$ say...$1000$.\n",
    "\n",
    "Let's also try $n=10000$ and $n=100000$ just to make sure there is no drastic changes. "
   ]
  },
  {
   "cell_type": "code",
   "execution_count": 5,
   "metadata": {},
   "outputs": [
    {
     "data": {
      "text/latex": [
       "$\\displaystyle P^1000 =\\left[\\begin{matrix}0.6 & 0.2 & 0.2\\\\0.6 & 0.2 & 0.2\\\\0.6 & 0.2 & 0.2\\end{matrix}\\right]$"
      ],
      "text/plain": [
       "<IPython.core.display.Math object>"
      ]
     },
     "metadata": {},
     "output_type": "display_data"
    },
    {
     "data": {
      "text/latex": [
       "$\\displaystyle P^10000 =\\left[\\begin{matrix}0.6 & 0.2 & 0.2\\\\0.6 & 0.2 & 0.2\\\\0.6 & 0.2 & 0.2\\end{matrix}\\right]$"
      ],
      "text/plain": [
       "<IPython.core.display.Math object>"
      ]
     },
     "metadata": {},
     "output_type": "display_data"
    },
    {
     "data": {
      "text/latex": [
       "$\\displaystyle P^100000 =\\left[\\begin{matrix}0.6 & 0.2 & 0.2\\\\0.6 & 0.2 & 0.2\\\\0.6 & 0.2 & 0.2\\end{matrix}\\right]$"
      ],
      "text/plain": [
       "<IPython.core.display.Math object>"
      ]
     },
     "metadata": {},
     "output_type": "display_data"
    }
   ],
   "source": [
    "display(Prob(1000, A=C, B=P)[2])\n",
    "display(Prob(10000, A=C, B=P)[2])\n",
    "display(Prob(100000, A=C, B=P)[2])"
   ]
  },
  {
   "cell_type": "markdown",
   "metadata": {},
   "source": [
    "From this, we can conclude:\n",
    "\n",
    "$$\\lim_{x \\rightarrow \\infty} P^n = \\frac{1}{5}\n",
    "\\begin{bmatrix}\n",
    "    3 & 1 & 1 \\\\\n",
    "    3 & 1 & 1 \\\\\n",
    "    3 & 1 & 1\n",
    "\\end{bmatrix}$$"
   ]
  },
  {
   "cell_type": "markdown",
   "metadata": {},
   "source": [
    "As the row vectors are all the same, we can conclude that the probability of the wolf ending up at each location is independent of the starting position. "
   ]
  },
  {
   "cell_type": "code",
   "execution_count": null,
   "metadata": {},
   "outputs": [],
   "source": []
  }
 ],
 "metadata": {
  "kernelspec": {
   "display_name": "Python 3",
   "language": "python",
   "name": "python3"
  },
  "language_info": {
   "codemirror_mode": {
    "name": "ipython",
    "version": 3
   },
   "file_extension": ".py",
   "mimetype": "text/x-python",
   "name": "python",
   "nbconvert_exporter": "python",
   "pygments_lexer": "ipython3",
   "version": "3.7.1"
  }
 },
 "nbformat": 4,
 "nbformat_minor": 2
}
